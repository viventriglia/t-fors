{
 "cells": [
  {
   "cell_type": "code",
   "execution_count": null,
   "id": "8e3f45f6",
   "metadata": {},
   "outputs": [],
   "source": [
    "from pathlib import Path\n",
    "\n",
    "import pandas as pd\n",
    "import numpy as np\n",
    "from statsmodels.graphics.tsaplots import plot_acf, plot_pacf\n",
    "import stumpy\n",
    "import plotly.express as px\n",
    "import matplotlib.pyplot as plt\n",
    "from matplotlib.patches import Rectangle\n",
    "\n",
    "from var import DATA_IN, DATA_OUT, START_DATE, END_DATE\n",
    "from src.io import read_time_series\n",
    "from src.preprocess import resample_time_series"
   ]
  },
  {
   "cell_type": "code",
   "execution_count": null,
   "id": "85d03e71",
   "metadata": {},
   "outputs": [],
   "source": [
    "df_tid = read_time_series(\n",
    "    Path(DATA_IN, 'TID_catalog.csv'),\n",
    "    column_names=[\n",
    "        'duration',\n",
    "        'period',\n",
    "        'amplitude',\n",
    "        'spectral_contribution',\n",
    "        'velocity',\n",
    "        'azimuth',\n",
    "        'quality_index',\n",
    "        'datetime',\n",
    "    ],\n",
    ")"
   ]
  },
  {
   "cell_type": "code",
   "execution_count": null,
   "id": "d45db2ae",
   "metadata": {},
   "outputs": [],
   "source": [
    "df_tid_res = resample_time_series(\n",
    "    df_tid[df_tid['quality_index'].ge(.6)],\n",
    "    aggregation_function='max',\n",
    "    time_interval='6H'\n",
    ")"
   ]
  },
  {
   "cell_type": "code",
   "execution_count": null,
   "id": "10d3367c",
   "metadata": {},
   "outputs": [],
   "source": [
    "# 324\n",
    "df_tid_res.notna().sum()"
   ]
  },
  {
   "cell_type": "code",
   "execution_count": null,
   "id": "a5e258bb",
   "metadata": {},
   "outputs": [],
   "source": [
    "df_tid_res['is_tid'] = np.where(\n",
    "    df_tid_res['quality_index'].notna(),\n",
    "    1,\n",
    "    0,\n",
    ")"
   ]
  },
  {
   "cell_type": "code",
   "execution_count": null,
   "id": "0be7c15d",
   "metadata": {},
   "outputs": [],
   "source": [
    "plot_acf(\n",
    "    df_tid_res['is_tid'],\n",
    "    lags=41,\n",
    ");"
   ]
  },
  {
   "cell_type": "markdown",
   "id": "2bec9756",
   "metadata": {},
   "source": [
    "## Motifs"
   ]
  },
  {
   "cell_type": "code",
   "execution_count": null,
   "id": "6d1546a0",
   "metadata": {},
   "outputs": [],
   "source": [
    "df = pd.read_pickle(Path(DATA_OUT, 'df_dataset.pickle'))"
   ]
  },
  {
   "cell_type": "code",
   "execution_count": null,
   "id": "c9fbef87",
   "metadata": {},
   "outputs": [],
   "source": [
    "ANNO = '2020'\n",
    "FEATURE = 'iu_fix'"
   ]
  },
  {
   "cell_type": "code",
   "execution_count": null,
   "id": "dc719e3e",
   "metadata": {},
   "outputs": [],
   "source": [
    "n_hours = 6\n",
    "window_size = 2 * n_hours\n",
    "\n",
    "mp = stumpy.stump(\n",
    "    df.loc[ANNO][FEATURE],\n",
    "    m=window_size,\n",
    ")"
   ]
  },
  {
   "cell_type": "code",
   "execution_count": null,
   "id": "55ee5f1f",
   "metadata": {},
   "outputs": [],
   "source": [
    "px.line(\n",
    "    mp[:,0]\n",
    ")"
   ]
  },
  {
   "cell_type": "code",
   "execution_count": null,
   "id": "b6033f81",
   "metadata": {},
   "outputs": [],
   "source": [
    "df_mp = pd.DataFrame(\n",
    "    mp,\n",
    "    columns=[\n",
    "        'profile',\n",
    "        'profile idx',\n",
    "        'left profile idx',\n",
    "        'right profile idx',\n",
    "    ],\n",
    ")"
   ]
  },
  {
   "cell_type": "code",
   "execution_count": null,
   "id": "32fa3f4e",
   "metadata": {},
   "outputs": [],
   "source": [
    "best_motif_idx = df_mp[\n",
    "    df_mp['profile'].le(df_mp['profile'].quantile(.005))\n",
    "].index"
   ]
  },
  {
   "cell_type": "code",
   "execution_count": null,
   "id": "3c4dba11",
   "metadata": {},
   "outputs": [],
   "source": [
    "x = df.loc[ANNO].reset_index().index\n",
    "y = df.loc[ANNO][FEATURE]"
   ]
  },
  {
   "cell_type": "code",
   "execution_count": null,
   "id": "540cc7c0",
   "metadata": {},
   "outputs": [],
   "source": [
    "profile = df_mp['profile']\n",
    "\n",
    "fig, ax = plt.subplots(2, figsize=(16,8), sharex=True)\n",
    "ax[0].plot(x, y)\n",
    "ax[1].plot(profile.index, profile)\n",
    "\n",
    "for idx in best_motif_idx:\n",
    "    ax[0].axvline(x=idx, color=\"green\")\n",
    "    ax[1].axvline(x=idx, color=\"green\")\n",
    "    rect = Rectangle(\n",
    "        (idx, 0),\n",
    "        window_size,\n",
    "        40,\n",
    "        facecolor=\"lightgrey\",\n",
    "    )\n",
    "    ax[0].add_patch(rect)"
   ]
  },
  {
   "cell_type": "code",
   "execution_count": null,
   "id": "f9a9f420",
   "metadata": {},
   "outputs": [],
   "source": [
    "N = 6\n",
    "\n",
    "setx = df_mp[\n",
    "    df_mp['profile'].le(df_mp['profile'].quantile(0.05))\n",
    "].sort_values('profile').iloc[N:N+2].index"
   ]
  },
  {
   "cell_type": "code",
   "execution_count": null,
   "id": "022cdccc",
   "metadata": {},
   "outputs": [],
   "source": [
    "fig, ax = plt.subplots(figsize=(16,4))\n",
    "\n",
    "for idx in setx:\n",
    "    plot_y = y.iloc[idx:(idx+window_size)].to_list()\n",
    "    ax.plot(plot_y)"
   ]
  },
  {
   "cell_type": "code",
   "execution_count": null,
   "id": "f16c529d",
   "metadata": {},
   "outputs": [],
   "source": [
    "df.loc[ANNO].reset_index().loc[setx]"
   ]
  },
  {
   "cell_type": "code",
   "execution_count": null,
   "id": "19390bd7",
   "metadata": {
    "scrolled": false
   },
   "outputs": [],
   "source": [
    "start_1, end_1 = '2020-11-02 15:30', '2020-11-02 21:30'\n",
    "start_2, end_2 = '2020-11-19 17:00', '2020-11-19 23:00'\n",
    "\n",
    "fig = px.line(\n",
    "    df.loc['2020-11-02':'2020-11-19'][FEATURE]\n",
    ")\n",
    "\n",
    "fig.add_shape(\n",
    "    type='rect',\n",
    "    x0=start_1,\n",
    "    x1=end_1,\n",
    "    y0=fig.data[0].y.min(),\n",
    "    y1=fig.data[0].y.max(),\n",
    "    line=dict(color='red', width=2),\n",
    "    fillcolor='rgba(255, 0, 0, 0.2)'\n",
    ")\n",
    "\n",
    "fig.add_shape(\n",
    "    type='rect',\n",
    "    x0=start_2,\n",
    "    x1=end_2,\n",
    "    y0=fig.data[0].y.min(),\n",
    "    y1=fig.data[0].y.max(),\n",
    "    line=dict(color='red', width=2),\n",
    "    fillcolor='rgba(255, 0, 0, 0.2)'\n",
    ")"
   ]
  },
  {
   "cell_type": "code",
   "execution_count": null,
   "id": "b6176657",
   "metadata": {},
   "outputs": [],
   "source": [
    "df.loc['2020-11-02':'2020-11-19']['tid_within_3h'].value_counts()"
   ]
  }
 ],
 "metadata": {
  "kernelspec": {
   "display_name": "Python 3 (ipykernel)",
   "language": "python",
   "name": "python3"
  },
  "language_info": {
   "codemirror_mode": {
    "name": "ipython",
    "version": 3
   },
   "file_extension": ".py",
   "mimetype": "text/x-python",
   "name": "python",
   "nbconvert_exporter": "python",
   "pygments_lexer": "ipython3",
   "version": "3.10.8"
  }
 },
 "nbformat": 4,
 "nbformat_minor": 5
}
