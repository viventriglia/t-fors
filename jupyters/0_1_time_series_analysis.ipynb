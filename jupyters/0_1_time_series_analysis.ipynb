{
 "cells": [
  {
   "cell_type": "code",
   "execution_count": null,
   "id": "8e3f45f6",
   "metadata": {
    "scrolled": true
   },
   "outputs": [],
   "source": [
    "from pathlib import Path\n",
    "\n",
    "import pandas as pd\n",
    "import numpy as np\n",
    "from statsmodels.graphics.tsaplots import plot_acf, plot_pacf\n",
    "import stumpy\n",
    "import plotly.express as px\n",
    "import matplotlib.pyplot as plt\n",
    "from matplotlib.patches import Rectangle\n",
    "\n",
    "from var import DATA_IN, DATA_OUT, START_DATE, END_DATE\n",
    "from src.io import read_time_series\n",
    "from src.preprocess import resample_time_series"
   ]
  },
  {
   "cell_type": "code",
   "execution_count": null,
   "id": "6d1546a0",
   "metadata": {
    "scrolled": true
   },
   "outputs": [],
   "source": [
    "df = pd.read_pickle(Path(DATA_OUT, 'df_dataset.pickle'))"
   ]
  },
  {
   "cell_type": "code",
   "execution_count": null,
   "id": "85d03e71",
   "metadata": {
    "scrolled": true
   },
   "outputs": [],
   "source": [
    "df_tid = read_time_series(\n",
    "    Path(DATA_IN, 'TID_catalog.csv'),\n",
    "    column_names=[\n",
    "        'duration',\n",
    "        'period',\n",
    "        'amplitude',\n",
    "        'spectral_contribution',\n",
    "        'velocity',\n",
    "        'azimuth',\n",
    "        'quality_index',\n",
    "        'datetime',\n",
    "    ],\n",
    ")"
   ]
  },
  {
   "cell_type": "code",
   "execution_count": null,
   "id": "d45db2ae",
   "metadata": {
    "scrolled": true
   },
   "outputs": [],
   "source": [
    "df_tid_res = resample_time_series(\n",
    "    df_tid[df_tid['quality_index'].ge(.6)],\n",
    "    aggregation_function='max',\n",
    "    time_interval='6H'\n",
    ")"
   ]
  },
  {
   "cell_type": "code",
   "execution_count": null,
   "id": "10d3367c",
   "metadata": {
    "scrolled": true
   },
   "outputs": [],
   "source": [
    "# 324\n",
    "df_tid_res.notna().sum()"
   ]
  },
  {
   "cell_type": "code",
   "execution_count": null,
   "id": "a5e258bb",
   "metadata": {
    "scrolled": true
   },
   "outputs": [],
   "source": [
    "df_tid_res['is_tid'] = np.where(\n",
    "    df_tid_res['quality_index'].notna(),\n",
    "    1,\n",
    "    0,\n",
    ")"
   ]
  },
  {
   "cell_type": "code",
   "execution_count": null,
   "id": "0be7c15d",
   "metadata": {
    "scrolled": true
   },
   "outputs": [],
   "source": [
    "plot_acf(\n",
    "    df_tid_res['is_tid'],\n",
    "    lags=41,\n",
    ");"
   ]
  },
  {
   "cell_type": "markdown",
   "id": "2bec9756",
   "metadata": {},
   "source": [
    "## Motifs"
   ]
  },
  {
   "cell_type": "code",
   "execution_count": null,
   "id": "c9fbef87",
   "metadata": {
    "scrolled": true
   },
   "outputs": [],
   "source": [
    "ANNO = '2020'\n",
    "FEATURE = 'iu_fix'"
   ]
  },
  {
   "cell_type": "code",
   "execution_count": null,
   "id": "dc719e3e",
   "metadata": {
    "scrolled": true
   },
   "outputs": [],
   "source": [
    "n_hours = 6\n",
    "window_size = 2 * n_hours\n",
    "\n",
    "mp = stumpy.stump(\n",
    "    df.loc[ANNO][FEATURE],\n",
    "    m=window_size,\n",
    ")"
   ]
  },
  {
   "cell_type": "code",
   "execution_count": null,
   "id": "55ee5f1f",
   "metadata": {
    "scrolled": true
   },
   "outputs": [],
   "source": [
    "px.line(\n",
    "    mp[:,0]\n",
    ")"
   ]
  },
  {
   "cell_type": "code",
   "execution_count": null,
   "id": "b6033f81",
   "metadata": {
    "scrolled": true
   },
   "outputs": [],
   "source": [
    "df_mp = pd.DataFrame(\n",
    "    mp,\n",
    "    columns=[\n",
    "        'profile',\n",
    "        'profile idx',\n",
    "        'left profile idx',\n",
    "        'right profile idx',\n",
    "    ],\n",
    ")"
   ]
  },
  {
   "cell_type": "code",
   "execution_count": null,
   "id": "32fa3f4e",
   "metadata": {
    "scrolled": true
   },
   "outputs": [],
   "source": [
    "best_motif_idx = df_mp[\n",
    "    df_mp['profile'].le(df_mp['profile'].quantile(.005))\n",
    "].index"
   ]
  },
  {
   "cell_type": "code",
   "execution_count": null,
   "id": "3c4dba11",
   "metadata": {
    "scrolled": true
   },
   "outputs": [],
   "source": [
    "x = df.loc[ANNO].reset_index().index\n",
    "y = df.loc[ANNO][FEATURE]"
   ]
  },
  {
   "cell_type": "code",
   "execution_count": null,
   "id": "540cc7c0",
   "metadata": {
    "scrolled": true
   },
   "outputs": [],
   "source": [
    "profile = df_mp['profile']\n",
    "\n",
    "fig, ax = plt.subplots(2, figsize=(16,8), sharex=True)\n",
    "ax[0].plot(x, y)\n",
    "ax[1].plot(profile.index, profile)\n",
    "\n",
    "for idx in best_motif_idx:\n",
    "    ax[0].axvline(x=idx, color=\"green\")\n",
    "    ax[1].axvline(x=idx, color=\"green\")\n",
    "    rect = Rectangle(\n",
    "        (idx, 0),\n",
    "        window_size,\n",
    "        40,\n",
    "        facecolor=\"lightgrey\",\n",
    "    )\n",
    "    ax[0].add_patch(rect)"
   ]
  },
  {
   "cell_type": "code",
   "execution_count": null,
   "id": "f9a9f420",
   "metadata": {
    "scrolled": true
   },
   "outputs": [],
   "source": [
    "N = 6\n",
    "\n",
    "setx = df_mp[\n",
    "    df_mp['profile'].le(df_mp['profile'].quantile(0.05))\n",
    "].sort_values('profile').iloc[N:N+2].index"
   ]
  },
  {
   "cell_type": "code",
   "execution_count": null,
   "id": "022cdccc",
   "metadata": {
    "scrolled": true
   },
   "outputs": [],
   "source": [
    "fig, ax = plt.subplots(figsize=(16,4))\n",
    "\n",
    "for idx in setx:\n",
    "    plot_y = y.iloc[idx:(idx+window_size)].to_list()\n",
    "    ax.plot(plot_y)"
   ]
  },
  {
   "cell_type": "code",
   "execution_count": null,
   "id": "f16c529d",
   "metadata": {
    "scrolled": true
   },
   "outputs": [],
   "source": [
    "df.loc[ANNO].reset_index().loc[setx]"
   ]
  },
  {
   "cell_type": "code",
   "execution_count": null,
   "id": "19390bd7",
   "metadata": {
    "scrolled": true
   },
   "outputs": [],
   "source": [
    "start_1, end_1 = '2020-11-02 15:30', '2020-11-02 21:30'\n",
    "start_2, end_2 = '2020-11-19 17:00', '2020-11-19 23:00'\n",
    "\n",
    "fig = px.line(\n",
    "    df.loc['2020-11-02':'2020-11-19'][FEATURE]\n",
    ")\n",
    "\n",
    "fig.add_shape(\n",
    "    type='rect',\n",
    "    x0=start_1,\n",
    "    x1=end_1,\n",
    "    y0=fig.data[0].y.min(),\n",
    "    y1=fig.data[0].y.max(),\n",
    "    line=dict(color='red', width=2),\n",
    "    fillcolor='rgba(255, 0, 0, 0.2)'\n",
    ")\n",
    "\n",
    "fig.add_shape(\n",
    "    type='rect',\n",
    "    x0=start_2,\n",
    "    x1=end_2,\n",
    "    y0=fig.data[0].y.min(),\n",
    "    y1=fig.data[0].y.max(),\n",
    "    line=dict(color='red', width=2),\n",
    "    fillcolor='rgba(255, 0, 0, 0.2)'\n",
    ")"
   ]
  },
  {
   "cell_type": "code",
   "execution_count": null,
   "id": "b6176657",
   "metadata": {
    "scrolled": true
   },
   "outputs": [],
   "source": [
    "df.loc['2020-11-02':'2020-11-19']['tid_within_3h'].value_counts()"
   ]
  },
  {
   "cell_type": "markdown",
   "id": "2b4aca8c",
   "metadata": {},
   "source": [
    "## Time serie analysis"
   ]
  },
  {
   "cell_type": "markdown",
   "id": "a3f9199a",
   "metadata": {},
   "source": [
    "Time distribution between one TID event and the following one"
   ]
  },
  {
   "cell_type": "code",
   "execution_count": null,
   "id": "afa609a8",
   "metadata": {
    "scrolled": true
   },
   "outputs": [],
   "source": [
    "periods = 16\n",
    "\n",
    "second_order_diff = (\n",
    "    24 * df_tid.index.to_series().diff(periods).diff(periods).dt.days\n",
    ") + (\n",
    "    df_tid.index.to_series().diff(periods).diff(periods).dt.total_seconds().div(3600)\n",
    ").dropna()"
   ]
  },
  {
   "cell_type": "code",
   "execution_count": null,
   "id": "f0afde90",
   "metadata": {
    "scrolled": true
   },
   "outputs": [],
   "source": [
    "px.histogram(second_order_diff)"
   ]
  },
  {
   "cell_type": "code",
   "execution_count": null,
   "id": "621f0137",
   "metadata": {
    "scrolled": true
   },
   "outputs": [],
   "source": [
    "second_order_diff.describe()"
   ]
  },
  {
   "cell_type": "code",
   "execution_count": null,
   "id": "d4a615c1",
   "metadata": {
    "scrolled": true
   },
   "outputs": [],
   "source": [
    "second_order_diff.kurtosis(), second_order_diff.skew()"
   ]
  },
  {
   "cell_type": "code",
   "execution_count": null,
   "id": "23bcab82",
   "metadata": {
    "scrolled": true
   },
   "outputs": [],
   "source": [
    "from scipy.stats import shapiro, normaltest, kstest\n",
    "\n",
    "shapiro(second_order_diff.dropna())"
   ]
  },
  {
   "cell_type": "code",
   "execution_count": null,
   "id": "9739fa0f",
   "metadata": {
    "scrolled": true
   },
   "outputs": [],
   "source": [
    "normaltest(second_order_diff.dropna())"
   ]
  },
  {
   "cell_type": "code",
   "execution_count": null,
   "id": "16a0fe8c",
   "metadata": {
    "scrolled": true
   },
   "outputs": [],
   "source": [
    "# Kolmogorov-Smirnov test\n",
    "ks_statistic, ks_p_value = kstest(second_order_diff.dropna(), 'cauchy')\n",
    "\n",
    "print(f'KS Statistic: {ks_statistic}')\n",
    "print(f'P-value: {ks_p_value}')\n",
    "\n",
    "if ks_p_value < 0.05:\n",
    "    print('Not a Cauchy-Lorentz distribution')\n",
    "else:\n",
    "    print('A Cauchy-Lorentz distribution')"
   ]
  },
  {
   "cell_type": "markdown",
   "id": "9e524ee8",
   "metadata": {
    "scrolled": true
   },
   "source": [
    "## Lags"
   ]
  },
  {
   "cell_type": "code",
   "execution_count": null,
   "id": "f8a39ae0",
   "metadata": {},
   "outputs": [],
   "source": [
    "df_ = df.dropna().copy(deep=True)"
   ]
  },
  {
   "cell_type": "code",
   "execution_count": null,
   "id": "4cd2d5c0",
   "metadata": {},
   "outputs": [],
   "source": [
    "df_['tid_within_3h'] = df_['tid_within_3h'].replace(\n",
    "    {True: 1, False: 0}\n",
    ")"
   ]
  },
  {
   "cell_type": "code",
   "execution_count": null,
   "id": "8bf38084",
   "metadata": {},
   "outputs": [],
   "source": [
    "n_days = 2\n",
    "window = 2 * 24 * n_days\n",
    "\n",
    "df_['bz'].rolling(window=window).corr(\n",
    "    df_['tid_within_3h']#.shift(-4)\n",
    ").max()"
   ]
  },
  {
   "cell_type": "markdown",
   "id": "09f6419b",
   "metadata": {},
   "source": [
    "## Delta B"
   ]
  },
  {
   "cell_type": "code",
   "execution_count": null,
   "id": "90384ad6",
   "metadata": {},
   "outputs": [],
   "source": [
    "px.line(\n",
    "    df['bz'].loc['2022-11']\n",
    ")"
   ]
  },
  {
   "cell_type": "code",
   "execution_count": null,
   "id": "9d09a622",
   "metadata": {},
   "outputs": [],
   "source": [
    "from src.preprocess import get_categories"
   ]
  },
  {
   "cell_type": "code",
   "execution_count": null,
   "id": "e12c0522",
   "metadata": {},
   "outputs": [],
   "source": [
    "fb_ema, categories = get_categories(\n",
    "    df['bz'].loc['2022-11-01'],\n",
    "    window=4,\n",
    ")"
   ]
  },
  {
   "cell_type": "code",
   "execution_count": null,
   "id": "ca59ec6a",
   "metadata": {
    "scrolled": false
   },
   "outputs": [],
   "source": [
    "fig = px.scatter(\n",
    "    df['bz'].loc['2022-11-01'],\n",
    "    color=np.insert(categories, 0, 0, axis=0),\n",
    ")\n",
    "\n",
    "fig.add_scatter(\n",
    "    x=fb_ema.index,\n",
    "    y=fb_ema,\n",
    "    name='EMA'\n",
    ")"
   ]
  }
 ],
 "metadata": {
  "kernelspec": {
   "display_name": "Python 3 (ipykernel)",
   "language": "python",
   "name": "python3"
  },
  "language_info": {
   "codemirror_mode": {
    "name": "ipython",
    "version": 3
   },
   "file_extension": ".py",
   "mimetype": "text/x-python",
   "name": "python",
   "nbconvert_exporter": "python",
   "pygments_lexer": "ipython3",
   "version": "3.10.8"
  }
 },
 "nbformat": 4,
 "nbformat_minor": 5
}
