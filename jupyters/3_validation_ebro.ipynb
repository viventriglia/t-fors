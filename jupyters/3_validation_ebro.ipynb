{
 "cells": [
  {
   "cell_type": "code",
   "execution_count": null,
   "id": "dbf0de3c",
   "metadata": {},
   "outputs": [],
   "source": [
    "from pathlib import Path\n",
    "\n",
    "import numpy as np\n",
    "import pandas as pd\n",
    "import plotly.express as px\n",
    "\n",
    "from var import DATA_OUT"
   ]
  },
  {
   "cell_type": "code",
   "execution_count": null,
   "id": "6c1eab7d",
   "metadata": {},
   "outputs": [],
   "source": [
    "df_diff = pd.read_pickle(Path(DATA_OUT, 'df_eval.pickle'))[\n",
    "    ['true','pred_f1_max','pred_p_80','pred_r_60']\n",
    "]"
   ]
  },
  {
   "cell_type": "code",
   "execution_count": null,
   "id": "846e43ec",
   "metadata": {},
   "outputs": [],
   "source": [
    "df_diff['hsens'] = df_diff['pred_r_60'] - df_diff['true']\n",
    "df_diff['hprec'] = df_diff['pred_p_80'] - df_diff['true']\n",
    "df_diff['blncd'] = df_diff['pred_f1_max'] - df_diff['true']"
   ]
  },
  {
   "cell_type": "code",
   "execution_count": null,
   "id": "92fceb3f",
   "metadata": {
    "scrolled": false
   },
   "outputs": [],
   "source": [
    "# px.histogram(\n",
    "#     df_diff['blncd'],\n",
    "#     histnorm='percent',\n",
    "# )"
   ]
  },
  {
   "cell_type": "code",
   "execution_count": null,
   "id": "96b61e0b",
   "metadata": {},
   "outputs": [],
   "source": [
    "df_val = df_diff[df_diff['blncd'].eq(1)].copy()\n",
    "df_val.shape[0]"
   ]
  },
  {
   "cell_type": "code",
   "execution_count": null,
   "id": "16ab9983",
   "metadata": {},
   "outputs": [],
   "source": [
    "df_val['hours'] = df_val.index.diff(periods=-1).total_seconds() / 3_600\n",
    "\n",
    "dates = set(\n",
    "    pd.to_datetime(\n",
    "        df_val[df_val['hours'].lt(-5)].index\n",
    "    )\n",
    ")"
   ]
  },
  {
   "cell_type": "code",
   "execution_count": null,
   "id": "a4cb0b57",
   "metadata": {
    "scrolled": false
   },
   "outputs": [],
   "source": [
    "pd.DataFrame(dates)[0].sort_values().reset_index(drop=True).to_clipboard()"
   ]
  },
  {
   "cell_type": "code",
   "execution_count": null,
   "id": "3f26af9e",
   "metadata": {},
   "outputs": [],
   "source": [
    "px.histogram(df_val['hours'])"
   ]
  }
 ],
 "metadata": {
  "kernelspec": {
   "display_name": "Python 3 (ipykernel)",
   "language": "python",
   "name": "python3"
  },
  "language_info": {
   "codemirror_mode": {
    "name": "ipython",
    "version": 3
   },
   "file_extension": ".py",
   "mimetype": "text/x-python",
   "name": "python",
   "nbconvert_exporter": "python",
   "pygments_lexer": "ipython3",
   "version": "3.10.8"
  }
 },
 "nbformat": 4,
 "nbformat_minor": 5
}
