{
 "cells": [
  {
   "cell_type": "code",
   "execution_count": null,
   "id": "d0ebd374",
   "metadata": {
    "scrolled": false
   },
   "outputs": [],
   "source": [
    "from pathlib import Path\n",
    "\n",
    "import pandas as pd\n",
    "import numpy as np\n",
    "from sklearn.metrics import (\n",
    "    f1_score,\n",
    "    precision_recall_fscore_support,\n",
    "    roc_auc_score,\n",
    "    roc_curve,\n",
    "    auc,\n",
    "    precision_recall_curve,\n",
    "    confusion_matrix\n",
    ")\n",
    "from catboost import Pool, CatBoostClassifier\n",
    "import shap\n",
    "shap.initjs()\n",
    "import plotly.express as px\n",
    "import plotly.graph_objects as go\n",
    "from plotly.subplots import make_subplots\n",
    "\n",
    "from var import DATA_OUT, IMAGE_OUT, FORECAST_HOURS_IN_ADVANCE"
   ]
  },
  {
   "cell_type": "code",
   "execution_count": null,
   "id": "132cda7b",
   "metadata": {
    "scrolled": false
   },
   "outputs": [],
   "source": [
    "df = pd.read_pickle(Path(DATA_OUT, 'df_dataset.pickle'))"
   ]
  },
  {
   "cell_type": "code",
   "execution_count": null,
   "id": "4a36726e",
   "metadata": {
    "scrolled": false
   },
   "outputs": [],
   "source": [
    "X = df[\n",
    "    [\n",
    "        'f_107_adj',\n",
    "        'solar_zenith_angle',\n",
    "        'newell',\n",
    "#         'bz',\n",
    "#         'vx',\n",
    "#         'rho',\n",
    "    ]\n",
    "].copy()\n",
    "\n",
    "y = df[f'tid_within_{FORECAST_HOURS_IN_ADVANCE}h'].copy()"
   ]
  },
  {
   "cell_type": "code",
   "execution_count": null,
   "id": "5f94846c",
   "metadata": {},
   "outputs": [],
   "source": [
    "HOURS_LAG = 4\n",
    "\n",
    "X['newell_lagged'] = X['newell'].shift(2*HOURS_LAG)"
   ]
  },
  {
   "cell_type": "code",
   "execution_count": null,
   "id": "d4d05380",
   "metadata": {
    "scrolled": false
   },
   "outputs": [],
   "source": [
    "static_params = {\n",
    "    \"eval_metric\": 'F1',\n",
    "    \"random_seed\": 42,\n",
    "    \"auto_class_weights\": \"SqrtBalanced\",\n",
    "    \"od_type\": \"Iter\",\n",
    "    \"use_best_model\": True,\n",
    "    \"has_time\": True,\n",
    "    \"od_wait\": 200,\n",
    "}"
   ]
  },
  {
   "cell_type": "code",
   "execution_count": null,
   "id": "83c3a8f0",
   "metadata": {},
   "outputs": [],
   "source": [
    "X_train, y_train = X.loc['2014':'2021-06'].copy(), y.loc['2014':'2021-06'].copy()\n",
    "X_test, y_test = X.loc['2021-07':].copy(), y.loc['2021-07':].copy()"
   ]
  },
  {
   "cell_type": "code",
   "execution_count": null,
   "id": "9fc94bc9",
   "metadata": {},
   "outputs": [],
   "source": [
    "model = CatBoostClassifier(\n",
    "    loss_function='Logloss',\n",
    "    iterations=2_000,\n",
    "    **static_params,\n",
    ")\n",
    "\n",
    "model = model.fit(\n",
    "    X_train,\n",
    "    y_train,\n",
    "    eval_set=(X_test, y_test),\n",
    "    silent=True,\n",
    ")"
   ]
  },
  {
   "cell_type": "code",
   "execution_count": null,
   "id": "25126102",
   "metadata": {},
   "outputs": [],
   "source": [
    "y_pred = model.predict(X_test)"
   ]
  },
  {
   "cell_type": "code",
   "execution_count": null,
   "id": "033b42cb",
   "metadata": {},
   "outputs": [],
   "source": [
    "p, r, f, _ = precision_recall_fscore_support(y_test, y_pred)"
   ]
  },
  {
   "cell_type": "code",
   "execution_count": null,
   "id": "a4e3948a",
   "metadata": {},
   "outputs": [],
   "source": [
    "print(f'{p[1].round(3)} precision | {r[1].round(3)} recall | {f[1].round(3)} F1-score')"
   ]
  },
  {
   "cell_type": "code",
   "execution_count": null,
   "id": "e7b26044",
   "metadata": {},
   "outputs": [],
   "source": [
    "shap_values = model.get_feature_importance(\n",
    "    Pool(X_test, label=y_test),\n",
    "    type=\"ShapValues\",\n",
    ")\n",
    "\n",
    "shap_values = shap_values[:,:-1]"
   ]
  },
  {
   "cell_type": "code",
   "execution_count": null,
   "id": "4e1fb48f",
   "metadata": {},
   "outputs": [],
   "source": [
    "shap.summary_plot(\n",
    "    shap_values,\n",
    "    X_test,\n",
    ")"
   ]
  },
  {
   "cell_type": "code",
   "execution_count": null,
   "id": "197c25c5",
   "metadata": {},
   "outputs": [],
   "source": [
    "import seaborn as sns\n",
    "import matplotlib.pyplot as plt\n",
    "\n",
    "conf_matrix = confusion_matrix(y_test, y_pred, normalize='true')\n",
    "\n",
    "plt.figure(figsize=(8, 8))\n",
    "\n",
    "sns.set(font_scale=1.5)\n",
    "\n",
    "sns.heatmap(\n",
    "    conf_matrix,\n",
    "    annot=True,\n",
    "    fmt='.2f',\n",
    "    cmap='Blues',\n",
    "    cbar=False,\n",
    "    xticklabels=['TID not predicted', 'TID predicted'],\n",
    "    yticklabels=['TID doesn\\'t occur', 'TID occurs'],\n",
    ")\n",
    "\n",
    "# plt.savefig(\n",
    "#     Path(IMAGE_OUT, f'confusion_matrix.png', dpi=500, bbox_inches='tight')\n",
    "# )\n",
    "\n",
    "plt.show()"
   ]
  }
 ],
 "metadata": {
  "kernelspec": {
   "display_name": "Python 3 (ipykernel)",
   "language": "python",
   "name": "python3"
  },
  "language_info": {
   "codemirror_mode": {
    "name": "ipython",
    "version": 3
   },
   "file_extension": ".py",
   "mimetype": "text/x-python",
   "name": "python",
   "nbconvert_exporter": "python",
   "pygments_lexer": "ipython3",
   "version": "3.10.8"
  }
 },
 "nbformat": 4,
 "nbformat_minor": 5
}
