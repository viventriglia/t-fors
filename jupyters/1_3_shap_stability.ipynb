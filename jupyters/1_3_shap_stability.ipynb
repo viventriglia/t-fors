{
 "cells": [
  {
   "cell_type": "code",
   "execution_count": null,
   "id": "d0ebd374",
   "metadata": {
    "scrolled": false
   },
   "outputs": [],
   "source": [
    "from pathlib import Path\n",
    "\n",
    "import pandas as pd\n",
    "from catboost import Pool, CatBoostClassifier\n",
    "import shap\n",
    "shap.initjs()\n",
    "import matplotlib.pyplot as plt\n",
    "\n",
    "from var import DATA_OUT, IMAGE_OUT, FORECAST_HOURS_IN_ADVANCE"
   ]
  },
  {
   "cell_type": "code",
   "execution_count": null,
   "id": "132cda7b",
   "metadata": {
    "scrolled": false
   },
   "outputs": [],
   "source": [
    "df = pd.read_pickle(Path(DATA_OUT, 'df_dataset.pickle'))"
   ]
  },
  {
   "cell_type": "code",
   "execution_count": null,
   "id": "4a36726e",
   "metadata": {
    "scrolled": false
   },
   "outputs": [],
   "source": [
    "X = df[\n",
    "    [\n",
    "        *[col_ for col_ in df.columns if col_.startswith('ie_')],\n",
    "        *[col_ for col_ in df.columns if col_.startswith('il_')],\n",
    "        *[col_ for col_ in df.columns if col_.startswith('iu_')],\n",
    "        *[col_ for col_ in df.columns if col_.startswith('io_')],\n",
    "        'hf',\n",
    "        'hf_mav_2h',\n",
    "        'f_107_adj',\n",
    "        'hp_30',\n",
    "        'smr',\n",
    "        'solar_zenith_angle',\n",
    "        'bz',\n",
    "        'vx',\n",
    "        'rho',\n",
    "        *[col_ for col_ in df.columns if col_.startswith('local_warning_')],\n",
    "        *[col_ for col_ in df.columns if col_.startswith('spectral_contribution_')],\n",
    "        *[col_ for col_ in df.columns if col_.startswith('azimuth_')],\n",
    "        *[col_ for col_ in df.columns if col_.startswith('velocity_')],\n",
    "    ]\n",
    "].rename(\n",
    "    columns={\n",
    "        'spectral_contribution_at': 'spct_cont_at',\n",
    "        'spectral_contribution_ff': 'spct_cont_ff',\n",
    "        'spectral_contribution_jr': 'spct_cont_jr',\n",
    "        'spectral_contribution_pq': 'spct_cont_pq',\n",
    "        'spectral_contribution_ro': 'spct_cont_ro',\n",
    "        'spectral_contribution_vt': 'spct_cont_vt',\n",
    "    }\n",
    ").copy()\n",
    "\n",
    "y = df[f'tid_within_{FORECAST_HOURS_IN_ADVANCE}h'].copy()"
   ]
  },
  {
   "cell_type": "code",
   "execution_count": null,
   "id": "d4d05380",
   "metadata": {
    "scrolled": false
   },
   "outputs": [],
   "source": [
    "cat_features = [\n",
    "    *[col_ for col_ in df.columns if col_.endswith('_variation')],\n",
    "    *[col_ for col_ in df.columns if col_.startswith('local_warning_')],\n",
    "]\n",
    "\n",
    "static_params = {\n",
    "    \"eval_metric\": 'F1',\n",
    "    \"random_seed\": 42,\n",
    "    \"auto_class_weights\": \"SqrtBalanced\",\n",
    "    \"cat_features\": cat_features,\n",
    "    \"od_type\": \"Iter\",\n",
    "    \"use_best_model\": True,\n",
    "    \"has_time\": True,\n",
    "    \"od_wait\": 200,\n",
    "}"
   ]
  },
  {
   "cell_type": "code",
   "execution_count": null,
   "id": "2d066396",
   "metadata": {
    "scrolled": false
   },
   "outputs": [],
   "source": [
    "X_train, y_train = X.loc['2014':'2021'].copy(), y.loc['2014':'2021'].copy()\n",
    "X_test, y_test = X.loc['2022'].copy(), y.loc['2022'].copy()"
   ]
  },
  {
   "cell_type": "code",
   "execution_count": null,
   "id": "9da44c65",
   "metadata": {},
   "outputs": [],
   "source": [
    "model = CatBoostClassifier(\n",
    "    loss_function='Logloss',\n",
    "    iterations=5,\n",
    "    **static_params,\n",
    ")\n",
    "\n",
    "shap_dict, explainer_dict = {}, {}\n",
    "for i in range(20):\n",
    "    # Fit model\n",
    "    model.fit(\n",
    "        X_train,\n",
    "        y_train,\n",
    "        eval_set=(X_test, y_test),\n",
    "        init_model=model if i!=0 else None,\n",
    "        silent=True,\n",
    "    )\n",
    "    # Evaluate SHAP\n",
    "    shap_values = model.get_feature_importance(\n",
    "        Pool(X_train, label=y_train, cat_features=cat_features),\n",
    "        type=\"ShapValues\",\n",
    "    )\n",
    "    shap_dict[i] = shap_values[:,:-1]\n",
    "    # Create explainer\n",
    "    explainer_dict[i] = shap.TreeExplainer(model)"
   ]
  },
  {
   "cell_type": "code",
   "execution_count": null,
   "id": "64356584",
   "metadata": {
    "scrolled": false
   },
   "outputs": [],
   "source": [
    "for key_ in shap_dict.keys():\n",
    "    shap.summary_plot(\n",
    "        shap_dict[key_],\n",
    "        X_train,\n",
    "        plot_type='bar',\n",
    "        show=False,\n",
    "        max_display=8,\n",
    "    )\n",
    "    ax = plt.gca()\n",
    "    ax.set_xlim(0, 0.65)\n",
    "    plt.savefig(\n",
    "        Path(IMAGE_OUT, f'shap_{key_}.png'), dpi=400,\n",
    "    )"
   ]
  },
  {
   "cell_type": "code",
   "execution_count": null,
   "id": "c12d6e5a",
   "metadata": {
    "scrolled": true
   },
   "outputs": [],
   "source": [
    "# for key_ in explainer_dict.keys():\n",
    "#     shap.plots.bar(\n",
    "#         explainer_dict[key_](X_train),\n",
    "#         max_display=6,\n",
    "#     )"
   ]
  }
 ],
 "metadata": {
  "kernelspec": {
   "display_name": "Python 3 (ipykernel)",
   "language": "python",
   "name": "python3"
  },
  "language_info": {
   "codemirror_mode": {
    "name": "ipython",
    "version": 3
   },
   "file_extension": ".py",
   "mimetype": "text/x-python",
   "name": "python",
   "nbconvert_exporter": "python",
   "pygments_lexer": "ipython3",
   "version": "3.10.8"
  }
 },
 "nbformat": 4,
 "nbformat_minor": 5
}
