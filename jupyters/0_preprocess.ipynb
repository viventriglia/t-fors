{
 "cells": [
  {
   "cell_type": "code",
   "execution_count": null,
   "id": "26fdc8aa",
   "metadata": {},
   "outputs": [],
   "source": [
    "from pathlib import Path\n",
    "\n",
    "import pandas as pd\n",
    "import numpy as np\n",
    "import plotly.express as px\n",
    "\n",
    "from var import DATA_IN, DATA_OUT, START_DATE, END_DATE"
   ]
  },
  {
   "cell_type": "markdown",
   "id": "cdae9430",
   "metadata": {},
   "source": [
    "## TIDs catalog"
   ]
  },
  {
   "cell_type": "code",
   "execution_count": null,
   "id": "e29da879",
   "metadata": {},
   "outputs": [],
   "source": [
    "df_tid = pd.read_csv(\n",
    "    Path(DATA_IN, 'TID_catalog.csv'),\n",
    "    header=0,\n",
    "    names=[\n",
    "        'duration',\n",
    "        'period',\n",
    "        'amplitude',\n",
    "        'spectral_contribution',\n",
    "        'velocity',\n",
    "        'azimuth',\n",
    "        'quality_index',\n",
    "        'datetime',\n",
    "    ],\n",
    ")\n",
    "\n",
    "df_tid['datetime'] = pd.to_datetime(df_tid['datetime'], format='%d-%b-%Y %H:%M:%S')"
   ]
  },
  {
   "cell_type": "code",
   "execution_count": null,
   "id": "18d9bc0c",
   "metadata": {},
   "outputs": [],
   "source": [
    "df_tid.sample(3)"
   ]
  },
  {
   "cell_type": "markdown",
   "id": "3ea5cb25",
   "metadata": {},
   "source": [
    "## Solar Data"
   ]
  },
  {
   "cell_type": "code",
   "execution_count": null,
   "id": "e6994f8e",
   "metadata": {},
   "outputs": [],
   "source": [
    "df_solar = pd.read_csv(\n",
    "    Path(DATA_IN, 'solar_data.csv'),\n",
    "    header=0,\n",
    "    names=[\n",
    "        'day_of_rotation',\n",
    "        'n_sunsposts',\n",
    "        'f_107_adj',\n",
    "        'date',\n",
    "    ],\n",
    ")\n",
    "\n",
    "df_solar['date'] = pd.to_datetime(df_solar['date'], format='%d-%b-%Y')\n",
    "df_solar = df_solar[df_solar['date'].gt(START_DATE)].reset_index(drop=True)"
   ]
  },
  {
   "cell_type": "markdown",
   "id": "206c685a",
   "metadata": {},
   "source": [
    "## Auroral Electrojet"
   ]
  },
  {
   "cell_type": "code",
   "execution_count": null,
   "id": "da76830e",
   "metadata": {},
   "outputs": [],
   "source": [
    "df_ejet = pd.read_csv(\n",
    "    Path(DATA_IN, 'ImageIDX.csv'),\n",
    "    usecols=[2,3],\n",
    "    header=0,\n",
    "    names=[\n",
    "        'ie',\n",
    "        'datetime',\n",
    "    ],\n",
    ")\n",
    "\n",
    "df_ejet['datetime'] = pd.to_datetime(df_ejet['datetime'], format='%d-%b-%Y %H:%M:%S')\n",
    "df_ejet = df_ejet[df_ejet['datetime'].gt(START_DATE)].reset_index(drop=True)"
   ]
  },
  {
   "cell_type": "code",
   "execution_count": null,
   "id": "dade7664",
   "metadata": {},
   "outputs": [],
   "source": [
    "df_ejet_30 = df_ejet.resample('30T', on='datetime').mean().reset_index()"
   ]
  },
  {
   "cell_type": "markdown",
   "id": "34dc7b79",
   "metadata": {},
   "source": [
    "## EDA"
   ]
  },
  {
   "cell_type": "code",
   "execution_count": null,
   "id": "c21cb5e2",
   "metadata": {},
   "outputs": [],
   "source": [
    "# Perché cappiamo a 1500?\n",
    "df_ejet_30['ie'].quantile(.99327)"
   ]
  },
  {
   "cell_type": "code",
   "execution_count": null,
   "id": "0809e0d3",
   "metadata": {},
   "outputs": [],
   "source": [
    "px.histogram(df_ejet_30['ie'])"
   ]
  },
  {
   "cell_type": "code",
   "execution_count": null,
   "id": "979a3254",
   "metadata": {},
   "outputs": [],
   "source": [
    "px.histogram(df_tid['quality_index'])"
   ]
  },
  {
   "cell_type": "code",
   "execution_count": null,
   "id": "57fe6c95",
   "metadata": {},
   "outputs": [],
   "source": [
    "px.histogram(df_tid['duration'])"
   ]
  },
  {
   "cell_type": "code",
   "execution_count": null,
   "id": "4ed5684b",
   "metadata": {},
   "outputs": [],
   "source": [
    "px.bar(\n",
    "    data_frame=df_solar.groupby(\n",
    "        df_solar['date'].dt.year\n",
    "    )['f_107_adj'].mean().reset_index(),\n",
    "    x='date',\n",
    "    y='f_107_adj',\n",
    ")"
   ]
  },
  {
   "cell_type": "code",
   "execution_count": null,
   "id": "ac4a3a88",
   "metadata": {},
   "outputs": [],
   "source": [
    "px.histogram(df_solar['f_107_adj'])"
   ]
  },
  {
   "cell_type": "markdown",
   "id": "3a6f7b5b",
   "metadata": {},
   "source": [
    "## Dataset creation"
   ]
  },
  {
   "cell_type": "code",
   "execution_count": null,
   "id": "9bb1ede1",
   "metadata": {},
   "outputs": [],
   "source": [
    "df_tid_30 = df_tid.resample('30T', on='datetime').max().reset_index()"
   ]
  },
  {
   "cell_type": "code",
   "execution_count": null,
   "id": "e60c7472",
   "metadata": {},
   "outputs": [],
   "source": [
    "100 * (df_tid_30.notna().sum() / df_tid_30.shape[0])"
   ]
  },
  {
   "cell_type": "code",
   "execution_count": null,
   "id": "9a0980b0",
   "metadata": {},
   "outputs": [],
   "source": [
    "from datetime import timedelta\n",
    "\n",
    "date = pd.date_range(start='2014-01-01 00:00:00', end='2022-12-31 23:30:00', freq='30T')\n",
    "df_y = pd.DataFrame({'dt' : date})\n",
    "df_y['TID_in_3hours'] = 0\n",
    "\n",
    "TID_times = pd.to_datetime(df_tid['datetime'], format=\"%d-%b-%Y %H:%M:%S\")\n",
    "for i in TID_times:\n",
    "  start_date = i - timedelta(hours=3)\n",
    "  end_date = i\n",
    "  mask = (df_y['dt']>= start_date) & (df_y['dt'] <= end_date)\n",
    "  df_y.loc[mask, 'TID_in_3hours'] = 1\n",
    "\n",
    "print(df_y['TID_in_3hours'].value_counts()[1]/(df_y['TID_in_3hours'].value_counts()[0] + df_y['TID_in_3hours'].value_counts()[1] )*100)"
   ]
  },
  {
   "cell_type": "code",
   "execution_count": null,
   "id": "600d0fa1",
   "metadata": {},
   "outputs": [],
   "source": [
    "df_y['TID_in_3hours'].value_counts(normalize=True)"
   ]
  }
 ],
 "metadata": {
  "kernelspec": {
   "display_name": "Python 3 (ipykernel)",
   "language": "python",
   "name": "python3"
  },
  "language_info": {
   "codemirror_mode": {
    "name": "ipython",
    "version": 3
   },
   "file_extension": ".py",
   "mimetype": "text/x-python",
   "name": "python",
   "nbconvert_exporter": "python",
   "pygments_lexer": "ipython3",
   "version": "3.10.8"
  }
 },
 "nbformat": 4,
 "nbformat_minor": 5
}
