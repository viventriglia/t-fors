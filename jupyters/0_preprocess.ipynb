{
 "cells": [
  {
   "cell_type": "code",
   "execution_count": null,
   "id": "26fdc8aa",
   "metadata": {},
   "outputs": [],
   "source": [
    "from pathlib import Path\n",
    "\n",
    "import pandas as pd\n",
    "import numpy as np\n",
    "import plotly.express as px\n",
    "\n",
    "from var import DATA_IN, DATA_OUT, START_DATE, END_DATE\n",
    "from src.io import read_time_series\n",
    "from src.preprocess import resample_time_series"
   ]
  },
  {
   "cell_type": "markdown",
   "id": "cdae9430",
   "metadata": {},
   "source": [
    "## TIDs catalog"
   ]
  },
  {
   "cell_type": "code",
   "execution_count": null,
   "id": "85d03e71",
   "metadata": {},
   "outputs": [],
   "source": [
    "df_tid = read_time_series(\n",
    "    Path(DATA_IN, 'TID_catalog.csv'),\n",
    "    column_names=[\n",
    "        'duration',\n",
    "        'period',\n",
    "        'amplitude',\n",
    "        'spectral_contribution',\n",
    "        'velocity',\n",
    "        'azimuth',\n",
    "        'quality_index',\n",
    "        'datetime',\n",
    "    ],\n",
    ")"
   ]
  },
  {
   "cell_type": "code",
   "execution_count": null,
   "id": "d45db2ae",
   "metadata": {},
   "outputs": [],
   "source": [
    "df_tid_30 = resample_time_series(df_tid, aggregation_function='max')"
   ]
  },
  {
   "cell_type": "markdown",
   "id": "86226a28",
   "metadata": {},
   "source": [
    "## HF-EU index"
   ]
  },
  {
   "cell_type": "code",
   "execution_count": null,
   "id": "89a8b0a0",
   "metadata": {},
   "outputs": [],
   "source": [
    "df_hf = read_time_series(\n",
    "    Path(DATA_IN, 'HF_EU_IDX.csv'),\n",
    "    column_names=['datetime', 'hf'],\n",
    ").loc[START_DATE:END_DATE]"
   ]
  },
  {
   "cell_type": "code",
   "execution_count": null,
   "id": "6802083a",
   "metadata": {},
   "outputs": [],
   "source": [
    "df_hf_30 = resample_time_series(df_hf, aggregation_function='mean')\n",
    "df_hf_30['hf'] = df_hf_30['hf'].round(2)"
   ]
  },
  {
   "cell_type": "markdown",
   "id": "3ea5cb25",
   "metadata": {},
   "source": [
    "## Solar Data"
   ]
  },
  {
   "cell_type": "code",
   "execution_count": null,
   "id": "a87f3476",
   "metadata": {},
   "outputs": [],
   "source": [
    "df_solar = read_time_series(\n",
    "    Path(DATA_IN, 'solar_data.csv'),\n",
    "    column_names=[\n",
    "        'day_of_rotation',\n",
    "        'n_sunsposts',\n",
    "        'f_107_adj',\n",
    "        'date',\n",
    "    ],\n",
    "    datetime_format=\"%d-%b-%Y\"\n",
    ").loc[START_DATE:END_DATE]"
   ]
  },
  {
   "cell_type": "markdown",
   "id": "206c685a",
   "metadata": {},
   "source": [
    "## Auroral Electrojet"
   ]
  },
  {
   "cell_type": "code",
   "execution_count": null,
   "id": "9e350e44",
   "metadata": {},
   "outputs": [],
   "source": [
    "df_ejet = read_time_series(\n",
    "    Path(DATA_IN, 'ImageIDX.csv'),\n",
    "    column_names=['ie','datetime'],\n",
    "    usecols=[2,3],\n",
    ").loc[START_DATE:END_DATE]"
   ]
  },
  {
   "cell_type": "code",
   "execution_count": null,
   "id": "c5402da8",
   "metadata": {},
   "outputs": [],
   "source": [
    "df_ejet_30 = resample_time_series(df_ejet, aggregation_function='mean')\n",
    "df_ejet_30['ie'] = df_ejet_30['ie'].round(1)"
   ]
  },
  {
   "cell_type": "markdown",
   "id": "34dc7b79",
   "metadata": {},
   "source": [
    "## EDA"
   ]
  },
  {
   "cell_type": "code",
   "execution_count": null,
   "id": "0809e0d3",
   "metadata": {},
   "outputs": [],
   "source": [
    "# px.histogram(df_ejet_30['ie'])"
   ]
  },
  {
   "cell_type": "code",
   "execution_count": null,
   "id": "979a3254",
   "metadata": {},
   "outputs": [],
   "source": [
    "# px.histogram(df_tid['quality_index'])"
   ]
  },
  {
   "cell_type": "code",
   "execution_count": null,
   "id": "57fe6c95",
   "metadata": {},
   "outputs": [],
   "source": [
    "# px.histogram(df_tid['duration'])"
   ]
  },
  {
   "cell_type": "code",
   "execution_count": null,
   "id": "4ed5684b",
   "metadata": {},
   "outputs": [],
   "source": [
    "# px.bar(\n",
    "#     data_frame=df_solar.groupby(\n",
    "#         df_solar['date'].dt.year\n",
    "#     )['f_107_adj'].mean().reset_index(),\n",
    "#     x='date',\n",
    "#     y='f_107_adj',\n",
    "# )"
   ]
  },
  {
   "cell_type": "code",
   "execution_count": null,
   "id": "ac4a3a88",
   "metadata": {},
   "outputs": [],
   "source": [
    "# px.histogram(df_solar['f_107_adj'])"
   ]
  },
  {
   "cell_type": "markdown",
   "id": "2b4aca8c",
   "metadata": {},
   "source": [
    "## Time serie analysis"
   ]
  },
  {
   "cell_type": "markdown",
   "id": "a3f9199a",
   "metadata": {},
   "source": [
    "Distribuzione dei tempi fra un TID e la successiva"
   ]
  },
  {
   "cell_type": "code",
   "execution_count": null,
   "id": "afa609a8",
   "metadata": {},
   "outputs": [],
   "source": [
    "periods = 16\n",
    "\n",
    "second_order_diff = (\n",
    "    24 * df_tid.index.to_series().diff(periods).diff(periods).dt.days\n",
    ") + (\n",
    "    df_tid.index.to_series().diff(periods).diff(periods).dt.total_seconds().div(3600)\n",
    ").dropna()"
   ]
  },
  {
   "cell_type": "code",
   "execution_count": null,
   "id": "f0afde90",
   "metadata": {},
   "outputs": [],
   "source": [
    "px.histogram(second_order_diff)"
   ]
  },
  {
   "cell_type": "code",
   "execution_count": null,
   "id": "621f0137",
   "metadata": {},
   "outputs": [],
   "source": [
    "second_order_diff.describe()"
   ]
  },
  {
   "cell_type": "code",
   "execution_count": null,
   "id": "d4a615c1",
   "metadata": {},
   "outputs": [],
   "source": [
    "second_order_diff.kurtosis(), second_order_diff.skew()"
   ]
  },
  {
   "cell_type": "code",
   "execution_count": null,
   "id": "23bcab82",
   "metadata": {},
   "outputs": [],
   "source": [
    "from scipy.stats import shapiro, normaltest, kstest\n",
    "\n",
    "shapiro(second_order_diff.dropna())"
   ]
  },
  {
   "cell_type": "code",
   "execution_count": null,
   "id": "9739fa0f",
   "metadata": {},
   "outputs": [],
   "source": [
    "normaltest(second_order_diff.dropna())"
   ]
  },
  {
   "cell_type": "code",
   "execution_count": null,
   "id": "16a0fe8c",
   "metadata": {},
   "outputs": [],
   "source": [
    "# Kolmogorov-Smirnov test\n",
    "ks_statistic, ks_p_value = kstest(second_order_diff.dropna(), 'cauchy')\n",
    "\n",
    "print(f'KS Statistic: {ks_statistic}')\n",
    "print(f'P-value: {ks_p_value}')\n",
    "\n",
    "if ks_p_value < 0.05:\n",
    "    print('La serie non segue la distribuzione di Cauchy-Lorentz')\n",
    "else:\n",
    "    print('La serie segue la distribuzione di Cauchy-Lorentz')"
   ]
  },
  {
   "cell_type": "markdown",
   "id": "3a6f7b5b",
   "metadata": {},
   "source": [
    "## Dataset creation"
   ]
  },
  {
   "cell_type": "code",
   "execution_count": null,
   "id": "155a19ac",
   "metadata": {},
   "outputs": [],
   "source": [
    "periods = [2 * per_ for per_ in [1, 2, 3, 6, 12, 24]]\n",
    "\n",
    "for per_ in periods:\n",
    "    df_ejet_30[f'ie_mav_{per_/2}h'] = df_ejet_30['ie'].rolling(\n",
    "        window=int(per_)\n",
    "    ).mean().round(1)\n",
    "    \n",
    "df_ejet_30 = df_ejet_30.dropna()"
   ]
  },
  {
   "cell_type": "code",
   "execution_count": null,
   "id": "3cd84959",
   "metadata": {},
   "outputs": [],
   "source": [
    "df_j = df_ejet_30.merge(\n",
    "    df_tid_30['quality_index'],\n",
    "    how='left',\n",
    "    left_index=True,\n",
    "    right_index=True,\n",
    ").merge(\n",
    "    df_hf_30,\n",
    "    how='left',\n",
    "    left_index=True,\n",
    "    right_index=True,\n",
    ")"
   ]
  },
  {
   "cell_type": "code",
   "execution_count": null,
   "id": "20f7335c",
   "metadata": {},
   "outputs": [],
   "source": [
    "df_j['month'] = df_j.index.to_series().dt.month.astype(str).str.zfill(2)\n",
    "df_j['hour'] = df_j.index.to_series().dt.hour.astype(str).str.zfill(2)"
   ]
  },
  {
   "cell_type": "code",
   "execution_count": null,
   "id": "5314a944",
   "metadata": {},
   "outputs": [],
   "source": [
    "hours = 3\n",
    "steps = 2 * hours\n",
    "\n",
    "df_j[f'tid_within_{hours}h'] = df_j['quality_index'].rolling(\n",
    "    window=steps+1, min_periods=1\n",
    ").sum().gt(0).shift(-steps, fill_value=False)"
   ]
  },
  {
   "cell_type": "code",
   "execution_count": null,
   "id": "fa600c53",
   "metadata": {},
   "outputs": [],
   "source": [
    "100 * df_j['tid_within_3h'].value_counts(normalize=True)"
   ]
  },
  {
   "cell_type": "code",
   "execution_count": null,
   "id": "3bc5f0be",
   "metadata": {},
   "outputs": [],
   "source": [
    "np.round(100 * df_j['quality_index'].ge(0.5).sum() / df_tid.shape[0], 1)"
   ]
  },
  {
   "cell_type": "code",
   "execution_count": null,
   "id": "e7f97ba8",
   "metadata": {},
   "outputs": [],
   "source": [
    "def color(val):\n",
    "    color = 'blue' if (val < -0.4 or val > 0.4) else 'black'\n",
    "    return f'color: {color}'\n",
    "\n",
    "df_j.corr().style.map(color)"
   ]
  },
  {
   "cell_type": "code",
   "execution_count": null,
   "id": "17f5ce6d",
   "metadata": {},
   "outputs": [],
   "source": [
    "df_j[['hf','ie','ie_mav_6.0h','ie_mav_24.0h']].sample(5)"
   ]
  },
  {
   "cell_type": "code",
   "execution_count": null,
   "id": "7f17bf22",
   "metadata": {},
   "outputs": [],
   "source": [
    "px.histogram(df_j['ie'].div(df_j['ie_mav_6.0h']))"
   ]
  },
  {
   "cell_type": "code",
   "execution_count": null,
   "id": "81939568",
   "metadata": {},
   "outputs": [],
   "source": [
    "px.histogram(df_j['ie'].div(df_j['ie_mav_3.0h']))"
   ]
  },
  {
   "cell_type": "markdown",
   "id": "c0f0139a",
   "metadata": {},
   "source": [
    "### Note to self\n",
    "\n",
    "if a feature is un-correlated with the target, it doesn't tell you that a **non-linear** model (*e.g.* CatBoost) wouldn't perform well by using this feature\n",
    "\n",
    "Pearson correlation only takes into account *linear* correlation between variables; there might be non-linear (polynomial, logarithmic etc.) relationships between variables. Since the Pearson correlations are low, it seems that the relationships in the dataset (if any) might be non-linear and complex"
   ]
  },
  {
   "cell_type": "code",
   "execution_count": null,
   "id": "752ebd1a",
   "metadata": {},
   "outputs": [],
   "source": [
    "(\n",
    "    df_j['ie'].div(\n",
    "        df_j['ie_mav_3.0h']\n",
    "    ) ** df_j['hf']\n",
    ").corr(\n",
    "    df_j['tid_within_3h']\n",
    ")"
   ]
  },
  {
   "cell_type": "code",
   "execution_count": null,
   "id": "09ba69b5",
   "metadata": {},
   "outputs": [],
   "source": [
    "px.histogram(\n",
    "    df_j['ie'].div(\n",
    "        df_j['ie_mav_3.0h']\n",
    "    ) ** df_j['hf']\n",
    ")"
   ]
  },
  {
   "cell_type": "code",
   "execution_count": null,
   "id": "3c25986f",
   "metadata": {},
   "outputs": [],
   "source": [
    "(\n",
    "    (df_j['ie'] - df_j['ie_mav_3.0h']).div(\n",
    "        df_j['ie_mav_3.0h']\n",
    "    ) ** df_j['hf']\n",
    ").corr(\n",
    "    df_j['tid_within_3h']\n",
    ")"
   ]
  },
  {
   "cell_type": "code",
   "execution_count": null,
   "id": "d97e75eb",
   "metadata": {},
   "outputs": [],
   "source": [
    "px.histogram(\n",
    "    (df_j['ie'] - df_j['ie_mav_3.0h']).div(\n",
    "        df_j['ie_mav_3.0h']\n",
    "    ) ** df_j['hf']\n",
    ")"
   ]
  },
  {
   "cell_type": "code",
   "execution_count": null,
   "id": "cdd7dd32",
   "metadata": {},
   "outputs": [],
   "source": [
    "# df_j[df_j['tid_within_3h'].eq(True)].head(7)"
   ]
  }
 ],
 "metadata": {
  "kernelspec": {
   "display_name": "Python 3 (ipykernel)",
   "language": "python",
   "name": "python3"
  },
  "language_info": {
   "codemirror_mode": {
    "name": "ipython",
    "version": 3
   },
   "file_extension": ".py",
   "mimetype": "text/x-python",
   "name": "python",
   "nbconvert_exporter": "python",
   "pygments_lexer": "ipython3",
   "version": "3.10.8"
  }
 },
 "nbformat": 4,
 "nbformat_minor": 5
}
