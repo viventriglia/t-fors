{
 "cells": [
  {
   "cell_type": "code",
   "execution_count": null,
   "id": "26fdc8aa",
   "metadata": {},
   "outputs": [],
   "source": [
    "from pathlib import Path\n",
    "\n",
    "import pandas as pd\n",
    "import numpy as np\n",
    "import plotly.express as px\n",
    "\n",
    "from var import DATA_IN, DATA_OUT, START_DATE, END_DATE"
   ]
  },
  {
   "cell_type": "markdown",
   "id": "cdae9430",
   "metadata": {},
   "source": [
    "## TIDs catalog"
   ]
  },
  {
   "cell_type": "code",
   "execution_count": null,
   "id": "e29da879",
   "metadata": {},
   "outputs": [],
   "source": [
    "df_tid = pd.read_csv(\n",
    "    Path(DATA_IN, 'TID_catalog.csv'),\n",
    "    header=0,\n",
    "    names=[\n",
    "        'duration',\n",
    "        'period',\n",
    "        'amplitude',\n",
    "        'spectral_contribution',\n",
    "        'velocity',\n",
    "        'azimuth',\n",
    "        'quality_index',\n",
    "        'datetime',\n",
    "    ],\n",
    ")\n",
    "\n",
    "df_tid['datetime'] = pd.to_datetime(df_tid['datetime'], format='%d-%b-%Y %H:%M:%S')"
   ]
  },
  {
   "cell_type": "markdown",
   "id": "3ea5cb25",
   "metadata": {},
   "source": [
    "## Solar Data"
   ]
  },
  {
   "cell_type": "code",
   "execution_count": null,
   "id": "e6994f8e",
   "metadata": {},
   "outputs": [],
   "source": [
    "df_solar = pd.read_csv(\n",
    "    Path(DATA_IN, 'solar_data.csv'),\n",
    "    header=0,\n",
    "    names=[\n",
    "        'day_of_rotation',\n",
    "        'n_sunsposts',\n",
    "        'f_107_adj',\n",
    "        'date',\n",
    "    ],\n",
    ")\n",
    "\n",
    "df_solar['date'] = pd.to_datetime(df_solar['date'], format='%d-%b-%Y')\n",
    "df_solar = df_solar[df_solar['date'].gt(START_DATE)].reset_index(drop=True)"
   ]
  },
  {
   "cell_type": "markdown",
   "id": "206c685a",
   "metadata": {},
   "source": [
    "## Auroral Electrojet"
   ]
  },
  {
   "cell_type": "code",
   "execution_count": null,
   "id": "da76830e",
   "metadata": {},
   "outputs": [],
   "source": [
    "df_ejet = pd.read_csv(\n",
    "    Path(DATA_IN, 'ImageIDX.csv'),\n",
    "    usecols=[2,3],\n",
    "    header=0,\n",
    "    names=[\n",
    "        'ie',\n",
    "        'datetime',\n",
    "    ],\n",
    ")\n",
    "\n",
    "df_ejet['datetime'] = pd.to_datetime(df_ejet['datetime'], format='%d-%b-%Y %H:%M:%S')\n",
    "df_ejet = df_ejet[df_ejet['datetime'].gt(START_DATE)].reset_index(drop=True)"
   ]
  },
  {
   "cell_type": "code",
   "execution_count": null,
   "id": "dade7664",
   "metadata": {},
   "outputs": [],
   "source": [
    "df_ejet_30 = df_ejet.resample('30T', on='datetime').mean().reset_index()"
   ]
  },
  {
   "cell_type": "markdown",
   "id": "34dc7b79",
   "metadata": {},
   "source": [
    "## EDA"
   ]
  },
  {
   "cell_type": "code",
   "execution_count": null,
   "id": "c21cb5e2",
   "metadata": {},
   "outputs": [],
   "source": [
    "# Perché cappiamo a 1500?\n",
    "df_ejet_30['ie'].quantile(.99327)"
   ]
  },
  {
   "cell_type": "code",
   "execution_count": null,
   "id": "0809e0d3",
   "metadata": {},
   "outputs": [],
   "source": [
    "px.histogram(df_ejet_30['ie'])"
   ]
  },
  {
   "cell_type": "code",
   "execution_count": null,
   "id": "979a3254",
   "metadata": {},
   "outputs": [],
   "source": [
    "px.histogram(df_tid['quality_index'])"
   ]
  },
  {
   "cell_type": "code",
   "execution_count": null,
   "id": "57fe6c95",
   "metadata": {},
   "outputs": [],
   "source": [
    "px.histogram(df_tid['duration'])"
   ]
  },
  {
   "cell_type": "code",
   "execution_count": null,
   "id": "4ed5684b",
   "metadata": {},
   "outputs": [],
   "source": [
    "px.bar(\n",
    "    data_frame=df_solar.groupby(\n",
    "        df_solar['date'].dt.year\n",
    "    )['f_107_adj'].mean().reset_index(),\n",
    "    x='date',\n",
    "    y='f_107_adj',\n",
    ")"
   ]
  },
  {
   "cell_type": "code",
   "execution_count": null,
   "id": "ac4a3a88",
   "metadata": {},
   "outputs": [],
   "source": [
    "px.histogram(df_solar['f_107_adj'])"
   ]
  },
  {
   "cell_type": "markdown",
   "id": "2b4aca8c",
   "metadata": {},
   "source": [
    "## Time serie analysis"
   ]
  },
  {
   "cell_type": "markdown",
   "id": "a3f9199a",
   "metadata": {},
   "source": [
    "Distribuzione dei tempi fra un TID e la successiva"
   ]
  },
  {
   "cell_type": "code",
   "execution_count": null,
   "id": "afa609a8",
   "metadata": {},
   "outputs": [],
   "source": [
    "periods = 16\n",
    "\n",
    "second_order_diff = (\n",
    "    24 * df_tid['datetime'].diff(periods).diff(periods).dt.days\n",
    ") + (\n",
    "    df_tid['datetime'].diff(periods).diff(periods).dt.total_seconds().div(3600)\n",
    ").dropna()"
   ]
  },
  {
   "cell_type": "code",
   "execution_count": null,
   "id": "f0afde90",
   "metadata": {},
   "outputs": [],
   "source": [
    "px.histogram(second_order_diff)"
   ]
  },
  {
   "cell_type": "code",
   "execution_count": null,
   "id": "621f0137",
   "metadata": {},
   "outputs": [],
   "source": [
    "second_order_diff.describe()"
   ]
  },
  {
   "cell_type": "code",
   "execution_count": null,
   "id": "d4a615c1",
   "metadata": {},
   "outputs": [],
   "source": [
    "second_order_diff.kurtosis(), second_order_diff.skew()"
   ]
  },
  {
   "cell_type": "code",
   "execution_count": null,
   "id": "23bcab82",
   "metadata": {},
   "outputs": [],
   "source": [
    "from scipy.stats import shapiro, normaltest\n",
    "\n",
    "shapiro(second_order_diff.dropna())"
   ]
  },
  {
   "cell_type": "code",
   "execution_count": null,
   "id": "9739fa0f",
   "metadata": {},
   "outputs": [],
   "source": [
    "normaltest(second_order_diff.dropna())"
   ]
  },
  {
   "cell_type": "code",
   "execution_count": null,
   "id": "16a0fe8c",
   "metadata": {},
   "outputs": [],
   "source": [
    "from scipy.stats import kstest\n",
    "\n",
    "# Kolmogorov-Smirnov test\n",
    "ks_statistic, ks_p_value = kstest(second_order_diff.dropna(), 'cauchy')\n",
    "\n",
    "print(f'KS Statistic: {ks_statistic}')\n",
    "print(f'P-value: {ks_p_value}')\n",
    "\n",
    "if ks_p_value < 0.05:\n",
    "    print('La serie non segue la distribuzione di Cauchy-Lorentz')\n",
    "else:\n",
    "    print('La serie segue la distribuzione di Cauchy-Lorentz')"
   ]
  },
  {
   "cell_type": "markdown",
   "id": "3a6f7b5b",
   "metadata": {},
   "source": [
    "## Dataset creation"
   ]
  },
  {
   "cell_type": "code",
   "execution_count": null,
   "id": "9bb1ede1",
   "metadata": {},
   "outputs": [],
   "source": [
    "df_tid_30 = df_tid.resample('30T', on='datetime').max().reset_index()"
   ]
  },
  {
   "cell_type": "code",
   "execution_count": null,
   "id": "e60c7472",
   "metadata": {},
   "outputs": [],
   "source": [
    "100 * (df_tid_30.notna().sum() / df_tid_30.shape[0])"
   ]
  },
  {
   "cell_type": "code",
   "execution_count": null,
   "id": "155a19ac",
   "metadata": {},
   "outputs": [],
   "source": [
    "periods = [2 * per_ for per_ in [1, 2, 3, 6, 12, 24]]\n",
    "\n",
    "for per_ in periods:\n",
    "    df_ejet_30[f'ie_mav_{per_/2}h'] = df_ejet_30['ie'].rolling(\n",
    "        window=int(per_)\n",
    "    ).mean().round(1)"
   ]
  },
  {
   "cell_type": "code",
   "execution_count": null,
   "id": "34861089",
   "metadata": {},
   "outputs": [],
   "source": [
    "df_ejet_30 = df_ejet_30.dropna().reset_index(drop=True)"
   ]
  },
  {
   "cell_type": "code",
   "execution_count": null,
   "id": "3cd84959",
   "metadata": {},
   "outputs": [],
   "source": [
    "df_j = df_ejet_30.merge(\n",
    "    df_tid_30[['datetime','quality_index']],\n",
    "    how='left',\n",
    "    on='datetime'\n",
    ")"
   ]
  },
  {
   "cell_type": "code",
   "execution_count": null,
   "id": "5314a944",
   "metadata": {},
   "outputs": [],
   "source": [
    "hours = 3\n",
    "steps = 2 * hours\n",
    "\n",
    "df_j[f'tid_in_{hours}h'] = df_j['quality_index'].shift(-steps).notna()\n",
    "df_j[f'tid_within_{hours}h'] = df_j['quality_index'].rolling(\n",
    "    window=steps+1, min_periods=1\n",
    ").sum().gt(0).shift(-steps, fill_value=False)"
   ]
  },
  {
   "cell_type": "code",
   "execution_count": null,
   "id": "fa600c53",
   "metadata": {},
   "outputs": [],
   "source": [
    "100 * df_j['tid_within_3h'].value_counts(normalize=True)"
   ]
  },
  {
   "cell_type": "code",
   "execution_count": null,
   "id": "3bc5f0be",
   "metadata": {},
   "outputs": [],
   "source": [
    "df_j['quality_index'].ge(0.5).sum() / 760"
   ]
  },
  {
   "cell_type": "code",
   "execution_count": null,
   "id": "e7f97ba8",
   "metadata": {},
   "outputs": [],
   "source": [
    "def color(val):\n",
    "    color = 'blue' if (val < -0.4 or val > 0.4) else 'black'\n",
    "    return f'color: {color}'\n",
    "\n",
    "df_j.corr().style.map(color)"
   ]
  },
  {
   "cell_type": "code",
   "execution_count": null,
   "id": "56c0b1de",
   "metadata": {},
   "outputs": [],
   "source": [
    "df_j.info()"
   ]
  }
 ],
 "metadata": {
  "kernelspec": {
   "display_name": "Python 3 (ipykernel)",
   "language": "python",
   "name": "python3"
  },
  "language_info": {
   "codemirror_mode": {
    "name": "ipython",
    "version": 3
   },
   "file_extension": ".py",
   "mimetype": "text/x-python",
   "name": "python",
   "nbconvert_exporter": "python",
   "pygments_lexer": "ipython3",
   "version": "3.10.8"
  }
 },
 "nbformat": 4,
 "nbformat_minor": 5
}
