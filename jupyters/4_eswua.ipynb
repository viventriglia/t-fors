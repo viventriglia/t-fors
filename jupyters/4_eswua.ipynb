{
 "cells": [
  {
   "cell_type": "raw",
   "id": "6d05e8ad",
   "metadata": {
    "vscode": {
     "languageId": "raw"
    }
   },
   "source": [
    "---\n",
    "title: \"eSWua | LSTID model report\"\n",
    "author: \"Vincenzo Ventriglia\"\n",
    "date: today\n",
    "format:\n",
    "    html:\n",
    "        page-layout: full\n",
    "        embed-resources: true\n",
    "        grid:\n",
    "            body-width: 1200px\n",
    "        fontsize: 18pt\n",
    "        code-fold: true\n",
    "        output-file: \"eSWua_LSTID_model_report\"\n",
    "echo: false\n",
    "warning: false\n",
    "toc: true\n",
    "number-sections: false\n",
    "jupyter: python3\n",
    "---"
   ]
  },
  {
   "cell_type": "code",
   "execution_count": 1,
   "id": "264f609a",
   "metadata": {},
   "outputs": [],
   "source": [
    "from io import BytesIO\n",
    "from datetime import datetime\n",
    "import tarfile\n",
    "import json\n",
    "import os\n",
    "\n",
    "import plotly.express as px\n",
    "import matplotlib.pyplot as plt\n",
    "import pandas as pd\n",
    "import numpy as np"
   ]
  },
  {
   "cell_type": "code",
   "execution_count": 2,
   "id": "4b6c60f0",
   "metadata": {},
   "outputs": [],
   "source": [
    "start_from_datetime = datetime.strptime(\"27/01/2025 14:00\", \"%d/%m/%Y %H:%M\")"
   ]
  },
  {
   "cell_type": "code",
   "execution_count": null,
   "id": "84e7cc64",
   "metadata": {},
   "outputs": [],
   "source": [
    "with open('./t-fors_data.tar.gz', 'rb') as f:\n",
    "    archive = BytesIO(f.read())\n",
    "\n",
    "with tarfile.open(fileobj=archive, mode='r:gz') as tar:\n",
    "    dfs = []\n",
    "    for member in tar.getmembers():\n",
    "        if member.isfile() and member.name.endswith('.json'):\n",
    "            file_name = os.path.basename(member.name)\n",
    "            date_time = file_name.split('_')[2].split('.')[0]\n",
    "            date_time = datetime.strptime(date_time, \"%Y%m%dT%H%M%S\")\n",
    "            \n",
    "            if date_time >= start_from_datetime:\n",
    "                file_obj = tar.extractfile(member)\n",
    "                if file_obj:\n",
    "                    data = json.load(file_obj).get(\"data\", {})\n",
    "                    df = pd.DataFrame([data])\n",
    "                    df[\"source_file\"] = file_name\n",
    "                    dfs.append(df)\n",
    "                    \n",
    "df = pd.concat(dfs, ignore_index=True)"
   ]
  },
  {
   "cell_type": "code",
   "execution_count": 4,
   "id": "0d5328d3",
   "metadata": {},
   "outputs": [],
   "source": [
    "df['datetime_ref'] = pd.to_datetime(df['datetime_ref'])\n",
    "df['datetime_run'] = pd.to_datetime(df['datetime_run'])\n",
    "\n",
    "df = df.astype(\n",
    "    {\n",
    "        'prediction_score': float,\n",
    "        'prediction_calib': float,\n",
    "        'prediction_hprec': int,\n",
    "        'prediction_balan': int,\n",
    "        'prediction_hsens': int,\n",
    "        'input_availability_score': float,\n",
    "        'input_availability_alert': bool,\n",
    "        'ie_fix': float,\n",
    "        'ie_variation': int,\n",
    "        'ie_mav_3h': float,\n",
    "        'ie_mav_12h': float,\n",
    "        'iu_fix': float,\n",
    "        'iu_variation': int,\n",
    "        'iu_mav_3h': float,\n",
    "        'iu_mav_12h': float,\n",
    "        'hf': float,\n",
    "        'hf_mav_2h': float,\n",
    "        'f_107_adj': float,\n",
    "        'hp_30': float,\n",
    "        'dst': float,\n",
    "        'solar_zenith_angle': float,\n",
    "        'newell': float,\n",
    "        'bz': float,\n",
    "        'speed': float,\n",
    "        'rho': float,\n",
    "        'spectral_contribution_at': float,\n",
    "        'spectral_contribution_ff': float,\n",
    "        'spectral_contribution_jr': float,\n",
    "        'spectral_contribution_pq': float,\n",
    "        'spectral_contribution_ro': float,\n",
    "        'spectral_contribution_vt': float,\n",
    "        'azimuth_at': float,\n",
    "        'azimuth_ff': float,\n",
    "        'azimuth_jr': float,\n",
    "        'azimuth_pq': float,\n",
    "        'azimuth_ro': float,\n",
    "        'azimuth_vt': float,\n",
    "        'velocity_at': float,\n",
    "        'velocity_ff': float,\n",
    "        'velocity_jr': float,\n",
    "        'velocity_pq': float,\n",
    "        'velocity_ro': float,\n",
    "        'velocity_vt': float,\n",
    "        'source_file': object,\n",
    "    }\n",
    ").set_index('datetime_ref').sort_index()"
   ]
  },
  {
   "cell_type": "markdown",
   "id": "10a7214e",
   "metadata": {},
   "source": [
    "## Quanti *NaN* per ogni colonna?"
   ]
  },
  {
   "cell_type": "code",
   "execution_count": 5,
   "id": "8721c0dd",
   "metadata": {},
   "outputs": [],
   "source": [
    "df_numeric = df.select_dtypes(include=['float64', 'int64'])\n",
    "\n",
    "nas = np.round(\n",
    "    100 * df_numeric.isna().sum().div(df_numeric.shape[0]),\n",
    "    1,\n",
    ").sort_values(ascending=False)"
   ]
  },
  {
   "cell_type": "code",
   "execution_count": null,
   "id": "6bbaad9c",
   "metadata": {},
   "outputs": [],
   "source": [
    "fig, ax = plt.subplots(figsize=(12, 6))\n",
    "nas.plot(kind='bar', ax=ax)\n",
    "\n",
    "ax.set_title('Colum-wise NaN values', fontdict={'fontweight': 'bold'})\n",
    "\n",
    "ax.yaxis.set_major_formatter(plt.FuncFormatter(lambda x, _: f'{x:.0f}%'))\n",
    "[ax.spines[s].set_visible(False) for s in ax.spines]\n",
    "\n",
    "plt.tight_layout()\n",
    "plt.show()"
   ]
  },
  {
   "cell_type": "markdown",
   "id": "d276a6ae",
   "metadata": {},
   "source": [
    "## Quanto impiega l'intero processo a girare?"
   ]
  },
  {
   "cell_type": "code",
   "execution_count": 7,
   "id": "3fa0e571",
   "metadata": {},
   "outputs": [],
   "source": [
    "df['elapsed_time'] = (\n",
    "    df['datetime_run'] - (pd.to_datetime(df.index) + pd.Timedelta(minutes=15))\n",
    ").dt.total_seconds()"
   ]
  },
  {
   "cell_type": "code",
   "execution_count": null,
   "id": "a68ff15c",
   "metadata": {},
   "outputs": [],
   "source": [
    "fig, ax = plt.subplots(figsize=(12, 6))\n",
    "\n",
    "ax.hist(df['elapsed_time'], bins=30)\n",
    "\n",
    "ax.set_title(f\"Median duration: {df['elapsed_time'].median(): .1f}s\", fontdict={'fontweight': 'bold'})\n",
    "ax.set_xlabel('Elapsed time (s)')\n",
    "ax.set_ylabel('Count')\n",
    "[ax.spines[s].set_visible(False) for s in ax.spines]\n",
    "\n",
    "plt.tight_layout()\n",
    "plt.show()"
   ]
  },
  {
   "cell_type": "markdown",
   "id": "3a99faa5",
   "metadata": {},
   "source": [
    "## Output del modello"
   ]
  },
  {
   "cell_type": "code",
   "execution_count": null,
   "id": "ae369439",
   "metadata": {},
   "outputs": [],
   "source": [
    "fig, ax = plt.subplots(figsize=(12, 6))\n",
    "\n",
    "ax.plot(df['prediction_score'], label='Raw score')\n",
    "ax.plot(df['prediction_calib'], label='Calibrated score')\n",
    "ax.fill_between(df.index, df['prediction_hsens'], label='High sensitivity', alpha=0.3)\n",
    "ax.fill_between(df.index, df['prediction_balan'], label='Balanced', alpha=0.3)\n",
    "ax.fill_between(df.index, df['prediction_hprec'], label='High precision', alpha=0.3)\n",
    "\n",
    "ax.legend(frameon=True, facecolor='white', edgecolor='none')\n",
    "ax.yaxis.grid(True, color='k', linestyle='-', linewidth=0.3, alpha=0.5)\n",
    "[ax.spines[s].set_visible(False) for s in ax.spines]\n",
    "\n",
    "plt.tight_layout()\n",
    "plt.show()\n"
   ]
  }
 ],
 "metadata": {
  "kernelspec": {
   "display_name": "base",
   "language": "python",
   "name": "python3"
  },
  "language_info": {
   "codemirror_mode": {
    "name": "ipython",
    "version": 3
   },
   "file_extension": ".py",
   "mimetype": "text/x-python",
   "name": "python",
   "nbconvert_exporter": "python",
   "pygments_lexer": "ipython3",
   "version": "3.10.8"
  }
 },
 "nbformat": 4,
 "nbformat_minor": 5
}
