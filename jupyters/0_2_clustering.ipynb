{
 "cells": [
  {
   "cell_type": "code",
   "execution_count": null,
   "id": "d0ebd374",
   "metadata": {
    "scrolled": false
   },
   "outputs": [],
   "source": [
    "from pathlib import Path\n",
    "\n",
    "import pandas as pd\n",
    "import numpy as np\n",
    "\n",
    "from sklearn.preprocessing import MinMaxScaler, RobustScaler\n",
    "from sklearn.cluster import DBSCAN, HDBSCAN\n",
    "from sklearn.manifold import TSNE\n",
    "\n",
    "import plotly.express as px\n",
    "import matplotlib.pyplot as plt\n",
    "\n",
    "from var import DATA_OUT, MODEL_CATB, IMAGE_OUT, FORECAST_HOURS_IN_ADVANCE"
   ]
  },
  {
   "cell_type": "code",
   "execution_count": null,
   "id": "0db9e388",
   "metadata": {},
   "outputs": [],
   "source": [
    "import umap"
   ]
  },
  {
   "cell_type": "code",
   "execution_count": null,
   "id": "132cda7b",
   "metadata": {
    "scrolled": false
   },
   "outputs": [],
   "source": [
    "df = pd.read_pickle(Path(DATA_OUT, 'df_dataset.pickle'))\n",
    "\n",
    "df = df[\n",
    "    [\n",
    "        'iu_mav_6h',\n",
    "        'hf',\n",
    "        'solar_zenith_angle',\n",
    "        'hp_30',\n",
    "        f'tid_within_{FORECAST_HOURS_IN_ADVANCE}h',\n",
    "    ]\n",
    "]\n",
    "\n",
    "df[f'tid_within_{FORECAST_HOURS_IN_ADVANCE}h'] = df[f'tid_within_{FORECAST_HOURS_IN_ADVANCE}h'].replace(\n",
    "    {True: 1, False: 0}\n",
    ")"
   ]
  },
  {
   "cell_type": "code",
   "execution_count": null,
   "id": "483f03f3",
   "metadata": {},
   "outputs": [],
   "source": [
    "df_ = df.sample(frac=0.5).copy()\n",
    "df_.loc[df_['hf'].isna(),'hf'] = 0"
   ]
  },
  {
   "cell_type": "code",
   "execution_count": null,
   "id": "0466158a",
   "metadata": {},
   "outputs": [],
   "source": [
    "X = df_[\n",
    "    [\n",
    "        col_\n",
    "        for col_ in df_.columns\n",
    "        if col_ != f'tid_within_{FORECAST_HOURS_IN_ADVANCE}h'\n",
    "    ]\n",
    "].copy()\n",
    "\n",
    "y = df_[f'tid_within_{FORECAST_HOURS_IN_ADVANCE}h'].copy()"
   ]
  },
  {
   "cell_type": "code",
   "execution_count": null,
   "id": "8d6ea1a7",
   "metadata": {},
   "outputs": [],
   "source": [
    "X_sc = MinMaxScaler().fit_transform(X.values)"
   ]
  },
  {
   "cell_type": "markdown",
   "id": "9d127d06",
   "metadata": {},
   "source": [
    "## UMAP"
   ]
  },
  {
   "cell_type": "code",
   "execution_count": null,
   "id": "8655eec9",
   "metadata": {},
   "outputs": [],
   "source": [
    "n_comps = 2\n",
    "\n",
    "# umap = umap.UMAP(\n",
    "#     n_components=n_comps,\n",
    "#     n_neighbors=15,\n",
    "#     min_dist=0.1,\n",
    "#     n_jobs=-1,\n",
    "#     metric='euclidean',\n",
    "# )\n",
    "# umap_projections = umap.fit_transform(X_sc)\n",
    "\n",
    "if n_comps == 3:\n",
    "    fig = px.scatter_3d(\n",
    "        x=umap_projections[:,0],\n",
    "        y=umap_projections[:,1],\n",
    "        z=umap_projections[:,2],\n",
    "        color=y,\n",
    "        color_continuous_scale=px.colors.qualitative.Plotly\n",
    "    )\n",
    "elif n_comps == 2:\n",
    "    fig = px.scatter(\n",
    "        x=umap_projections[:,0],\n",
    "        y=umap_projections[:,1],\n",
    "        color=y,\n",
    "    )"
   ]
  },
  {
   "cell_type": "code",
   "execution_count": null,
   "id": "a17bde53",
   "metadata": {},
   "outputs": [],
   "source": [
    "fig.show()"
   ]
  },
  {
   "cell_type": "markdown",
   "id": "fdd11386",
   "metadata": {},
   "source": [
    "## t-SNE"
   ]
  },
  {
   "cell_type": "code",
   "execution_count": null,
   "id": "82f393d6",
   "metadata": {
    "scrolled": false
   },
   "outputs": [],
   "source": [
    "n_comps = 2\n",
    "\n",
    "tsne = TSNE(\n",
    "    n_components=n_comps,\n",
    "    perplexity=60,\n",
    "    random_state=42,\n",
    "    metric='euclidean',\n",
    ")\n",
    "projections = tsne.fit_transform(X_sc)\n",
    "\n",
    "if n_comps == 3:\n",
    "    fig = px.scatter_3d(\n",
    "        x=projections[:,0],\n",
    "        y=projections[:,1],\n",
    "        z=projections[:,2],\n",
    "        color=y,\n",
    "        color_continuous_scale=px.colors.qualitative.Plotly\n",
    "    )\n",
    "elif n_comps == 2:\n",
    "    fig = px.scatter(\n",
    "        x=projections[:,0],\n",
    "        y=projections[:,1],\n",
    "        color=y,\n",
    "    )"
   ]
  },
  {
   "cell_type": "code",
   "execution_count": null,
   "id": "e096a48e",
   "metadata": {},
   "outputs": [],
   "source": [
    "# fig.write_html(\n",
    "#     Path(IMAGE_OUT, f'tSNE_labels_{n_comps}_comps.html')\n",
    "# )"
   ]
  },
  {
   "cell_type": "markdown",
   "id": "df2e1a78",
   "metadata": {},
   "source": [
    "## H-DBSCAN"
   ]
  },
  {
   "cell_type": "code",
   "execution_count": null,
   "id": "ba608578",
   "metadata": {},
   "outputs": [],
   "source": [
    "min_samples = 20\n",
    "\n",
    "cls_alg = HDBSCAN(min_samples=min_samples)\n",
    "labels = cls_alg.fit_predict(X_sc)"
   ]
  },
  {
   "cell_type": "code",
   "execution_count": null,
   "id": "79ad4fd6",
   "metadata": {},
   "outputs": [],
   "source": [
    "pd.DataFrame(labels).value_counts(normalize=True)"
   ]
  },
  {
   "cell_type": "code",
   "execution_count": null,
   "id": "ae572603",
   "metadata": {},
   "outputs": [],
   "source": [
    "fig = px.scatter(\n",
    "    x=projections[:,0],\n",
    "    y=projections[:,1],\n",
    "    color=labels,\n",
    ")\n",
    "\n",
    "fig.update_layout(\n",
    "    template='simple_white',\n",
    ")\n",
    "fig.show(autosize=False)"
   ]
  }
 ],
 "metadata": {
  "kernelspec": {
   "display_name": "Python 3 (ipykernel)",
   "language": "python",
   "name": "python3"
  },
  "language_info": {
   "codemirror_mode": {
    "name": "ipython",
    "version": 3
   },
   "file_extension": ".py",
   "mimetype": "text/x-python",
   "name": "python",
   "nbconvert_exporter": "python",
   "pygments_lexer": "ipython3",
   "version": "3.10.8"
  }
 },
 "nbformat": 4,
 "nbformat_minor": 5
}
