{
 "cells": [
  {
   "cell_type": "code",
   "execution_count": null,
   "id": "d0ebd374",
   "metadata": {
    "scrolled": false
   },
   "outputs": [],
   "source": [
    "from pathlib import Path\n",
    "\n",
    "import pandas as pd\n",
    "import numpy as np\n",
    "\n",
    "from sklearn.preprocessing import MinMaxScaler, RobustScaler\n",
    "from sklearn.cluster import DBSCAN, HDBSCAN\n",
    "from sklearn.manifold import TSNE\n",
    "\n",
    "import plotly.express as px\n",
    "import matplotlib.pyplot as plt\n",
    "\n",
    "from var import DATA_OUT, MODEL_CATB, IMAGE_OUT, FORECAST_HOURS_IN_ADVANCE"
   ]
  },
  {
   "cell_type": "code",
   "execution_count": null,
   "id": "132cda7b",
   "metadata": {
    "scrolled": false
   },
   "outputs": [],
   "source": [
    "df = pd.read_pickle(Path(DATA_OUT, 'df_dataset.pickle'))\n",
    "\n",
    "df[f'tid_within_{FORECAST_HOURS_IN_ADVANCE}h'] = df[f'tid_within_{FORECAST_HOURS_IN_ADVANCE}h'].replace(\n",
    "    {True: 1, False: 0}\n",
    ")"
   ]
  },
  {
   "cell_type": "code",
   "execution_count": null,
   "id": "0466158a",
   "metadata": {},
   "outputs": [],
   "source": [
    "X = df[\n",
    "    [\n",
    "        'ie_fix',\n",
    "        'iu_fix',\n",
    "        'hf',\n",
    "        'solar_zenith_angle',\n",
    "        f'tid_within_{FORECAST_HOURS_IN_ADVANCE}h',\n",
    "    ]\n",
    "].copy()"
   ]
  },
  {
   "cell_type": "code",
   "execution_count": null,
   "id": "483f03f3",
   "metadata": {},
   "outputs": [],
   "source": [
    "X_ = X.sample(frac=0.25).copy()"
   ]
  },
  {
   "cell_type": "code",
   "execution_count": null,
   "id": "ae459ffe",
   "metadata": {},
   "outputs": [],
   "source": [
    "X_.loc[X['hf'].isna(),'hf'] = 0"
   ]
  },
  {
   "cell_type": "code",
   "execution_count": null,
   "id": "8e878859",
   "metadata": {},
   "outputs": [],
   "source": [
    "X_sc = MinMaxScaler().fit_transform(X_.values)"
   ]
  },
  {
   "cell_type": "code",
   "execution_count": null,
   "id": "82f393d6",
   "metadata": {
    "scrolled": false
   },
   "outputs": [],
   "source": [
    "n_comps = 2\n",
    "\n",
    "tsne = TSNE(n_components=n_comps, perplexity=60, random_state=42, metric='euclidean')\n",
    "projections = tsne.fit_transform(X_sc)\n",
    "\n",
    "if n_comps == 3:\n",
    "    fig = px.scatter_3d(\n",
    "        x=projections[:,0],\n",
    "        y=projections[:,1],\n",
    "        z=projections[:,2],\n",
    "        color=X_sc[:,-1],\n",
    "        color_continuous_scale=px.colors.qualitative.Plotly\n",
    "    )\n",
    "    fig.show(autosize=False)\n",
    "elif n_comps == 2:\n",
    "    fig = px.scatter(\n",
    "        x=projections[:,0],\n",
    "        y=projections[:,1],\n",
    "        color=X_sc[:,-1],\n",
    "    )\n",
    "    fig.show(autosize=False)"
   ]
  },
  {
   "cell_type": "code",
   "execution_count": null,
   "id": "e096a48e",
   "metadata": {},
   "outputs": [],
   "source": [
    "# fig.write_html(\n",
    "#     Path(IMAGE_OUT, 'tSNE_labels.html')\n",
    "# )"
   ]
  }
 ],
 "metadata": {
  "kernelspec": {
   "display_name": "Python 3 (ipykernel)",
   "language": "python",
   "name": "python3"
  },
  "language_info": {
   "codemirror_mode": {
    "name": "ipython",
    "version": 3
   },
   "file_extension": ".py",
   "mimetype": "text/x-python",
   "name": "python",
   "nbconvert_exporter": "python",
   "pygments_lexer": "ipython3",
   "version": "3.10.8"
  }
 },
 "nbformat": 4,
 "nbformat_minor": 5
}
