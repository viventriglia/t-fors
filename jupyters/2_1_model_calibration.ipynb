{
 "cells": [
  {
   "cell_type": "markdown",
   "id": "396d61ce",
   "metadata": {},
   "source": [
    "Classification is a *post hoc* decision layer **on top** of a probabilistic prediction.\n",
    "\n",
    "From this point of view it is obvious that it is essential that, before performing classification, one should have the best possible probabilities to work with. Indeed, for cost-sensitive decisions, having good probabilities is imperative.\n",
    "\n",
    "Standard estimator routines do not necessarily provide this, often returning a ranking/score rather than a probability, and calibration should be performed.\n",
    "\n",
    "Here we shall calibrate a base estimator using the **isotonic regression** and **Venn-ABERS** techniques, and also calculate the results of a strictly-proper scoring rule, namely the Brier score.\n",
    "\n",
    "Some resources:\n",
    "\n",
    "- [What are Brier score and model calibration?](https://neptune.ai/blog/brier-score-and-model-calibration) (Neptune blog)\n",
    "\n",
    "- [How to calibrate a classifier](https://valeman.medium.com/how-to-calibrate-your-classifier-in-an-intelligent-way-a996a2faf718) (Valeriy Manokhin)\n",
    "\n",
    "- About [model uncertainty and conformal prediction](https://blog.dataiku.com/measuring-models-uncertainty-conformal-prediction) (Dataiku blog)"
   ]
  },
  {
   "cell_type": "code",
   "execution_count": 1,
   "id": "d0ebd374",
   "metadata": {
    "scrolled": false
   },
   "outputs": [],
   "source": [
    "from pathlib import Path\n",
    "\n",
    "import pandas as pd\n",
    "import numpy as np\n",
    "from sklearn.calibration import CalibratedClassifierCV, calibration_curve\n",
    "from sklearn.metrics import (\n",
    "    precision_recall_fscore_support,\n",
    "    roc_auc_score,\n",
    "    roc_curve,\n",
    "    auc,\n",
    "    precision_recall_curve,\n",
    "    confusion_matrix,\n",
    "    brier_score_loss,\n",
    ")\n",
    "from catboost import Pool, CatBoostClassifier\n",
    "import plotly.express as px\n",
    "import plotly.graph_objects as go\n",
    "from plotly.subplots import make_subplots\n",
    "import matplotlib.pyplot as plt\n",
    "\n",
    "from crepes import WrapClassifier\n",
    "from venn_abers import VennAbersCalibrator\n",
    "from var import DATA_OUT, IMAGE_OUT, FORECAST_HOURS_IN_ADVANCE"
   ]
  },
  {
   "cell_type": "code",
   "execution_count": 2,
   "id": "132cda7b",
   "metadata": {
    "scrolled": false
   },
   "outputs": [],
   "source": [
    "df = pd.read_pickle(Path(DATA_OUT, 'df_dataset.pickle'))"
   ]
  },
  {
   "cell_type": "code",
   "execution_count": 3,
   "id": "4a36726e",
   "metadata": {
    "scrolled": false
   },
   "outputs": [],
   "source": [
    "X = df[\n",
    "    [\n",
    "        *[col_ for col_ in df.columns if col_.startswith('ie_')],\n",
    "        *[col_ for col_ in df.columns if col_.startswith('iu_')],\n",
    "        'hf',\n",
    "        'hf_mav_2h',\n",
    "        'f_107_adj',\n",
    "        'hp_30',\n",
    "        'smr',\n",
    "        'solar_zenith_angle',\n",
    "        'newell',\n",
    "        *[col_ for col_ in df.columns if col_.startswith('local_warning_')],\n",
    "        *[col_ for col_ in df.columns if col_.startswith('spectral_contribution_')],\n",
    "        *[col_ for col_ in df.columns if col_.startswith('azimuth_')],\n",
    "        *[col_ for col_ in df.columns if col_.startswith('velocity_')],\n",
    "    ]\n",
    "].copy()\n",
    "\n",
    "y = df[f'tid_within_{FORECAST_HOURS_IN_ADVANCE}h'].copy()"
   ]
  },
  {
   "cell_type": "code",
   "execution_count": 4,
   "id": "2d066396",
   "metadata": {
    "scrolled": false
   },
   "outputs": [],
   "source": [
    "X_train, y_train = X.loc['2014':'2020-08'].copy(), y.loc['2014':'2020-08'].copy()\n",
    "X_cal, y_cal = X.loc['2020-09':'2021-06'].copy(), y.loc['2020-09':'2021-06'].copy()\n",
    "X_test, y_test = X.loc['2021-07':].copy(), y.loc['2021-07':].copy()"
   ]
  },
  {
   "cell_type": "code",
   "execution_count": 5,
   "id": "d4d05380",
   "metadata": {
    "scrolled": false
   },
   "outputs": [],
   "source": [
    "cat_features = [\n",
    "    'ie_variation',\n",
    "    'iu_variation',\n",
    "    *[col_ for col_ in df.columns if col_.startswith('local_warning_')],\n",
    "]\n",
    "\n",
    "static_params = {\n",
    "    \"eval_metric\": \"F1\",\n",
    "    \"random_seed\": 42,\n",
    "    \"auto_class_weights\": \"SqrtBalanced\",\n",
    "    \"cat_features\": cat_features,\n",
    "    \"od_type\": \"Iter\",\n",
    "    \"use_best_model\": True,\n",
    "    \"has_time\": True,\n",
    "    \"od_wait\": 200,\n",
    "}"
   ]
  },
  {
   "cell_type": "code",
   "execution_count": 6,
   "id": "cfded08d",
   "metadata": {},
   "outputs": [],
   "source": [
    "model = CatBoostClassifier(\n",
    "    loss_function='Logloss',\n",
    "    iterations=1_000,\n",
    "    **static_params,\n",
    ")\n",
    "\n",
    "model = model.fit(\n",
    "    X_train,\n",
    "    y_train,\n",
    "    eval_set=(X_test, y_test),\n",
    "    silent=True,\n",
    ")"
   ]
  },
  {
   "cell_type": "code",
   "execution_count": null,
   "id": "25126102",
   "metadata": {},
   "outputs": [],
   "source": [
    "y_pred = model.predict(X_test)"
   ]
  },
  {
   "cell_type": "code",
   "execution_count": null,
   "id": "033b42cb",
   "metadata": {},
   "outputs": [],
   "source": [
    "p, r, f, _ = precision_recall_fscore_support(y_test, y_pred)"
   ]
  },
  {
   "cell_type": "code",
   "execution_count": null,
   "id": "e1eb6549",
   "metadata": {},
   "outputs": [],
   "source": [
    "print(f'{p[1].round(3)} precision | {r[1].round(3)} recall | {f[1].round(3)} F1-score')"
   ]
  },
  {
   "cell_type": "markdown",
   "id": "1b67ca9e",
   "metadata": {},
   "source": [
    "## Evaluation of classification"
   ]
  },
  {
   "cell_type": "code",
   "execution_count": 7,
   "id": "3f6c4b0f",
   "metadata": {},
   "outputs": [],
   "source": [
    "df_eval = X_test.copy(deep=True)\n",
    "df_eval['true'] = y_test\n",
    "df_eval['pred'] = model.predict(X_test)\n",
    "df_eval['score'] = model.predict_proba(X_test)[:,1]"
   ]
  },
  {
   "cell_type": "code",
   "execution_count": null,
   "id": "682473ec",
   "metadata": {},
   "outputs": [],
   "source": [
    "# px.histogram(\n",
    "#     data_frame=df_eval,\n",
    "#     x=['score'],\n",
    "#     color='true',\n",
    "#     barmode='overlay',\n",
    "# )"
   ]
  },
  {
   "cell_type": "markdown",
   "id": "d89ae796",
   "metadata": {},
   "source": [
    "## Calibration curve"
   ]
  },
  {
   "cell_type": "code",
   "execution_count": 8,
   "id": "1144a049",
   "metadata": {},
   "outputs": [],
   "source": [
    "def plot_reliability_diagram(prob_pred, prob_true, scores, plot_title=None) -> go.Figure:\n",
    "    \"\"\"Helper function to plot a reliabilitt diagram\"\"\"\n",
    "    fig = px.line(\n",
    "        x=prob_pred,\n",
    "        y=prob_true,\n",
    "        markers=True,\n",
    "    )\n",
    "    fig.update_traces(\n",
    "        selector=dict(type=\"scatter\"),\n",
    "        hovertemplate=\"Mean predicted probability: %{x:.2f}<br>Fraction of positives: %{y:.2f}\",\n",
    "    )\n",
    "\n",
    "    fig.add_shape(\n",
    "        type=\"line\",\n",
    "        x0=0,\n",
    "        y0=0,\n",
    "        x1=1,\n",
    "        y1=1,\n",
    "        line=dict(color=\"red\", width=2, dash=\"dash\"),\n",
    "    )\n",
    "\n",
    "    fig.add_trace(\n",
    "        go.Histogram(\n",
    "            x=scores,\n",
    "            yaxis=\"y2\",\n",
    "            opacity=0.3,\n",
    "            showlegend=False,\n",
    "            nbinsx=25,\n",
    "        )\n",
    "    )\n",
    "    fig.update_traces(\n",
    "        selector=dict(type=\"histogram\"),\n",
    "        hovertemplate=\"%{y:,} samples<extra></extra>\",\n",
    "    )\n",
    "\n",
    "    fig.update_layout(\n",
    "        xaxis_title=\"Mean predicted probability\",\n",
    "        yaxis_title=\"Fraction of positives\",\n",
    "        yaxis2=dict(title=\"Count of samples\", overlaying=\"y\", side=\"right\"),\n",
    "        title=plot_title,\n",
    "        template=\"simple_white\",\n",
    "    )\n",
    "\n",
    "    return fig"
   ]
  },
  {
   "cell_type": "code",
   "execution_count": null,
   "id": "75c6cc39",
   "metadata": {},
   "outputs": [],
   "source": [
    "uncal_brier = brier_score_loss(\n",
    "    y_test,\n",
    "    df_eval['score'],\n",
    ").round(3)"
   ]
  },
  {
   "cell_type": "code",
   "execution_count": null,
   "id": "04bdcfaf",
   "metadata": {},
   "outputs": [],
   "source": [
    "prob_true, prob_pred = calibration_curve(\n",
    "    df_eval['true'],\n",
    "    df_eval['score'],\n",
    "    n_bins=10,\n",
    ")\n",
    "\n",
    "plot_reliability_diagram(\n",
    "    prob_pred=prob_pred,\n",
    "    prob_true=prob_true,\n",
    "    scores=df_eval[\"score\"],\n",
    "    plot_title=f'Uncalibrated model (Brier score: <b>{uncal_brier}</b>)'\n",
    ")"
   ]
  },
  {
   "cell_type": "markdown",
   "id": "68ceb7ac",
   "metadata": {},
   "source": [
    "## Isotonic calibration"
   ]
  },
  {
   "cell_type": "code",
   "execution_count": null,
   "id": "6c1d42e8",
   "metadata": {},
   "outputs": [],
   "source": [
    "df_eval['score_iso_cal'] = CalibratedClassifierCV(\n",
    "    estimator=model,\n",
    "    method='isotonic',\n",
    "    cv='prefit',\n",
    ").fit(\n",
    "    X_cal, y_cal,\n",
    ").predict_proba(\n",
    "    X_test\n",
    ")[:,1]"
   ]
  },
  {
   "cell_type": "code",
   "execution_count": null,
   "id": "188ea37a",
   "metadata": {},
   "outputs": [],
   "source": [
    "iso_brier = brier_score_loss(\n",
    "    y_test,\n",
    "    df_eval['score_iso_cal'],\n",
    ").round(3)"
   ]
  },
  {
   "cell_type": "code",
   "execution_count": null,
   "id": "26b326ee",
   "metadata": {},
   "outputs": [],
   "source": [
    "prob_true, prob_pred = calibration_curve(\n",
    "    df_eval['true'],\n",
    "    df_eval['score_iso_cal'],\n",
    "    n_bins=10,\n",
    ")\n",
    "\n",
    "plot_reliability_diagram(\n",
    "    prob_pred=prob_pred,\n",
    "    prob_true=prob_true,\n",
    "    scores=df_eval[\"score_iso_cal\"],\n",
    "    plot_title=f'Calibrated model with isotonic regression (Brier score: <b>{iso_brier}</b>)'\n",
    ")"
   ]
  },
  {
   "cell_type": "markdown",
   "id": "1bc1597e",
   "metadata": {},
   "source": [
    "## (Inductive) Venn-ABERS calibratrion"
   ]
  },
  {
   "cell_type": "markdown",
   "id": "6ce364c1",
   "metadata": {},
   "source": [
    "Venn-ABERS predictors perform two isotonic regressions (using the greatest convex minorant of the cumulative sum diagram), one for for class 0 leading to probabilities $p_0$, and one for class 1 leading to probabilities $p_1$.\n",
    "\n",
    "$p_0$ and $p_1$ form an interval within which the correct probability is deemed to be located. A single-valued probability can be obtained by combining these results, for example via\n",
    "\n",
    "$$p \\equiv \\frac{p_1}{1 − p_0 + p_1}$$\n",
    "\n",
    "Note that Inductive Venn-ABERS (IVA) needs a **disjoint hold-out calibration dataset** (`X_cal`, `y_cal`) extracted from the training data\n",
    "\n",
    "What is a [Venn predictor](https://link.springer.com/chapter/10.1007/978-3-031-06649-8_6)?"
   ]
  },
  {
   "cell_type": "code",
   "execution_count": null,
   "id": "db8d534c",
   "metadata": {},
   "outputs": [],
   "source": [
    "iva_cal = VennAbersCalibrator(inductive=True)\n",
    "\n",
    "score_iva_cal, p0_p1 = iva_cal.predict_proba(\n",
    "    p_cal=model.predict_proba(X_cal),\n",
    "    y_cal=y_cal.values,\n",
    "    p_test=model.predict_proba(X_test),\n",
    "    p0_p1_output=True,\n",
    ")\n",
    "\n",
    "df_eval['score_iva_cal'] = score_iva_cal[:,1]"
   ]
  },
  {
   "cell_type": "code",
   "execution_count": null,
   "id": "4b390ebe",
   "metadata": {},
   "outputs": [],
   "source": [
    "iva_brier = brier_score_loss(\n",
    "    y_test,\n",
    "    df_eval['score_iva_cal'],\n",
    ").round(3)"
   ]
  },
  {
   "cell_type": "code",
   "execution_count": null,
   "id": "f8b2a64c",
   "metadata": {},
   "outputs": [],
   "source": [
    "prob_true, prob_pred = calibration_curve(\n",
    "    df_eval['true'],\n",
    "    df_eval['score_iva_cal'],\n",
    "    n_bins=10,\n",
    ")\n",
    "\n",
    "plot_reliability_diagram(\n",
    "    prob_pred=prob_pred,\n",
    "    prob_true=prob_true,\n",
    "    scores=df_eval[\"score_iva_cal\"],\n",
    "    plot_title=f'Calibrated model with Venn-ABERS (Brier score: <b>{iva_brier}</b>)'\n",
    ")"
   ]
  },
  {
   "cell_type": "markdown",
   "id": "0ff6c25e",
   "metadata": {},
   "source": [
    "## Prediction interval"
   ]
  },
  {
   "cell_type": "code",
   "execution_count": null,
   "id": "31b4ee5a",
   "metadata": {},
   "outputs": [],
   "source": [
    "df_eval['score_iva_cal_up'] = p0_p1[:,1]\n",
    "df_eval['score_iva_cal_lw'] = p0_p1[:,0]\n",
    "df_eval['width'] = df_eval['score_iva_cal_up'] - df_eval['score_iva_cal_lw']"
   ]
  },
  {
   "cell_type": "code",
   "execution_count": null,
   "id": "79eb6980",
   "metadata": {},
   "outputs": [],
   "source": [
    "preds = df_eval.loc['2022-03'].copy().sort_values(by=['score_iva_cal']).reset_index(drop=True)"
   ]
  },
  {
   "cell_type": "code",
   "execution_count": null,
   "id": "2f682bc2",
   "metadata": {},
   "outputs": [],
   "source": [
    "fig = go.Figure()\n",
    "\n",
    "x = preds.index.tolist() + preds.index.tolist()[::-1]\n",
    "y = preds['score_iva_cal_up'].tolist() + preds['score_iva_cal_lw'].tolist()[::-1]\n",
    "\n",
    "fig.add_trace(\n",
    "    go.Scatter(\n",
    "        x=x,\n",
    "        y=y,\n",
    "        fill='tozeroy',\n",
    "        fillcolor='rgba(0,100,80,0.4)',\n",
    "        line=dict(color='rgba(0,0,0,0.2)'),\n",
    "        name='Prediction interval',\n",
    "    )\n",
    ")\n",
    "\n",
    "fig.add_scatter(\n",
    "    x=preds.index,\n",
    "    y=preds['width'],\n",
    "    mode='lines',\n",
    "    name=\"Width\",\n",
    "    line=dict(width=1.2, color=\"firebrick\"),\n",
    ")\n",
    "\n",
    "fig.update_layout(\n",
    "    xaxis=dict(tickvals=[], ticktext=[], title=''),\n",
    "    yaxis=dict(title=\"Estimated probability\"),\n",
    "    template='plotly_white',\n",
    "    legend_title='',\n",
    ")\n",
    "\n",
    "fig.show()"
   ]
  },
  {
   "cell_type": "markdown",
   "id": "24c94579",
   "metadata": {},
   "source": [
    "## crepes"
   ]
  },
  {
   "cell_type": "code",
   "execution_count": 11,
   "id": "1c7a9085",
   "metadata": {},
   "outputs": [
    {
     "name": "stderr",
     "output_type": "stream",
     "text": [
      "C:\\Users\\vince\\repos\\t-fors\\.venv\\lib\\site-packages\\crepes\\extras.py:71: FutureWarning: Series.__getitem__ treating keys as positions is deprecated. In a future version, integer keys will always be treated as labels (consistent with DataFrame behavior). To access a value by position, use `ser.iloc[pos]`\n",
      "  [np.argwhere(classes == y[i])[0][0] for i in range(len(y))])\n"
     ]
    }
   ],
   "source": [
    "cat_crep = WrapClassifier(model).calibrate(X_cal, y_cal)"
   ]
  },
  {
   "cell_type": "code",
   "execution_count": 13,
   "id": "915d7f2f",
   "metadata": {},
   "outputs": [
    {
     "data": {
      "text/plain": [
       "array([[0.61805802, 0.38194198],\n",
       "       [0.78431706, 0.21568294],\n",
       "       [0.75366501, 0.24633499],\n",
       "       ...,\n",
       "       [0.67796107, 0.32203893],\n",
       "       [0.52786998, 0.47213002],\n",
       "       [0.72111253, 0.27888747]])"
      ]
     },
     "execution_count": 13,
     "metadata": {},
     "output_type": "execute_result"
    }
   ],
   "source": [
    "cat_crep.predict_proba(X_test)"
   ]
  },
  {
   "cell_type": "code",
   "execution_count": 14,
   "id": "c4844b75",
   "metadata": {},
   "outputs": [
    {
     "data": {
      "text/plain": [
       "array([[0.17014874, 0.07761232],\n",
       "       [0.31993913, 0.03414622],\n",
       "       [0.28337744, 0.04111305],\n",
       "       ...,\n",
       "       [0.21109663, 0.05974203],\n",
       "       [0.12557391, 0.10524269],\n",
       "       [0.24871481, 0.04951634]])"
      ]
     },
     "execution_count": 14,
     "metadata": {},
     "output_type": "execute_result"
    }
   ],
   "source": [
    "cat_crep.predict_p(X_test)"
   ]
  },
  {
   "cell_type": "code",
   "execution_count": 35,
   "id": "6436e798",
   "metadata": {},
   "outputs": [
    {
     "data": {
      "text/plain": [
       "array([[1, 0],\n",
       "       [1, 0],\n",
       "       [1, 0],\n",
       "       ...,\n",
       "       [1, 0],\n",
       "       [1, 1],\n",
       "       [1, 0]])"
      ]
     },
     "execution_count": 35,
     "metadata": {},
     "output_type": "execute_result"
    }
   ],
   "source": [
    "cat_crep.predict_set(X_test, confidence=0.90)"
   ]
  },
  {
   "cell_type": "code",
   "execution_count": 33,
   "id": "a2404afe",
   "metadata": {},
   "outputs": [
    {
     "data": {
      "text/plain": [
       "{'error': 0.138091985428051,\n",
       " 'avg_c': 1.0487249544626593,\n",
       " 'one_c': 0.9512750455373407,\n",
       " 'empty': 0.0,\n",
       " 'time_fit': 0.0010170936584472656,\n",
       " 'time_evaluate': 1.2102313041687012}"
      ]
     },
     "execution_count": 33,
     "metadata": {},
     "output_type": "execute_result"
    }
   ],
   "source": [
    "cat_crep.evaluate(X_test, y_test, confidence=0.90)"
   ]
  },
  {
   "cell_type": "markdown",
   "id": "f3fb0afa",
   "metadata": {},
   "source": [
    "- \"error\" is the  fraction of prediction sets not containing the true class label\n",
    "- \"avg_c\" is the average no. of predicted class labels\n",
    "- \"one_c\" is the fraction of singleton prediction sets\n",
    "- \"empty\" is the fraction of empty prediction sets\n",
    "- \"time_fit\" is the time taken to fit the conformal classifier\n",
    "- \"time_evaluate\" is the time taken for the evaluation "
   ]
  }
 ],
 "metadata": {
  "kernelspec": {
   "display_name": "Python 3 (ipykernel)",
   "language": "python",
   "name": "python3"
  },
  "language_info": {
   "codemirror_mode": {
    "name": "ipython",
    "version": 3
   },
   "file_extension": ".py",
   "mimetype": "text/x-python",
   "name": "python",
   "nbconvert_exporter": "python",
   "pygments_lexer": "ipython3",
   "version": "3.10.8"
  }
 },
 "nbformat": 4,
 "nbformat_minor": 5
}
