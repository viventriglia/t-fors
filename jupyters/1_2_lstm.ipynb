{
 "cells": [
  {
   "cell_type": "code",
   "execution_count": null,
   "id": "d0ebd374",
   "metadata": {
    "scrolled": false
   },
   "outputs": [],
   "source": [
    "from pathlib import Path\n",
    "import os\n",
    "\n",
    "os.environ[\"KERAS_BACKEND\"] = \"jax\"\n",
    "\n",
    "import pandas as pd\n",
    "import numpy as np\n",
    "\n",
    "from sklearn.model_selection import TimeSeriesSplit\n",
    "from sklearn.calibration import calibration_curve\n",
    "from sklearn.metrics import (\n",
    "    f1_score,\n",
    "    precision_recall_fscore_support,\n",
    "    roc_auc_score,\n",
    "    roc_curve,\n",
    "    auc,\n",
    "    precision_recall_curve,\n",
    "    confusion_matrix\n",
    ")\n",
    "import jax\n",
    "import jax.numpy as jnp\n",
    "from keras.models import Sequential\n",
    "from keras.layers import LSTM, Dense\n",
    "from keras.optimizers import Adam\n",
    "\n",
    "import plotly.express as px\n",
    "import plotly.graph_objects as go\n",
    "import matplotlib.pyplot as plt\n",
    "\n",
    "from var import DATA_OUT, IMAGE_OUT, FORECAST_HOURS_IN_ADVANCE"
   ]
  },
  {
   "cell_type": "code",
   "execution_count": null,
   "id": "132cda7b",
   "metadata": {
    "scrolled": false
   },
   "outputs": [],
   "source": [
    "df = pd.read_pickle(Path(DATA_OUT, 'df_dataset.pickle'))"
   ]
  },
  {
   "cell_type": "code",
   "execution_count": null,
   "id": "4a36726e",
   "metadata": {
    "scrolled": false
   },
   "outputs": [],
   "source": [
    "X = df[\n",
    "    [\n",
    "        'ie_fix',\n",
    "        'ie_mav_6h',\n",
    "        'iu_fix',\n",
    "        'iu_mav_6h',\n",
    "        'hf',\n",
    "        'hf_mav_2h',\n",
    "        'f_107_adj',\n",
    "        'hp_30',\n",
    "        'smr',\n",
    "        'solar_zenith_angle',\n",
    "    ]\n",
    "].copy()\n",
    "\n",
    "y = df[f'tid_within_{FORECAST_HOURS_IN_ADVANCE}h'].copy()"
   ]
  },
  {
   "cell_type": "code",
   "execution_count": null,
   "id": "b1922b7c",
   "metadata": {},
   "outputs": [],
   "source": [
    "model = Sequential(\n",
    "    [\n",
    "        LSTM(\n",
    "            64,\n",
    "            input_shape=(X.shape[1], X.shape[2]),),\n",
    "        Dense(1, activation='sigmoid'),\n",
    "    ],\n",
    ")"
   ]
  },
  {
   "cell_type": "code",
   "execution_count": null,
   "id": "e1fe8525",
   "metadata": {},
   "outputs": [],
   "source": [
    "model.compile(optimizer=Adam(), loss='binary_crossentropy', metrics=['f1'])"
   ]
  },
  {
   "cell_type": "code",
   "execution_count": null,
   "id": "a223d106",
   "metadata": {},
   "outputs": [],
   "source": [
    "batch_size = 32\n",
    "epochs = 10\n",
    "\n",
    "model.fit(\n",
    "    X,\n",
    "    y,\n",
    "    batch_size=batch_size, \n",
    "    epochs=epochs,\n",
    ")"
   ]
  },
  {
   "cell_type": "code",
   "execution_count": null,
   "id": "e98d851c",
   "metadata": {},
   "outputs": [],
   "source": [
    "# Valutazione del modello\n",
    "loss, accuracy = model.evaluate(inputs, targets)\n",
    "print(\"Loss:\", loss)\n",
    "print(\"Accuracy:\", accuracy)"
   ]
  }
 ],
 "metadata": {
  "kernelspec": {
   "display_name": "Python 3 (ipykernel)",
   "language": "python",
   "name": "python3"
  },
  "language_info": {
   "codemirror_mode": {
    "name": "ipython",
    "version": 3
   },
   "file_extension": ".py",
   "mimetype": "text/x-python",
   "name": "python",
   "nbconvert_exporter": "python",
   "pygments_lexer": "ipython3",
   "version": "3.10.8"
  }
 },
 "nbformat": 4,
 "nbformat_minor": 5
}
