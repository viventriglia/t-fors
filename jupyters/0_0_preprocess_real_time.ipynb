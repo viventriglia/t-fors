{
 "cells": [
  {
   "cell_type": "code",
   "execution_count": null,
   "id": "26fdc8aa",
   "metadata": {},
   "outputs": [],
   "source": [
    "from datetime import datetime, timedelta\n",
    "\n",
    "import pandas as pd\n",
    "import numpy as np\n",
    "import plotly.express as px\n",
    "\n",
    "from src.io import (\n",
    "    get_techtide_hf,\n",
    "    get_techtide_ionosondes,\n",
    "    get_gfz_f107,\n",
    "    get_gfz_hp30,\n",
    "    get_noaa_l1,\n",
    "    get_fmi_iu_ie,\n",
    ")\n",
    "from src.preprocess import (\n",
    "    resample_time_series,\n",
    "    get_categories,\n",
    "    get_solar_position,\n",
    "    get_moving_avg,\n",
    ")"
   ]
  },
  {
   "cell_type": "code",
   "execution_count": null,
   "id": "f5e9cbd8",
   "metadata": {},
   "outputs": [],
   "source": [
    "# from src.cert import check_and_update_cert\n",
    "# from src import TECHTIDE_CERT_PATH\n",
    "\n",
    "# check_and_update_cert(\n",
    "#     hostname=\"techtide-srv-pub.space.noa.gr\",\n",
    "#     port=8443,\n",
    "#     cert_path=TECHTIDE_CERT_PATH,\n",
    "# )"
   ]
  },
  {
   "cell_type": "code",
   "execution_count": null,
   "id": "f5b51318",
   "metadata": {},
   "outputs": [],
   "source": [
    "STOP_UTC_NOW = datetime.utcnow()\n",
    "START_UTC = STOP_UTC_NOW - timedelta(hours=6)\n",
    "\n",
    "STOP_UTC_NOW = STOP_UTC_NOW.strftime(\"%Y-%m-%d %H:%M:%S\")\n",
    "START_UTC = START_UTC.strftime(\"%Y-%m-%d %H:%M:%S\")"
   ]
  },
  {
   "cell_type": "markdown",
   "id": "9d6521d7",
   "metadata": {},
   "source": [
    "# TechTIDE"
   ]
  },
  {
   "cell_type": "markdown",
   "id": "1c4db05a",
   "metadata": {},
   "source": [
    "#### HF-INT + 2-h moving average"
   ]
  },
  {
   "cell_type": "code",
   "execution_count": null,
   "id": "37a73f15",
   "metadata": {
    "scrolled": false
   },
   "outputs": [],
   "source": [
    "df_hf = get_techtide_hf(start=START_UTC, stop=STOP_UTC_NOW)\n",
    "\n",
    "df_hf_30 = resample_time_series(df_hf, aggregation_function='mean').round(2)"
   ]
  },
  {
   "cell_type": "code",
   "execution_count": null,
   "id": "b3e5ff75",
   "metadata": {},
   "outputs": [],
   "source": [
    "df_hf_30 = get_moving_avg(df_hf_30, ['hf'], [2])"
   ]
  },
  {
   "cell_type": "markdown",
   "id": "eda9f496",
   "metadata": {},
   "source": [
    "#### Ionosondes"
   ]
  },
  {
   "cell_type": "code",
   "execution_count": null,
   "id": "c6d05711",
   "metadata": {
    "scrolled": false
   },
   "outputs": [],
   "source": [
    "df_iono = get_techtide_ionosondes(\n",
    "    START_UTC,\n",
    "    STOP_UTC_NOW,\n",
    "    iono_list=['AT138', 'FF051', 'JR055', 'PQ052', 'RO041', 'VT139'],\n",
    ")\n",
    "\n",
    "df_iono_30 = resample_time_series(\n",
    "    df_iono,\n",
    "    aggregation_function='median',\n",
    ").round(2)"
   ]
  },
  {
   "cell_type": "markdown",
   "id": "8903195f",
   "metadata": {},
   "source": [
    "# Solar Zenith Angle (pvlib)"
   ]
  },
  {
   "cell_type": "code",
   "execution_count": null,
   "id": "66a2fb57",
   "metadata": {},
   "outputs": [],
   "source": [
    "get_solar_position(\n",
    "    df_hf_30.index[-1], columns='zenith', altitude=0,\n",
    ").round(1)"
   ]
  },
  {
   "cell_type": "markdown",
   "id": "9b0d19c4",
   "metadata": {},
   "source": [
    "# GFZ"
   ]
  },
  {
   "cell_type": "markdown",
   "id": "c5aadd5b",
   "metadata": {},
   "source": [
    "#### Hp-30"
   ]
  },
  {
   "cell_type": "code",
   "execution_count": null,
   "id": "f20e71f7",
   "metadata": {},
   "outputs": [],
   "source": [
    "df_hp_30 = get_gfz_hp30()"
   ]
  },
  {
   "cell_type": "markdown",
   "id": "8063bd14",
   "metadata": {},
   "source": [
    "#### F10.7 (adj)"
   ]
  },
  {
   "cell_type": "code",
   "execution_count": null,
   "id": "a4bef747",
   "metadata": {
    "scrolled": false
   },
   "outputs": [],
   "source": [
    "get_gfz_f107().dropna().tail(1)"
   ]
  },
  {
   "cell_type": "markdown",
   "id": "a217f154",
   "metadata": {},
   "source": [
    "# NOAA"
   ]
  },
  {
   "cell_type": "markdown",
   "id": "ccd3d9f8",
   "metadata": {},
   "source": [
    "#### L1 data (propagated) + Newell coupling, defined by\n",
    "$$v^{4/3} \\left(B_y^2 + B_z^2\\right)^{2/3} \\sin^{8/3}\\left(\\frac{1}{2}\\arctan\\left(\\frac{|B_y|}{B_z}\\right)\\right)$$\n",
    "\n",
    "Lo storico è limitato, meglio **agganciarsi al DB interno**"
   ]
  },
  {
   "cell_type": "code",
   "execution_count": null,
   "id": "bfdb2c42",
   "metadata": {},
   "outputs": [],
   "source": [
    "df_l1 = get_noaa_l1(end_propagated_datetime=STOP_UTC_NOW)"
   ]
  },
  {
   "cell_type": "code",
   "execution_count": null,
   "id": "cea61ab0",
   "metadata": {},
   "outputs": [],
   "source": [
    "df_l1_30 = resample_time_series(\n",
    "    df_l1,\n",
    "    aggregation_function='median',\n",
    ")"
   ]
  },
  {
   "cell_type": "markdown",
   "id": "b9bef317",
   "metadata": {},
   "source": [
    "# FMI"
   ]
  },
  {
   "cell_type": "markdown",
   "id": "32a7000b",
   "metadata": {},
   "source": [
    "#### IU & IL + moving avgs + variations"
   ]
  },
  {
   "cell_type": "code",
   "execution_count": null,
   "id": "85ffb76e",
   "metadata": {},
   "outputs": [],
   "source": [
    "fmi_cols = ['ie', 'iu']"
   ]
  },
  {
   "cell_type": "code",
   "execution_count": null,
   "id": "e96368cf",
   "metadata": {},
   "outputs": [],
   "source": [
    "df_fmi = get_fmi_iu_ie()"
   ]
  },
  {
   "cell_type": "code",
   "execution_count": null,
   "id": "888c4de4",
   "metadata": {},
   "outputs": [],
   "source": [
    "df_fmi_30 = resample_time_series(df_fmi, aggregation_function='median').round(2)"
   ]
  },
  {
   "cell_type": "code",
   "execution_count": null,
   "id": "8ed93ae9",
   "metadata": {},
   "outputs": [],
   "source": [
    "df_fmi_30 = get_moving_avg(df_fmi_30, fmi_cols, [3, 12])"
   ]
  },
  {
   "cell_type": "code",
   "execution_count": null,
   "id": "fa6147d9",
   "metadata": {},
   "outputs": [],
   "source": [
    "hours = 6\n",
    "for col_ in fmi_cols:\n",
    "    _, labels = get_categories(\n",
    "        df_fmi_30[col_],\n",
    "        window=2*hours,\n",
    "        zero_phase=False,\n",
    "    )\n",
    "\n",
    "    df_fmi_30[f'{col_}_variation'] = np.insert(labels, 0, 0, axis=0)"
   ]
  },
  {
   "cell_type": "markdown",
   "id": "c1aa7392",
   "metadata": {},
   "source": [
    "# SMR (SuperMAG partial ring current index) - TODO"
   ]
  },
  {
   "cell_type": "code",
   "execution_count": null,
   "id": "fe274ca4",
   "metadata": {},
   "outputs": [],
   "source": [
    "# df_smr = read_time_series(\n",
    "#     Path(DATA_IN, 'SMR.csv'),\n",
    "#     column_names=['datetime','smr'],\n",
    "# ).loc[START_DATE:END_DATE]"
   ]
  },
  {
   "cell_type": "code",
   "execution_count": null,
   "id": "aab32d52",
   "metadata": {},
   "outputs": [],
   "source": [
    "# df_smr_30 = resample_time_series(df_smr, aggregation_function='median')"
   ]
  },
  {
   "cell_type": "markdown",
   "id": "3a6f7b5b",
   "metadata": {},
   "source": [
    "## Dataset creation"
   ]
  },
  {
   "cell_type": "code",
   "execution_count": null,
   "id": "3cd84959",
   "metadata": {},
   "outputs": [],
   "source": [
    "# df_j = df_ejet_30.merge(\n",
    "#     df_tid_30_['quality_index'],\n",
    "#     how='left',\n",
    "#     left_index=True,\n",
    "#     right_index=True,\n",
    "# ).merge(\n",
    "#     df_hf_30,\n",
    "#     how='left',\n",
    "#     left_index=True,\n",
    "#     right_index=True,\n",
    "# ).merge(\n",
    "#     df_solar['f_107_adj'],\n",
    "#     how='left',\n",
    "#     left_index=True,\n",
    "#     right_index=True,\n",
    "# ).merge(\n",
    "#     df_hp_30,\n",
    "#     left_index=True,\n",
    "#     right_index=True,\n",
    "# ).merge(\n",
    "#     df_smr_30,\n",
    "#     left_index=True,\n",
    "#     right_index=True,\n",
    "# ).merge(\n",
    "#     df_l1_30,\n",
    "#     left_index=True,\n",
    "#     right_index=True,\n",
    "# ).merge(\n",
    "#     df_newell_30,\n",
    "#     left_index=True,\n",
    "#     right_index=True,\n",
    "# ).merge(\n",
    "#     df_ionosondes_30,\n",
    "#     left_index=True,\n",
    "#     right_index=True,\n",
    "# )\n",
    "\n",
    "# # Solar data need to be repeated, since they're provided on a daily basis only\n",
    "# df_j['f_107_adj'] = df_j['f_107_adj'].ffill()\n",
    "\n",
    "# # Solar zenith angle\n",
    "# df_j['solar_zenith_angle'] = get_solar_position(\n",
    "#     df_j.index, columns='zenith', altitude=0,\n",
    "# ).round(1)"
   ]
  },
  {
   "cell_type": "code",
   "execution_count": null,
   "id": "2ea6320f",
   "metadata": {},
   "outputs": [],
   "source": [
    "# assert df_j.reset_index().duplicated('datetime').sum() == 0"
   ]
  },
  {
   "cell_type": "markdown",
   "id": "68574402",
   "metadata": {},
   "source": [
    "Construct the actual **target**, a boolean column which is set to 1 whenever a **TID event** is reported **within a 3-hours timeframe**"
   ]
  },
  {
   "cell_type": "code",
   "execution_count": null,
   "id": "5314a944",
   "metadata": {},
   "outputs": [],
   "source": [
    "# steps = 2 * FORECAST_HOURS_IN_ADVANCE\n",
    "\n",
    "# df_j[f'tid_within_{FORECAST_HOURS_IN_ADVANCE}h'] = df_j['quality_index'].rolling(\n",
    "#     window=steps+1, min_periods=1\n",
    "# ).sum().gt(0).shift(\n",
    "#     -steps, fill_value=False\n",
    "# ).replace(\n",
    "#     {True: 1, False: 0}\n",
    "# )"
   ]
  },
  {
   "cell_type": "markdown",
   "id": "e286992a",
   "metadata": {},
   "source": [
    "## Dump"
   ]
  },
  {
   "cell_type": "code",
   "execution_count": null,
   "id": "f92748c4",
   "metadata": {},
   "outputs": [],
   "source": [
    "# df_j.drop(\n",
    "#     columns=['quality_index'],\n",
    "# ).to_pickle(\n",
    "#     Path(DATA_OUT, 'df_dataset.pickle')\n",
    "# )"
   ]
  }
 ],
 "metadata": {
  "kernelspec": {
   "display_name": "Python 3 (ipykernel)",
   "language": "python",
   "name": "python3"
  },
  "language_info": {
   "codemirror_mode": {
    "name": "ipython",
    "version": 3
   },
   "file_extension": ".py",
   "mimetype": "text/x-python",
   "name": "python",
   "nbconvert_exporter": "python",
   "pygments_lexer": "ipython3",
   "version": "3.10.8"
  }
 },
 "nbformat": 4,
 "nbformat_minor": 5
}
