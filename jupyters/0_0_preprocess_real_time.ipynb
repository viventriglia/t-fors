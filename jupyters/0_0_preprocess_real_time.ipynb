{
 "cells": [
  {
   "cell_type": "code",
   "execution_count": null,
   "id": "26fdc8aa",
   "metadata": {},
   "outputs": [],
   "source": [
    "from datetime import datetime, timedelta\n",
    "\n",
    "import pandas as pd\n",
    "import numpy as np\n",
    "import plotly.express as px\n",
    "\n",
    "from src.io import (\n",
    "    get_techtide_hf,\n",
    "    get_techtide_ionosondes,\n",
    "    get_gfz_f107,\n",
    "    get_gfz_hp30,\n",
    "    get_fmi_iu_ie,\n",
    ")\n",
    "from src.preprocess import (\n",
    "    resample_time_series,\n",
    "    get_categories,\n",
    "    get_solar_position,\n",
    ")"
   ]
  },
  {
   "cell_type": "code",
   "execution_count": null,
   "id": "f5b51318",
   "metadata": {},
   "outputs": [],
   "source": [
    "STOP_UTC_NOW = datetime.utcnow()\n",
    "START_UTC = STOP_UTC_NOW - timedelta(hours=6)\n",
    "\n",
    "STOP_UTC_NOW = STOP_UTC_NOW.strftime(\"%Y-%m-%d %H:%M:%S\")\n",
    "START_UTC = START_UTC.strftime(\"%Y-%m-%d %H:%M:%S\")"
   ]
  },
  {
   "cell_type": "markdown",
   "id": "9d6521d7",
   "metadata": {},
   "source": [
    "# TechTIDE"
   ]
  },
  {
   "cell_type": "markdown",
   "id": "1c4db05a",
   "metadata": {},
   "source": [
    "#### HF-INT + 2-h moving average"
   ]
  },
  {
   "cell_type": "code",
   "execution_count": null,
   "id": "37a73f15",
   "metadata": {},
   "outputs": [],
   "source": [
    "df_hf = get_techtide_hf(start=START_UTC, stop=STOP_UTC_NOW)\n",
    "\n",
    "df_hf_30 = resample_time_series(df_hf, aggregation_function='mean').round(2)"
   ]
  },
  {
   "cell_type": "code",
   "execution_count": null,
   "id": "dc8ad050",
   "metadata": {},
   "outputs": [],
   "source": [
    "period = 2 * 2\n",
    "\n",
    "df_hf_30[f'hf_mav_{period/2:.0f}h'] = df_hf_30['hf'].rolling(\n",
    "    window=int(period)\n",
    ").mean().round(2)"
   ]
  },
  {
   "cell_type": "markdown",
   "id": "eda9f496",
   "metadata": {},
   "source": [
    "#### Ionosondes"
   ]
  },
  {
   "cell_type": "code",
   "execution_count": null,
   "id": "c6d05711",
   "metadata": {
    "scrolled": false
   },
   "outputs": [],
   "source": [
    "df_iono = get_techtide_ionosondes(\n",
    "    START_UTC,\n",
    "    STOP_UTC_NOW,\n",
    "    iono_list=['AT138', 'FF051', 'JR055', 'PQ052', 'RO041', 'VT139'],\n",
    ")\n",
    "\n",
    "df_iono_30 = resample_time_series(\n",
    "    df_iono,\n",
    "    aggregation_function='median',\n",
    ").round(2)"
   ]
  },
  {
   "cell_type": "markdown",
   "id": "8903195f",
   "metadata": {},
   "source": [
    "# Solar Zenith Angle (pvlib)"
   ]
  },
  {
   "cell_type": "code",
   "execution_count": null,
   "id": "66a2fb57",
   "metadata": {},
   "outputs": [],
   "source": [
    "get_solar_position(\n",
    "    df_hf_30.index[-1], columns='zenith', altitude=0,\n",
    ").round(1)"
   ]
  },
  {
   "cell_type": "markdown",
   "id": "9b0d19c4",
   "metadata": {},
   "source": [
    "# GFZ"
   ]
  },
  {
   "cell_type": "markdown",
   "id": "c5aadd5b",
   "metadata": {},
   "source": [
    "#### Hp-30"
   ]
  },
  {
   "cell_type": "code",
   "execution_count": null,
   "id": "f20e71f7",
   "metadata": {},
   "outputs": [],
   "source": [
    "df_hp_30 = get_gfz_hp30(start='2024-10-15 23:00:00', stop=STOP_UTC_NOW)"
   ]
  },
  {
   "cell_type": "markdown",
   "id": "8063bd14",
   "metadata": {},
   "source": [
    "#### F10.7 (adj)"
   ]
  },
  {
   "cell_type": "code",
   "execution_count": null,
   "id": "a4bef747",
   "metadata": {
    "scrolled": false
   },
   "outputs": [],
   "source": [
    "get_gfz_f107()"
   ]
  },
  {
   "cell_type": "markdown",
   "id": "a217f154",
   "metadata": {},
   "source": [
    "# NOAA"
   ]
  },
  {
   "cell_type": "markdown",
   "id": "ccd3d9f8",
   "metadata": {},
   "source": [
    "#### L1 data (propagated)\n",
    "\n",
    "Lo storico è limitato, meglio agganciarsi al DB interno"
   ]
  },
  {
   "cell_type": "code",
   "execution_count": null,
   "id": "48b9ad8d",
   "metadata": {},
   "outputs": [],
   "source": [
    "cols = ['propagated_time_tag', 'density', 'bz', 'vx']\n",
    "\n",
    "df_l1 = pd.read_json(\n",
    "    'https://services.swpc.noaa.gov/products/geospace/propagated-solar-wind-1-hour.json',\n",
    "    convert_dates=False,\n",
    ")\n",
    "\n",
    "df_l1.columns = df_l1.iloc[0]\n",
    "df_l1 = df_l1[1:][cols].reset_index(drop=True)\n",
    "\n",
    "for col_ in cols:\n",
    "    if 'time_' in col_:\n",
    "        df_l1[col_] = pd.to_datetime(df_l1[col_])\n",
    "    else:\n",
    "        df_l1[col_] = pd.to_numeric(df_l1[col_])\n",
    "        \n",
    "df_l1 = df_l1.rename(\n",
    "    columns={\n",
    "        'propagated_time_tag': 'datetime',\n",
    "        'density': 'rho',\n",
    "    }\n",
    ")\n",
    "\n",
    "df_l1 = df_l1[\n",
    "    df_l1['datetime'].lt(STOP_UTC_NOW)\n",
    "].set_index('datetime')"
   ]
  },
  {
   "cell_type": "code",
   "execution_count": null,
   "id": "cea61ab0",
   "metadata": {},
   "outputs": [],
   "source": [
    "df_l1_30 = resample_time_series(df_l1, aggregation_function='median')"
   ]
  },
  {
   "cell_type": "markdown",
   "id": "b9bef317",
   "metadata": {},
   "source": [
    "# FMI"
   ]
  },
  {
   "cell_type": "markdown",
   "id": "32a7000b",
   "metadata": {},
   "source": [
    "#### IU & IL"
   ]
  },
  {
   "cell_type": "code",
   "execution_count": null,
   "id": "e96368cf",
   "metadata": {},
   "outputs": [],
   "source": [
    "df_fmi = get_fmi_iu_ie()"
   ]
  },
  {
   "cell_type": "code",
   "execution_count": null,
   "id": "888c4de4",
   "metadata": {},
   "outputs": [],
   "source": [
    "df_fmi_30 = resample_time_series(df_fmi, aggregation_function='median').round(2)"
   ]
  },
  {
   "cell_type": "markdown",
   "id": "51329546",
   "metadata": {},
   "source": [
    "# Newell (coupling) - TODO"
   ]
  },
  {
   "cell_type": "code",
   "execution_count": null,
   "id": "57bab7dc",
   "metadata": {},
   "outputs": [],
   "source": [
    "df_newell = read_time_series(\n",
    "    Path(DATA_IN, 'newell.csv'),\n",
    "    column_names=['datetime','newell'],\n",
    ").loc[START_DATE:END_DATE]"
   ]
  },
  {
   "cell_type": "code",
   "execution_count": null,
   "id": "f6da2f2a",
   "metadata": {},
   "outputs": [],
   "source": [
    "df_newell_30 = resample_time_series(df_newell, aggregation_function='median')"
   ]
  },
  {
   "cell_type": "markdown",
   "id": "c1aa7392",
   "metadata": {},
   "source": [
    "# SMR (SuperMAG partial ring current index) - TODO"
   ]
  },
  {
   "cell_type": "code",
   "execution_count": null,
   "id": "fe274ca4",
   "metadata": {},
   "outputs": [],
   "source": [
    "df_smr = read_time_series(\n",
    "    Path(DATA_IN, 'SMR.csv'),\n",
    "    column_names=['datetime','smr'],\n",
    ").loc[START_DATE:END_DATE]"
   ]
  },
  {
   "cell_type": "code",
   "execution_count": null,
   "id": "aab32d52",
   "metadata": {},
   "outputs": [],
   "source": [
    "df_smr_30 = resample_time_series(df_smr, aggregation_function='median')"
   ]
  },
  {
   "cell_type": "markdown",
   "id": "206c685a",
   "metadata": {},
   "source": [
    "# Auroral Electrojet - TODO"
   ]
  },
  {
   "cell_type": "markdown",
   "id": "292a314a",
   "metadata": {},
   "source": [
    "We discretise IE, IL and IU in categories according to their variation"
   ]
  },
  {
   "cell_type": "code",
   "execution_count": null,
   "id": "66fec3e3",
   "metadata": {},
   "outputs": [],
   "source": [
    "hours = 6\n",
    "time_steps = 2 * hours"
   ]
  },
  {
   "cell_type": "code",
   "execution_count": null,
   "id": "c3d6f7b9",
   "metadata": {},
   "outputs": [],
   "source": [
    "_, labels = get_categories(\n",
    "    df_ejet_30['ie_fix'],\n",
    "    window=time_steps,\n",
    "    zero_phase=False,\n",
    ")\n",
    "\n",
    "df_ejet_30['ie_variation'] = np.insert(labels, 0, 0, axis=0)"
   ]
  },
  {
   "cell_type": "code",
   "execution_count": null,
   "id": "ef5559e3",
   "metadata": {},
   "outputs": [],
   "source": [
    "_, labels = get_categories(\n",
    "    df_ejet_30['iu_fix'],\n",
    "    window=time_steps,\n",
    "    zero_phase=False,\n",
    ")\n",
    "\n",
    "df_ejet_30['iu_variation'] = np.insert(labels, 0, 0, axis=0)"
   ]
  },
  {
   "cell_type": "code",
   "execution_count": null,
   "id": "f2696fd5",
   "metadata": {},
   "outputs": [],
   "source": [
    "_, labels = get_categories(\n",
    "    df_ejet_30['il_fix'],\n",
    "    window=time_steps,\n",
    "    zero_phase=False,\n",
    ")\n",
    "\n",
    "df_ejet_30['il_variation'] = np.insert(labels, 0, 0, axis=0)"
   ]
  },
  {
   "cell_type": "markdown",
   "id": "495cf567",
   "metadata": {},
   "source": [
    "Here we construct IE, IL and IU moving averages with several rolling windows (3, 6, 12 and 24 hours)"
   ]
  },
  {
   "cell_type": "code",
   "execution_count": null,
   "id": "161fd416",
   "metadata": {},
   "outputs": [],
   "source": [
    "# n. of periods needed to get 3, 6, 12, 24 hours\n",
    "periods = [2 * per_ for per_ in [3, 6, 12, 24]]\n",
    "\n",
    "for per_ in periods:\n",
    "    # IE moving average\n",
    "    df_ejet_30[f'ie_mav_{per_/2:.0f}h'] = df_ejet_30['ie_fix'].rolling(\n",
    "        window=int(per_)\n",
    "    ).mean().round(1)\n",
    "    \n",
    "    # IU moving average\n",
    "    df_ejet_30[f'iu_mav_{per_/2:.0f}h'] = df_ejet_30['iu_fix'].rolling(\n",
    "        window=int(per_)\n",
    "    ).mean().round(1)\n",
    "    \n",
    "    # IL moving average\n",
    "    df_ejet_30[f'il_mav_{per_/2:.0f}h'] = df_ejet_30['il_fix'].rolling(\n",
    "        window=int(per_)\n",
    "    ).mean().round(1)\n",
    "    \n",
    "df_ejet_30 = df_ejet_30.drop(columns=['ie','il','iu']).dropna()"
   ]
  },
  {
   "cell_type": "markdown",
   "id": "3a6f7b5b",
   "metadata": {},
   "source": [
    "## Dataset creation"
   ]
  },
  {
   "cell_type": "code",
   "execution_count": null,
   "id": "3cd84959",
   "metadata": {},
   "outputs": [],
   "source": [
    "df_j = df_ejet_30.merge(\n",
    "    df_tid_30_['quality_index'],\n",
    "    how='left',\n",
    "    left_index=True,\n",
    "    right_index=True,\n",
    ").merge(\n",
    "    df_hf_30,\n",
    "    how='left',\n",
    "    left_index=True,\n",
    "    right_index=True,\n",
    ").merge(\n",
    "    df_solar['f_107_adj'],\n",
    "    how='left',\n",
    "    left_index=True,\n",
    "    right_index=True,\n",
    ").merge(\n",
    "    df_hp_30,\n",
    "    left_index=True,\n",
    "    right_index=True,\n",
    ").merge(\n",
    "    df_smr_30,\n",
    "    left_index=True,\n",
    "    right_index=True,\n",
    ").merge(\n",
    "    df_l1_30,\n",
    "    left_index=True,\n",
    "    right_index=True,\n",
    ").merge(\n",
    "    df_newell_30,\n",
    "    left_index=True,\n",
    "    right_index=True,\n",
    ").merge(\n",
    "    df_ionosondes_30,\n",
    "    left_index=True,\n",
    "    right_index=True,\n",
    ")\n",
    "\n",
    "# Solar data need to be repeated, since they're provided on a daily basis only\n",
    "df_j['f_107_adj'] = df_j['f_107_adj'].ffill()\n",
    "\n",
    "# Solar zenith angle\n",
    "df_j['solar_zenith_angle'] = get_solar_position(\n",
    "    df_j.index, columns='zenith', altitude=0,\n",
    ").round(1)"
   ]
  },
  {
   "cell_type": "code",
   "execution_count": null,
   "id": "2ea6320f",
   "metadata": {},
   "outputs": [],
   "source": [
    "assert df_j.reset_index().duplicated('datetime').sum() == 0"
   ]
  },
  {
   "cell_type": "markdown",
   "id": "68574402",
   "metadata": {},
   "source": [
    "Construct the actual **target**, a boolean column which is set to 1 whenever a **TID event** is reported **within a 3-hours timeframe**"
   ]
  },
  {
   "cell_type": "code",
   "execution_count": null,
   "id": "5314a944",
   "metadata": {},
   "outputs": [],
   "source": [
    "steps = 2 * FORECAST_HOURS_IN_ADVANCE\n",
    "\n",
    "df_j[f'tid_within_{FORECAST_HOURS_IN_ADVANCE}h'] = df_j['quality_index'].rolling(\n",
    "    window=steps+1, min_periods=1\n",
    ").sum().gt(0).shift(\n",
    "    -steps, fill_value=False\n",
    ").replace(\n",
    "    {True: 1, False: 0}\n",
    ")"
   ]
  },
  {
   "cell_type": "code",
   "execution_count": null,
   "id": "fab48c77",
   "metadata": {},
   "outputs": [],
   "source": [
    "# df_j['solar_zenith_angle'].apply(np.real).describe()"
   ]
  },
  {
   "cell_type": "markdown",
   "id": "e286992a",
   "metadata": {},
   "source": [
    "## Dump"
   ]
  },
  {
   "cell_type": "code",
   "execution_count": null,
   "id": "f92748c4",
   "metadata": {},
   "outputs": [],
   "source": [
    "df_j.drop(\n",
    "    columns=['quality_index'],\n",
    ").to_pickle(\n",
    "    Path(DATA_OUT, 'df_dataset.pickle')\n",
    ")"
   ]
  }
 ],
 "metadata": {
  "kernelspec": {
   "display_name": "Python 3 (ipykernel)",
   "language": "python",
   "name": "python3"
  },
  "language_info": {
   "codemirror_mode": {
    "name": "ipython",
    "version": 3
   },
   "file_extension": ".py",
   "mimetype": "text/x-python",
   "name": "python",
   "nbconvert_exporter": "python",
   "pygments_lexer": "ipython3",
   "version": "3.10.8"
  }
 },
 "nbformat": 4,
 "nbformat_minor": 5
}
