{
 "cells": [
  {
   "cell_type": "code",
   "execution_count": null,
   "id": "26fdc8aa",
   "metadata": {},
   "outputs": [],
   "source": [
    "from datetime import datetime, timedelta\n",
    "\n",
    "import pandas as pd\n",
    "import numpy as np\n",
    "import plotly.express as px\n",
    "\n",
    "from src.io import (\n",
    "    get_techtide_hf,\n",
    "    get_techtide_ionosondes,\n",
    "    get_gfz_f107,\n",
    "    get_gfz_hp30,\n",
    ")\n",
    "from src.preprocess import (\n",
    "    resample_time_series,\n",
    "    get_categories,\n",
    "    get_solar_position,\n",
    ")"
   ]
  },
  {
   "cell_type": "code",
   "execution_count": null,
   "id": "f5b51318",
   "metadata": {},
   "outputs": [],
   "source": [
    "# START = '2024-10-14 00:00:00'\n",
    "# STOP = '2024-10-14 23:59:00'\n",
    "\n",
    "STOP_UTC_NOW = datetime.utcnow()\n",
    "START_UTC = STOP_UTC_NOW - timedelta(hours=6)\n",
    "\n",
    "STOP_UTC_NOW = STOP_UTC_NOW.strftime(\"%Y-%m-%d %H:%M:%S\")\n",
    "START_UTC = START_UTC.strftime(\"%Y-%m-%d %H:%M:%S\")"
   ]
  },
  {
   "cell_type": "markdown",
   "id": "9d6521d7",
   "metadata": {},
   "source": [
    "# TechTIDE"
   ]
  },
  {
   "cell_type": "markdown",
   "id": "1c4db05a",
   "metadata": {},
   "source": [
    "#### HF-INT + 2-h moving average"
   ]
  },
  {
   "cell_type": "code",
   "execution_count": null,
   "id": "37a73f15",
   "metadata": {},
   "outputs": [],
   "source": [
    "df_hf = get_techtide_hf(start=START_UTC, stop=STOP_UTC_NOW)\n",
    "\n",
    "df_hf_30 = resample_time_series(df_hf, aggregation_function='mean').round(2)"
   ]
  },
  {
   "cell_type": "code",
   "execution_count": null,
   "id": "dc8ad050",
   "metadata": {},
   "outputs": [],
   "source": [
    "period = 2 * 2\n",
    "\n",
    "df_hf_30[f'hf_mav_{period/2:.0f}h'] = df_hf_30['hf'].rolling(\n",
    "    window=int(period)\n",
    ").mean().round(2)"
   ]
  },
  {
   "cell_type": "markdown",
   "id": "eda9f496",
   "metadata": {},
   "source": [
    "#### Ionosondes"
   ]
  },
  {
   "cell_type": "code",
   "execution_count": null,
   "id": "c6d05711",
   "metadata": {
    "scrolled": false
   },
   "outputs": [],
   "source": [
    "df_iono = get_techtide_ionosondes(\n",
    "    START_UTC,\n",
    "    STOP_UTC_NOW,\n",
    "    iono_list=['AT138', 'FF051', 'JR055', 'PQ052', 'RO041', 'VT139'],\n",
    ")\n",
    "\n",
    "df_iono_30 = resample_time_series(\n",
    "    df_iono,\n",
    "    aggregation_function='median',\n",
    ").round(2)"
   ]
  },
  {
   "cell_type": "markdown",
   "id": "8903195f",
   "metadata": {},
   "source": [
    "# Solar Zenith Angle (pvlib)"
   ]
  },
  {
   "cell_type": "code",
   "execution_count": null,
   "id": "66a2fb57",
   "metadata": {},
   "outputs": [],
   "source": [
    "get_solar_position(\n",
    "    df_hf_30.index[-1], columns='zenith', altitude=0,\n",
    ").round(1)"
   ]
  },
  {
   "cell_type": "markdown",
   "id": "9b0d19c4",
   "metadata": {},
   "source": [
    "# GFZ"
   ]
  },
  {
   "cell_type": "markdown",
   "id": "c5aadd5b",
   "metadata": {},
   "source": [
    "#### Hp-30"
   ]
  },
  {
   "cell_type": "code",
   "execution_count": null,
   "id": "f20e71f7",
   "metadata": {},
   "outputs": [],
   "source": [
    "df_hp_30 = get_gfz_hp30(start='2024-10-15 23:00:00', stop=STOP_UTC_NOW)"
   ]
  },
  {
   "cell_type": "markdown",
   "id": "8063bd14",
   "metadata": {},
   "source": [
    "#### F10.7 (adj)"
   ]
  },
  {
   "cell_type": "code",
   "execution_count": null,
   "id": "a4bef747",
   "metadata": {
    "scrolled": false
   },
   "outputs": [],
   "source": [
    "get_gfz_f107()"
   ]
  },
  {
   "cell_type": "markdown",
   "id": "a217f154",
   "metadata": {},
   "source": [
    "# L1 data - TODO"
   ]
  },
  {
   "cell_type": "code",
   "execution_count": null,
   "id": "008415d0",
   "metadata": {},
   "outputs": [],
   "source": [
    "df_l1 = read_time_series(\n",
    "    Path(DATA_IN, 'SolarWind_Projected_Merged.csv'),\n",
    "    column_names=['datetime','bz','vx','rho'],\n",
    "    usecols=[0,6,8,11],\n",
    ").loc[START_DATE:END_DATE]"
   ]
  },
  {
   "cell_type": "code",
   "execution_count": null,
   "id": "1fdd5ae8",
   "metadata": {},
   "outputs": [],
   "source": [
    "df_l1_30 = resample_time_series(df_l1, aggregation_function='median')"
   ]
  },
  {
   "cell_type": "markdown",
   "id": "51329546",
   "metadata": {},
   "source": [
    "# Newell (coupling) - TODO"
   ]
  },
  {
   "cell_type": "code",
   "execution_count": null,
   "id": "57bab7dc",
   "metadata": {},
   "outputs": [],
   "source": [
    "df_newell = read_time_series(\n",
    "    Path(DATA_IN, 'newell.csv'),\n",
    "    column_names=['datetime','newell'],\n",
    ").loc[START_DATE:END_DATE]"
   ]
  },
  {
   "cell_type": "code",
   "execution_count": null,
   "id": "f6da2f2a",
   "metadata": {},
   "outputs": [],
   "source": [
    "df_newell_30 = resample_time_series(df_newell, aggregation_function='median')"
   ]
  },
  {
   "cell_type": "markdown",
   "id": "c1aa7392",
   "metadata": {},
   "source": [
    "# SMR (SuperMAG partial ring current index) - TODO"
   ]
  },
  {
   "cell_type": "code",
   "execution_count": null,
   "id": "fe274ca4",
   "metadata": {},
   "outputs": [],
   "source": [
    "df_smr = read_time_series(\n",
    "    Path(DATA_IN, 'SMR.csv'),\n",
    "    column_names=['datetime','smr'],\n",
    ").loc[START_DATE:END_DATE]"
   ]
  },
  {
   "cell_type": "code",
   "execution_count": null,
   "id": "aab32d52",
   "metadata": {},
   "outputs": [],
   "source": [
    "df_smr_30 = resample_time_series(df_smr, aggregation_function='median')"
   ]
  },
  {
   "cell_type": "markdown",
   "id": "206c685a",
   "metadata": {},
   "source": [
    "# Auroral Electrojet - TODO"
   ]
  },
  {
   "cell_type": "code",
   "execution_count": null,
   "id": "9e350e44",
   "metadata": {},
   "outputs": [],
   "source": [
    "df_ejet = read_time_series(\n",
    "    Path(DATA_IN, 'ImageIDX.csv'),\n",
    "    column_names=['il','iu','ie','datetime'],\n",
    ").loc[START_DATE:END_DATE]"
   ]
  },
  {
   "cell_type": "code",
   "execution_count": null,
   "id": "c5402da8",
   "metadata": {},
   "outputs": [],
   "source": [
    "df_ejet_30 = resample_time_series(df_ejet, aggregation_function='median')\n",
    "df_ejet_30['ie'] = df_ejet_30['ie'].round(1)"
   ]
  },
  {
   "cell_type": "markdown",
   "id": "caa9837e",
   "metadata": {},
   "source": [
    "We detected **anomalous IE values**\n",
    "\n",
    "The reported values appear to be affected by instrumental **offsets** that have a time window of 1 or more consecutive days\n",
    "\n",
    "We removed the offset by subtracting a value equal to the average of the jumps before and after the affected day(s) (```ill_dates```)"
   ]
  },
  {
   "cell_type": "code",
   "execution_count": null,
   "id": "6b9d8d49",
   "metadata": {},
   "outputs": [],
   "source": [
    "df_ejet_30['ie_diff'] = df_ejet_30['ie'].diff()\n",
    "\n",
    "ill_dates = [\n",
    "    ['2015-05-31', '2015-06-01'],\n",
    "    ['2015-11-27', '2015-12-01'],\n",
    "    ['2015-12-04', '2015-12-07'],\n",
    "    ['2018-08-29', '2018-08-31'],\n",
    "    ['2018-09-01', '2018-09-08'],\n",
    "    ['2019-12-27', '2020-01-01'],\n",
    "]\n",
    "\n",
    "df_ejet_30['ie_fix'] = df_ejet_30['ie']\n",
    "for range_ in ill_dates:\n",
    "    offset_ = np.round(\n",
    "        (\n",
    "            df_ejet_30.loc[range_[0], 'ie_diff'].values[0] -\n",
    "            df_ejet_30.loc[range_[-1], 'ie_diff'].values[0]\n",
    "        ) / 2,\n",
    "        1\n",
    "    )\n",
    "    \n",
    "    df_ejet_30.loc[\n",
    "        range_[0]: pd.to_datetime(range_[1]) - pd.Timedelta(minutes=30),\n",
    "        'ie_fix',\n",
    "    ] -= offset_\n",
    "    \n",
    "df_ejet_30['ie_fix'] = df_ejet_30['ie_fix'].clip(lower=0)\n",
    "df_ejet_30 = df_ejet_30.drop(columns='ie_diff')"
   ]
  },
  {
   "cell_type": "markdown",
   "id": "25726f5b",
   "metadata": {},
   "source": [
    "Similarly for IU and IL"
   ]
  },
  {
   "cell_type": "code",
   "execution_count": null,
   "id": "23204c12",
   "metadata": {},
   "outputs": [],
   "source": [
    "df_ejet_30['iu_diff'] = df_ejet_30['iu'].diff()\n",
    "\n",
    "ill_dates = [\n",
    "    ['2015-05-31', '2015-06-01'],\n",
    "    ['2015-11-27', '2015-12-01'],\n",
    "    ['2015-12-04', '2015-12-07'],\n",
    "    ['2019-12-27', '2020-01-01'],\n",
    "]\n",
    "\n",
    "df_ejet_30['iu_fix'] = df_ejet_30['iu']\n",
    "for range_ in ill_dates:\n",
    "    offset_ = np.round(\n",
    "        (\n",
    "            df_ejet_30.loc[range_[0], 'iu_diff'].values[0] -\n",
    "            df_ejet_30.loc[range_[-1], 'iu_diff'].values[0]\n",
    "        ) / 2,\n",
    "        1\n",
    "    )\n",
    "    \n",
    "    df_ejet_30.loc[\n",
    "        range_[0]: pd.to_datetime(range_[1]) - pd.Timedelta(minutes=30),\n",
    "        'iu_fix',\n",
    "    ] -= offset_\n",
    "    \n",
    "df_ejet_30 = df_ejet_30.drop(columns='iu_diff')"
   ]
  },
  {
   "cell_type": "code",
   "execution_count": null,
   "id": "dc8b1ade",
   "metadata": {},
   "outputs": [],
   "source": [
    "df_ejet_30['il_diff'] = df_ejet_30['il'].diff()\n",
    "\n",
    "ill_dates = [\n",
    "    ['2018-08-29', '2018-08-31'],\n",
    "    ['2018-09-01', '2018-09-08'],\n",
    "]\n",
    "\n",
    "df_ejet_30['il_fix'] = df_ejet_30['il']\n",
    "for range_ in ill_dates:\n",
    "    offset_ = np.round(\n",
    "        (\n",
    "            df_ejet_30.loc[range_[0], 'il_diff'].values[0] -\n",
    "            df_ejet_30.loc[range_[-1], 'il_diff'].values[0]\n",
    "        ) / 2,\n",
    "        1\n",
    "    )\n",
    "    \n",
    "    df_ejet_30.loc[\n",
    "        range_[0]: pd.to_datetime(range_[1]) - pd.Timedelta(minutes=30),\n",
    "        'il_fix',\n",
    "    ] -= offset_\n",
    "    \n",
    "df_ejet_30 = df_ejet_30.drop(columns='il_diff')"
   ]
  },
  {
   "cell_type": "markdown",
   "id": "292a314a",
   "metadata": {},
   "source": [
    "Finally, we discretise IE, IL and IU in categories according to their variation"
   ]
  },
  {
   "cell_type": "code",
   "execution_count": null,
   "id": "66fec3e3",
   "metadata": {},
   "outputs": [],
   "source": [
    "hours = 6\n",
    "time_steps = 2 * hours"
   ]
  },
  {
   "cell_type": "code",
   "execution_count": null,
   "id": "c3d6f7b9",
   "metadata": {},
   "outputs": [],
   "source": [
    "_, labels = get_categories(\n",
    "    df_ejet_30['ie_fix'],\n",
    "    window=time_steps,\n",
    "    zero_phase=False,\n",
    ")\n",
    "\n",
    "df_ejet_30['ie_variation'] = np.insert(labels, 0, 0, axis=0)"
   ]
  },
  {
   "cell_type": "code",
   "execution_count": null,
   "id": "ef5559e3",
   "metadata": {},
   "outputs": [],
   "source": [
    "_, labels = get_categories(\n",
    "    df_ejet_30['iu_fix'],\n",
    "    window=time_steps,\n",
    "    zero_phase=False,\n",
    ")\n",
    "\n",
    "df_ejet_30['iu_variation'] = np.insert(labels, 0, 0, axis=0)"
   ]
  },
  {
   "cell_type": "code",
   "execution_count": null,
   "id": "f2696fd5",
   "metadata": {},
   "outputs": [],
   "source": [
    "_, labels = get_categories(\n",
    "    df_ejet_30['il_fix'],\n",
    "    window=time_steps,\n",
    "    zero_phase=False,\n",
    ")\n",
    "\n",
    "df_ejet_30['il_variation'] = np.insert(labels, 0, 0, axis=0)"
   ]
  },
  {
   "cell_type": "markdown",
   "id": "495cf567",
   "metadata": {},
   "source": [
    "Here we construct IE, IL and IU moving averages with several rolling windows (3, 6, 12 and 24 hours)"
   ]
  },
  {
   "cell_type": "code",
   "execution_count": null,
   "id": "161fd416",
   "metadata": {},
   "outputs": [],
   "source": [
    "# n. of periods needed to get 3, 6, 12, 24 hours\n",
    "periods = [2 * per_ for per_ in [3, 6, 12, 24]]\n",
    "\n",
    "for per_ in periods:\n",
    "    # IE moving average\n",
    "    df_ejet_30[f'ie_mav_{per_/2:.0f}h'] = df_ejet_30['ie_fix'].rolling(\n",
    "        window=int(per_)\n",
    "    ).mean().round(1)\n",
    "    \n",
    "    # IU moving average\n",
    "    df_ejet_30[f'iu_mav_{per_/2:.0f}h'] = df_ejet_30['iu_fix'].rolling(\n",
    "        window=int(per_)\n",
    "    ).mean().round(1)\n",
    "    \n",
    "    # IL moving average\n",
    "    df_ejet_30[f'il_mav_{per_/2:.0f}h'] = df_ejet_30['il_fix'].rolling(\n",
    "        window=int(per_)\n",
    "    ).mean().round(1)\n",
    "    \n",
    "df_ejet_30 = df_ejet_30.drop(columns=['ie','il','iu']).dropna()"
   ]
  },
  {
   "cell_type": "markdown",
   "id": "3a6f7b5b",
   "metadata": {},
   "source": [
    "## Dataset creation"
   ]
  },
  {
   "cell_type": "code",
   "execution_count": null,
   "id": "3cd84959",
   "metadata": {},
   "outputs": [],
   "source": [
    "df_j = df_ejet_30.merge(\n",
    "    df_tid_30_['quality_index'],\n",
    "    how='left',\n",
    "    left_index=True,\n",
    "    right_index=True,\n",
    ").merge(\n",
    "    df_hf_30,\n",
    "    how='left',\n",
    "    left_index=True,\n",
    "    right_index=True,\n",
    ").merge(\n",
    "    df_solar['f_107_adj'],\n",
    "    how='left',\n",
    "    left_index=True,\n",
    "    right_index=True,\n",
    ").merge(\n",
    "    df_hp_30,\n",
    "    left_index=True,\n",
    "    right_index=True,\n",
    ").merge(\n",
    "    df_smr_30,\n",
    "    left_index=True,\n",
    "    right_index=True,\n",
    ").merge(\n",
    "    df_l1_30,\n",
    "    left_index=True,\n",
    "    right_index=True,\n",
    ").merge(\n",
    "    df_newell_30,\n",
    "    left_index=True,\n",
    "    right_index=True,\n",
    ").merge(\n",
    "    df_ionosondes_30,\n",
    "    left_index=True,\n",
    "    right_index=True,\n",
    ")\n",
    "\n",
    "# Solar data need to be repeated, since they're provided on a daily basis only\n",
    "df_j['f_107_adj'] = df_j['f_107_adj'].ffill()\n",
    "\n",
    "# Solar zenith angle\n",
    "df_j['solar_zenith_angle'] = get_solar_position(\n",
    "    df_j.index, columns='zenith', altitude=0,\n",
    ").round(1)"
   ]
  },
  {
   "cell_type": "code",
   "execution_count": null,
   "id": "2ea6320f",
   "metadata": {},
   "outputs": [],
   "source": [
    "assert df_j.reset_index().duplicated('datetime').sum() == 0"
   ]
  },
  {
   "cell_type": "markdown",
   "id": "68574402",
   "metadata": {},
   "source": [
    "Construct the actual **target**, a boolean column which is set to 1 whenever a **TID event** is reported **within a 3-hours timeframe**"
   ]
  },
  {
   "cell_type": "code",
   "execution_count": null,
   "id": "5314a944",
   "metadata": {},
   "outputs": [],
   "source": [
    "steps = 2 * FORECAST_HOURS_IN_ADVANCE\n",
    "\n",
    "df_j[f'tid_within_{FORECAST_HOURS_IN_ADVANCE}h'] = df_j['quality_index'].rolling(\n",
    "    window=steps+1, min_periods=1\n",
    ").sum().gt(0).shift(\n",
    "    -steps, fill_value=False\n",
    ").replace(\n",
    "    {True: 1, False: 0}\n",
    ")"
   ]
  },
  {
   "cell_type": "code",
   "execution_count": null,
   "id": "fab48c77",
   "metadata": {},
   "outputs": [],
   "source": [
    "# df_j['solar_zenith_angle'].apply(np.real).describe()"
   ]
  },
  {
   "cell_type": "markdown",
   "id": "e286992a",
   "metadata": {},
   "source": [
    "## Dump"
   ]
  },
  {
   "cell_type": "code",
   "execution_count": null,
   "id": "f92748c4",
   "metadata": {},
   "outputs": [],
   "source": [
    "df_j.drop(\n",
    "    columns=['quality_index'],\n",
    ").to_pickle(\n",
    "    Path(DATA_OUT, 'df_dataset.pickle')\n",
    ")"
   ]
  }
 ],
 "metadata": {
  "kernelspec": {
   "display_name": "Python 3 (ipykernel)",
   "language": "python",
   "name": "python3"
  },
  "language_info": {
   "codemirror_mode": {
    "name": "ipython",
    "version": 3
   },
   "file_extension": ".py",
   "mimetype": "text/x-python",
   "name": "python",
   "nbconvert_exporter": "python",
   "pygments_lexer": "ipython3",
   "version": "3.10.8"
  }
 },
 "nbformat": 4,
 "nbformat_minor": 5
}
