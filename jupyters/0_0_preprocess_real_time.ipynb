{
 "cells": [
  {
   "cell_type": "code",
   "execution_count": null,
   "id": "26fdc8aa",
   "metadata": {},
   "outputs": [],
   "source": [
    "from datetime import datetime, timedelta\n",
    "\n",
    "import pandas as pd\n",
    "import numpy as np\n",
    "import plotly.express as px\n",
    "\n",
    "from src.backend.io import (\n",
    "    get_techtide_hf,\n",
    "    get_techtide_ionosondes,\n",
    "    get_gfz_f107,\n",
    "    get_gfz_hp30,\n",
    "    get_noaa_l1,\n",
    "    get_noaa_dst,\n",
    "    get_fmi_iu_ie,\n",
    ")\n",
    "from src.backend.preprocess import (\n",
    "    resample_time_series,\n",
    "    get_categories,\n",
    "    get_solar_position,\n",
    "    get_moving_avg,\n",
    ")"
   ]
  },
  {
   "cell_type": "code",
   "execution_count": null,
   "id": "f5b51318",
   "metadata": {},
   "outputs": [],
   "source": [
    "STOP_UTC_NOW = datetime.utcnow()\n",
    "START_UTC = STOP_UTC_NOW - timedelta(hours=6)\n",
    "\n",
    "STOP_UTC_NOW = STOP_UTC_NOW.strftime(\"%Y-%m-%d %H:%M:%S\")\n",
    "START_UTC = START_UTC.strftime(\"%Y-%m-%d %H:%M:%S\")"
   ]
  },
  {
   "cell_type": "markdown",
   "id": "9d6521d7",
   "metadata": {},
   "source": [
    "# TechTIDE"
   ]
  },
  {
   "cell_type": "markdown",
   "id": "1c4db05a",
   "metadata": {},
   "source": [
    "#### HF-INT + 2-h moving average"
   ]
  },
  {
   "cell_type": "code",
   "execution_count": null,
   "id": "37a73f15",
   "metadata": {},
   "outputs": [],
   "source": [
    "df_hf = get_techtide_hf(start=START_UTC, stop=STOP_UTC_NOW)\n",
    "\n",
    "df_hf_30 = resample_time_series(df_hf, aggregation_function='mean').round(2)"
   ]
  },
  {
   "cell_type": "code",
   "execution_count": null,
   "id": "b3e5ff75",
   "metadata": {},
   "outputs": [],
   "source": [
    "df_hf_30 = get_moving_avg(df_hf_30, ['hf'], [2])"
   ]
  },
  {
   "cell_type": "markdown",
   "id": "eda9f496",
   "metadata": {},
   "source": [
    "#### Ionosondes"
   ]
  },
  {
   "cell_type": "code",
   "execution_count": null,
   "id": "c6d05711",
   "metadata": {},
   "outputs": [],
   "source": [
    "df_iono = get_techtide_ionosondes(\n",
    "    START_UTC,\n",
    "    STOP_UTC_NOW,\n",
    "    iono_list=['AT138', 'FF051', 'JR055', 'PQ052', 'RO041', 'VT139'],\n",
    ")\n",
    "\n",
    "df_iono_30 = resample_time_series(\n",
    "    df_iono,\n",
    "    aggregation_function='median',\n",
    ").round(2)"
   ]
  },
  {
   "cell_type": "markdown",
   "id": "8903195f",
   "metadata": {},
   "source": [
    "# Solar Zenith Angle (pvlib)"
   ]
  },
  {
   "cell_type": "code",
   "execution_count": null,
   "id": "66a2fb57",
   "metadata": {},
   "outputs": [],
   "source": [
    "get_solar_position(\n",
    "    df_hf_30.index[-1], columns='zenith', altitude=0,\n",
    ").round(1)"
   ]
  },
  {
   "cell_type": "markdown",
   "id": "9b0d19c4",
   "metadata": {},
   "source": [
    "# GFZ"
   ]
  },
  {
   "cell_type": "markdown",
   "id": "c5aadd5b",
   "metadata": {},
   "source": [
    "#### Hp-30"
   ]
  },
  {
   "cell_type": "code",
   "execution_count": null,
   "id": "f20e71f7",
   "metadata": {},
   "outputs": [],
   "source": [
    "df_hp_30 = get_gfz_hp30()"
   ]
  },
  {
   "cell_type": "markdown",
   "id": "8063bd14",
   "metadata": {},
   "source": [
    "#### F10.7 (adj)"
   ]
  },
  {
   "cell_type": "code",
   "execution_count": null,
   "id": "a4bef747",
   "metadata": {},
   "outputs": [],
   "source": [
    "get_gfz_f107().dropna().tail(1)"
   ]
  },
  {
   "cell_type": "markdown",
   "id": "a217f154",
   "metadata": {},
   "source": [
    "# NOAA"
   ]
  },
  {
   "cell_type": "markdown",
   "id": "ccd3d9f8",
   "metadata": {},
   "source": [
    "#### L1 data + Newell coupling, defined by\n",
    "$$v^{4/3} \\left(B_y^2 + B_z^2\\right)^{2/3} \\sin^{8/3}\\left(\\frac{1}{2}\\arctan\\left(\\left| \\frac{B_y}{B_z} \\right|\\right)\\right)$$"
   ]
  },
  {
   "cell_type": "code",
   "execution_count": null,
   "id": "bfdb2c42",
   "metadata": {},
   "outputs": [],
   "source": [
    "# df_l1 = get_noaa_l1(end_propagated_datetime=STOP_UTC_NOW)"
   ]
  },
  {
   "cell_type": "code",
   "execution_count": null,
   "id": "12821e99",
   "metadata": {},
   "outputs": [],
   "source": [
    "import requests\n",
    "\n",
    "L1_DIST = 1_500_000\n",
    "BSN_DIST = 90_000\n",
    "\n",
    "def real_time_solar_wind(end_propagated_datetime: str) -> pd.DataFrame:\n",
    "\n",
    "    try:\n",
    "        response = requests.get('https://services.swpc.noaa.gov/products/solar-wind/mag-6-hour.json')\n",
    "        df_mag = pd.DataFrame(response.json()[1:], columns=response.json()[0])\n",
    "        response = requests.get('https://services.swpc.noaa.gov/products/solar-wind/plasma-6-hour.json')\n",
    "        df_plasma = pd.DataFrame(response.json()[1:], columns=response.json()[0])\n",
    "    except:\n",
    "        raise Exception(f'Error in retrieving solar wind data. Status code: {response.status_code}. Text: {response.text}')\n",
    "    \n",
    "    df = df_mag.merge(df_plasma, on='time_tag', how='outer')\n",
    "    df.index = pd.Index(pd.to_datetime(df.pop('time_tag')), name='datetime_measure')\n",
    "    df = df.apply(pd.to_numeric).reset_index()\n",
    "\n",
    "    df.columns = df.columns.str.removesuffix('_gsm')\n",
    "    \n",
    "    df['seconds_to_arrive'] = np.round((L1_DIST - BSN_DIST) / df['speed'])\n",
    "    df['datetime'] = df['datetime_measure'] + pd.to_timedelta(df['seconds_to_arrive'], unit='s')\n",
    "    \n",
    "    df[\"newell\"] = (\n",
    "        df[\"speed\"] ** (4 / 3)\n",
    "        * (df[\"by\"] ** 2 + df[\"bz\"] ** 2) ** (1 / 3)\n",
    "        * (np.sin(np.arctan((df[\"by\"].div(df[\"bz\"]).abs())) / 2) ** (8 / 3))\n",
    "    ).round(1)\n",
    "    \n",
    "    return df[\n",
    "        df['datetime'].lt(end_propagated_datetime)\n",
    "    ].drop(\n",
    "        columns=['datetime_measure', 'seconds_to_arrive', 'lon', 'lat', 'temperature', 'bx', 'bt']\n",
    "    ).set_index('datetime')"
   ]
  },
  {
   "cell_type": "code",
   "execution_count": null,
   "id": "c3826721",
   "metadata": {},
   "outputs": [],
   "source": [
    "df_l1 = real_time_solar_wind(end_propagated_datetime=STOP_UTC_NOW)"
   ]
  },
  {
   "cell_type": "code",
   "execution_count": null,
   "id": "baf0fbc5",
   "metadata": {},
   "outputs": [],
   "source": [
    "df_l1_30 = resample_time_series(\n",
    "    df_l1,\n",
    "    aggregation_function='median',\n",
    ")"
   ]
  },
  {
   "cell_type": "markdown",
   "id": "27c6d557",
   "metadata": {},
   "source": [
    "#### Dst"
   ]
  },
  {
   "cell_type": "code",
   "execution_count": null,
   "id": "559954d4",
   "metadata": {},
   "outputs": [],
   "source": [
    "df_dst = get_noaa_dst(end_datetime=STOP_UTC_NOW)"
   ]
  },
  {
   "cell_type": "code",
   "execution_count": null,
   "id": "aab32d52",
   "metadata": {},
   "outputs": [],
   "source": [
    "df_dst_30 = resample_time_series(df_dst, aggregation_function='median').ffill()"
   ]
  },
  {
   "cell_type": "markdown",
   "id": "b9bef317",
   "metadata": {},
   "source": [
    "# FMI"
   ]
  },
  {
   "cell_type": "markdown",
   "id": "32a7000b",
   "metadata": {},
   "source": [
    "#### IU & IL + moving avgs + variations"
   ]
  },
  {
   "cell_type": "code",
   "execution_count": null,
   "id": "85ffb76e",
   "metadata": {},
   "outputs": [],
   "source": [
    "fmi_cols = ['ie', 'iu']"
   ]
  },
  {
   "cell_type": "code",
   "execution_count": null,
   "id": "e96368cf",
   "metadata": {},
   "outputs": [],
   "source": [
    "df_fmi = get_fmi_iu_ie()"
   ]
  },
  {
   "cell_type": "code",
   "execution_count": null,
   "id": "888c4de4",
   "metadata": {},
   "outputs": [],
   "source": [
    "df_fmi_30 = resample_time_series(df_fmi, aggregation_function='median').round(2)"
   ]
  },
  {
   "cell_type": "code",
   "execution_count": null,
   "id": "8ed93ae9",
   "metadata": {},
   "outputs": [],
   "source": [
    "df_fmi_30 = get_moving_avg(df_fmi_30, fmi_cols, [3, 12])"
   ]
  },
  {
   "cell_type": "code",
   "execution_count": null,
   "id": "fa6147d9",
   "metadata": {},
   "outputs": [],
   "source": [
    "hours = 6\n",
    "for col_ in fmi_cols:\n",
    "    _, labels = get_categories(\n",
    "        df_fmi_30[col_],\n",
    "        window=2*hours,\n",
    "        zero_phase=False,\n",
    "    )\n",
    "\n",
    "    df_fmi_30[f'{col_}_variation'] = np.insert(labels, 0, 0, axis=0)"
   ]
  },
  {
   "cell_type": "markdown",
   "id": "3a6f7b5b",
   "metadata": {},
   "source": [
    "## Dataset creation"
   ]
  },
  {
   "cell_type": "code",
   "execution_count": null,
   "id": "499846eb",
   "metadata": {},
   "outputs": [],
   "source": [
    "df_j = df_hf_30.merge(\n",
    "    df_iono_30,\n",
    "    how='outer',\n",
    "    left_index=True,\n",
    "    right_index=True,\n",
    ").merge(\n",
    "    df_hp_30,\n",
    "    how='outer',\n",
    "    left_index=True,\n",
    "    right_index=True,\n",
    ").merge(\n",
    "    df_l1_30.drop(columns=['by','speed']),\n",
    "    how='outer',\n",
    "    left_index=True,\n",
    "    right_index=True,\n",
    ").merge(\n",
    "    df_dst_30,\n",
    "    how='outer',\n",
    "    left_index=True,\n",
    "    right_index=True,\n",
    ").merge(\n",
    "    df_fmi_30,\n",
    "    how='outer',\n",
    "    left_index=True,\n",
    "    right_index=True,\n",
    ")\n",
    "\n",
    "# Solar and Dst data need to be repeated, since they're provided on a daily/hourly basis\n",
    "df_j['dst'] = df_j['dst'].ffill()    \n",
    "df_j['f_107_adj'] = get_gfz_f107().dropna().tail(1).values[0,0]\n",
    "\n",
    "# Solar zenith angle\n",
    "df_j['solar_zenith_angle'] = get_solar_position(\n",
    "    df_j.index, columns='zenith', altitude=0,\n",
    ").round(1)"
   ]
  },
  {
   "cell_type": "code",
   "execution_count": null,
   "id": "03360546",
   "metadata": {},
   "outputs": [],
   "source": [
    "df_j.tail(1).T"
   ]
  },
  {
   "cell_type": "code",
   "execution_count": null,
   "id": "2ea6320f",
   "metadata": {},
   "outputs": [],
   "source": [
    "assert df_j.reset_index().duplicated('datetime').sum() == 0"
   ]
  },
  {
   "cell_type": "markdown",
   "id": "1a457070",
   "metadata": {},
   "source": [
    "[Estimating Standard Performance Metrics for Binary Classification (NannyML)](https://nannyml.readthedocs.io/en/latest/tutorials/performance_estimation/binary_performance_estimation/standard_metric_estimation.html)"
   ]
  }
 ],
 "metadata": {
  "kernelspec": {
   "display_name": "Python 3 (ipykernel)",
   "language": "python",
   "name": "python3"
  },
  "language_info": {
   "codemirror_mode": {
    "name": "ipython",
    "version": 3
   },
   "file_extension": ".py",
   "mimetype": "text/x-python",
   "name": "python",
   "nbconvert_exporter": "python",
   "pygments_lexer": "ipython3",
   "version": "3.10.16"
  }
 },
 "nbformat": 4,
 "nbformat_minor": 5
}
