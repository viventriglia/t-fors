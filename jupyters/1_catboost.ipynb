{
 "cells": [
  {
   "cell_type": "code",
   "execution_count": null,
   "id": "d0ebd374",
   "metadata": {},
   "outputs": [],
   "source": [
    "from pathlib import Path\n",
    "\n",
    "import pandas as pd\n",
    "import numpy as np\n",
    "from sklearn.model_selection import TimeSeriesSplit\n",
    "from sklearn.metrics import f1_score, classification_report\n",
    "from catboost import Pool\n",
    "import optuna\n",
    "import shap\n",
    "import plotly.express as px\n",
    "\n",
    "from var import DATA_OUT\n",
    "from src.forecast import instantiate_and_fit_model, objective"
   ]
  },
  {
   "cell_type": "code",
   "execution_count": null,
   "id": "132cda7b",
   "metadata": {},
   "outputs": [],
   "source": [
    "df = pd.read_pickle(Path(DATA_OUT, 'df_dataset.pickle'))\n",
    "\n",
    "df['tid_within_3h'] = df['tid_within_3h'].replace(\n",
    "    {True: 1, False: 0}\n",
    ")"
   ]
  },
  {
   "cell_type": "code",
   "execution_count": null,
   "id": "eab50482",
   "metadata": {},
   "outputs": [],
   "source": [
    "# class_weights = [\n",
    "#     1 / y_train.eq(False).sum(),\n",
    "#     1 / y_train.eq(True).sum(),\n",
    "# ]"
   ]
  },
  {
   "cell_type": "code",
   "execution_count": null,
   "id": "4a36726e",
   "metadata": {},
   "outputs": [],
   "source": [
    "# Features\n",
    "X = df[\n",
    "    [\n",
    "        'ie_fix',\n",
    "        'ie_pct_change',\n",
    "        'ie_mav_3h',\n",
    "        'ie_mav_6h',\n",
    "        'ie_mav_12h',\n",
    "        'ie_mav_24h',\n",
    "        'hf',\n",
    "        'f_107_adj',\n",
    "        'solar_zenith_angle',\n",
    "    ]\n",
    "].copy()\n",
    "\n",
    "# Target\n",
    "y = df['tid_within_3h'].copy()"
   ]
  },
  {
   "cell_type": "code",
   "execution_count": null,
   "id": "d3cdb9da",
   "metadata": {},
   "outputs": [],
   "source": [
    "params = {\n",
    "    #'iterations': 2_000, # 1_000\n",
    "    'eval_metric': 'F1:use_weights=True', # ['Precision', 'Recall']\n",
    "    'random_seed': 42,\n",
    "    # 'class_weights': class_weights,\n",
    "    'auto_class_weights': 'Balanced',\n",
    "    # 'cat_features': cat_features,\n",
    "    # 'verbose': True,\n",
    "    'od_type': 'Iter',\n",
    "    #'od_wait': 200,\n",
    "    'use_best_model': True,\n",
    "    'has_time': True,\n",
    "}"
   ]
  },
  {
   "cell_type": "code",
   "execution_count": null,
   "id": "89379bf2",
   "metadata": {
    "scrolled": false
   },
   "outputs": [],
   "source": [
    "ts_cv = TimeSeriesSplit(n_splits=5)\n",
    "\n",
    "f1s = []\n",
    "for train_idx, test_idx in ts_cv.split(X):\n",
    "    X_train, X_test = X.iloc[train_idx], X.iloc[test_idx]\n",
    "    y_train, y_test = y.iloc[train_idx], y.iloc[test_idx]\n",
    "    \n",
    "    # Objective function\n",
    "    objective_partial = lambda trial: objective(\n",
    "        trial,\n",
    "        X_train,\n",
    "        y_train,\n",
    "        X_test,\n",
    "        y_test,\n",
    "        params,\n",
    "    )\n",
    "    \n",
    "    # Ottimizzazione con Optuna\n",
    "    study = optuna.create_study(study_name='catboost_clf', direction='maximize')\n",
    "    study.optimize(objective_partial, n_trials=10)\n",
    "\n",
    "    # Recupero dei migliori parametri\n",
    "    best_params = study.best_params\n",
    "\n",
    "    cat_model = instantiate_and_fit_model(\n",
    "        X_train=X_train,\n",
    "        y_train=y_train,\n",
    "        X_test=X_test,\n",
    "        y_test=y_test,\n",
    "        loss_function='Logloss',\n",
    "        params=best_params,\n",
    "    )\n",
    "\n",
    "    y_pred = cat_model.predict(X_test)\n",
    "    f1 = f1_score(y_test, y_pred)\n",
    "    f1s.append(f1)\n",
    "    print(classification_report(y_test, y_pred))"
   ]
  },
  {
   "cell_type": "code",
   "execution_count": null,
   "id": "44d33ff1",
   "metadata": {},
   "outputs": [],
   "source": [
    "optuna.visualization.plot_optimization_history(study)"
   ]
  },
  {
   "cell_type": "code",
   "execution_count": null,
   "id": "1d4674d1",
   "metadata": {},
   "outputs": [],
   "source": [
    "optuna.visualization.plot_param_importances(study)"
   ]
  },
  {
   "cell_type": "code",
   "execution_count": null,
   "id": "89448e45",
   "metadata": {},
   "outputs": [],
   "source": [
    "np.round(np.mean(f1s), 2), np.round(np.std(f1s, ddof=1), 2)"
   ]
  },
  {
   "cell_type": "code",
   "execution_count": null,
   "id": "eb3a4f48",
   "metadata": {},
   "outputs": [],
   "source": [
    "np.round(np.median(f1s), 2)"
   ]
  },
  {
   "cell_type": "markdown",
   "id": "88975732",
   "metadata": {},
   "source": [
    "## SHAP"
   ]
  },
  {
   "cell_type": "code",
   "execution_count": null,
   "id": "d40d501a",
   "metadata": {},
   "outputs": [],
   "source": [
    "shap_values = cat_model.get_feature_importance(\n",
    "    Pool(X_test, label=y_test), #, cat_features=cat_features),\n",
    "    type=\"ShapValues\",\n",
    ")\n",
    "\n",
    "shap_values = shap_values[:,:-1]"
   ]
  },
  {
   "cell_type": "code",
   "execution_count": null,
   "id": "b9f49455",
   "metadata": {},
   "outputs": [],
   "source": [
    "shap.initjs()"
   ]
  },
  {
   "cell_type": "code",
   "execution_count": null,
   "id": "bbcd8aed",
   "metadata": {},
   "outputs": [],
   "source": [
    "shap.summary_plot(shap_values, X_test)"
   ]
  },
  {
   "cell_type": "code",
   "execution_count": null,
   "id": "160b9790",
   "metadata": {},
   "outputs": [],
   "source": [
    "shap.dependence_plot(\n",
    "    'hf',\n",
    "    shap_values,\n",
    "    X_test,\n",
    "    interaction_index='solar_zenith_angle',\n",
    ")"
   ]
  },
  {
   "cell_type": "code",
   "execution_count": null,
   "id": "f7f88b64",
   "metadata": {},
   "outputs": [],
   "source": [
    "shap.dependence_plot(\n",
    "    'ie_fix',\n",
    "    shap_values,\n",
    "    X_test,\n",
    "    interaction_index='ie_mav_12h',\n",
    ")"
   ]
  },
  {
   "cell_type": "code",
   "execution_count": null,
   "id": "4ed2e5b8",
   "metadata": {},
   "outputs": [],
   "source": [
    "df[df['tid_within_3h'].eq(1)].tail(10)"
   ]
  },
  {
   "cell_type": "code",
   "execution_count": null,
   "id": "fa8c8dcb",
   "metadata": {},
   "outputs": [],
   "source": [
    "row = X_test.index.get_loc('2022-12-24 02:30') # 16:00 - 22:00\n",
    "\n",
    "explainer = shap.TreeExplainer(cat_model)\n",
    "shap_values_ = explainer.shap_values(X_test)\n",
    "\n",
    "shap.force_plot(\n",
    "    explainer.expected_value,\n",
    "    shap_values[row,:],\n",
    "    X_test.iloc[row,:],\n",
    ")"
   ]
  }
 ],
 "metadata": {
  "kernelspec": {
   "display_name": "Python 3 (ipykernel)",
   "language": "python",
   "name": "python3"
  },
  "language_info": {
   "codemirror_mode": {
    "name": "ipython",
    "version": 3
   },
   "file_extension": ".py",
   "mimetype": "text/x-python",
   "name": "python",
   "nbconvert_exporter": "python",
   "pygments_lexer": "ipython3",
   "version": "3.10.8"
  }
 },
 "nbformat": 4,
 "nbformat_minor": 5
}
