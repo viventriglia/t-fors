{
 "cells": [
  {
   "cell_type": "code",
   "execution_count": null,
   "id": "d0ebd374",
   "metadata": {},
   "outputs": [],
   "source": [
    "from pathlib import Path\n",
    "\n",
    "import pandas as pd\n",
    "import numpy as np\n",
    "from sklearn.model_selection import TimeSeriesSplit\n",
    "from sklearn.metrics import f1_score, classification_report\n",
    "# import plotly.express as px\n",
    "# from catboost import Pool\n",
    "# import shap\n",
    "\n",
    "from var import DATA_OUT\n",
    "from src.forecast import instantiate_and_fit_model"
   ]
  },
  {
   "cell_type": "code",
   "execution_count": null,
   "id": "132cda7b",
   "metadata": {},
   "outputs": [],
   "source": [
    "df = pd.read_pickle(Path(DATA_OUT, 'df_dataset.pickle'))\n",
    "\n",
    "df['tid_within_3h'] = df['tid_within_3h'].replace(\n",
    "    {True: 1, False: 0}\n",
    ")"
   ]
  },
  {
   "cell_type": "code",
   "execution_count": null,
   "id": "0f1cb1e8",
   "metadata": {},
   "outputs": [],
   "source": [
    "df.sample()"
   ]
  },
  {
   "cell_type": "code",
   "execution_count": null,
   "id": "eab50482",
   "metadata": {},
   "outputs": [],
   "source": [
    "# class_weights = [\n",
    "#     1 / y_train.eq(False).sum(),\n",
    "#     1 / y_train.eq(True).sum(),\n",
    "# ]"
   ]
  },
  {
   "cell_type": "code",
   "execution_count": null,
   "id": "4a36726e",
   "metadata": {},
   "outputs": [],
   "source": [
    "X = df[\n",
    "    [\n",
    "        'ie_fix',\n",
    "        'ie_pct_change',\n",
    "        'ie_mav_3h',\n",
    "        'ie_mav_6h',\n",
    "        'ie_mav_12h',\n",
    "        'ie_mav_24h',\n",
    "        'hf',\n",
    "        'f_107_adj',\n",
    "        'solar_zenith_angle',\n",
    "    ]\n",
    "].copy()\n",
    "y = df['tid_within_3h'].copy()"
   ]
  },
  {
   "cell_type": "code",
   "execution_count": null,
   "id": "d3cdb9da",
   "metadata": {},
   "outputs": [],
   "source": [
    "params = {\n",
    "    'iterations': 2_000, # 1_000\n",
    "    'eval_metric': 'F1:use_weights=True', # ['Precision', 'Recall']\n",
    "    'random_seed': 42,\n",
    "    # 'class_weights': class_weights,\n",
    "    'auto_class_weights': 'Balanced',\n",
    "    # 'cat_features': cat_features,\n",
    "    # 'verbose': True,\n",
    "    'od_type': 'Iter',\n",
    "    'od_wait': 200,\n",
    "    'use_best_model': True,\n",
    "}"
   ]
  },
  {
   "cell_type": "code",
   "execution_count": null,
   "id": "89379bf2",
   "metadata": {
    "scrolled": false
   },
   "outputs": [],
   "source": [
    "ts_cv = TimeSeriesSplit(n_splits=5)\n",
    "\n",
    "for train_idx, test_idx in ts_cv.split(X):\n",
    "    X_train, X_test = X.iloc[train_idx], X.iloc[test_idx]\n",
    "    y_train, y_test = y.iloc[train_idx], y.iloc[test_idx]\n",
    "\n",
    "    cat_model = instantiate_and_fit_model(\n",
    "        X_train=X_train,\n",
    "        y_train=y_train,\n",
    "        X_test=X_test,\n",
    "        y_test=y_test,\n",
    "        loss_function='Logloss',\n",
    "        params=params,\n",
    "    )\n",
    "\n",
    "    y_pred = cat_model.predict(X_test)\n",
    "    f1 = f1_score(y_test, y_pred)\n",
    "    print(f'F1-score: {f1:.2f}')\n",
    "    print(classification_report(y_test, y_pred))"
   ]
  },
  {
   "cell_type": "code",
   "execution_count": null,
   "id": "1e4da1ea",
   "metadata": {},
   "outputs": [],
   "source": [
    "(\n",
    "    cat_model.feature_importances_,\n",
    "    cat_model.feature_names_,\n",
    ")"
   ]
  }
 ],
 "metadata": {
  "kernelspec": {
   "display_name": "Python 3 (ipykernel)",
   "language": "python",
   "name": "python3"
  },
  "language_info": {
   "codemirror_mode": {
    "name": "ipython",
    "version": 3
   },
   "file_extension": ".py",
   "mimetype": "text/x-python",
   "name": "python",
   "nbconvert_exporter": "python",
   "pygments_lexer": "ipython3",
   "version": "3.10.8"
  }
 },
 "nbformat": 4,
 "nbformat_minor": 5
}
