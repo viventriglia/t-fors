{
 "cells": [
  {
   "cell_type": "code",
   "execution_count": null,
   "id": "d0ebd374",
   "metadata": {},
   "outputs": [],
   "source": [
    "from pathlib import Path\n",
    "\n",
    "import pandas as pd\n",
    "import numpy as np\n",
    "from sklearn.model_selection import TimeSeriesSplit\n",
    "from sklearn.metrics import f1_score, classification_report\n",
    "from catboost import Pool, CatBoostClassifier\n",
    "import optuna\n",
    "import shap\n",
    "import plotly.express as px\n",
    "\n",
    "from var import DATA_OUT, MODEL_CATB, IMAGE_OUT\n",
    "from src.forecast import instantiate_and_fit_model, objective\n",
    "\n",
    "# logging level: WARNING (INFO logs are suppressed)\n",
    "optuna.logging.set_verbosity(optuna.logging.WARNING)"
   ]
  },
  {
   "cell_type": "code",
   "execution_count": null,
   "id": "132cda7b",
   "metadata": {},
   "outputs": [],
   "source": [
    "df = pd.read_pickle(Path(DATA_OUT, 'df_dataset.pickle'))\n",
    "\n",
    "df['tid_within_3h'] = df['tid_within_3h'].replace(\n",
    "    {True: 1, False: 0}\n",
    ")"
   ]
  },
  {
   "cell_type": "code",
   "execution_count": null,
   "id": "6cd68b65",
   "metadata": {},
   "outputs": [],
   "source": [
    "# df_plt = df.loc['2015':'2017']\n",
    "# \n",
    "# n_days = 10\n",
    "# window = 48 * n_days\n",
    "# \n",
    "# px.line(\n",
    "#     df_plt['hf'].rolling(window=window, min_periods=1).corr(\n",
    "#         df_plt['tid_within_3h']\n",
    "#     )\n",
    "# )"
   ]
  },
  {
   "cell_type": "code",
   "execution_count": null,
   "id": "77669f61",
   "metadata": {
    "scrolled": false
   },
   "outputs": [],
   "source": [
    "# df_plt = df.loc['2015-04']\n",
    "# \n",
    "# n_days = 1\n",
    "# window = 48 * n_days\n",
    "# \n",
    "# fig = px.line(\n",
    "#     df_plt['hf'].rolling(window=window, min_periods=1).corr(\n",
    "#         df_plt['ie_fix']\n",
    "#     )\n",
    "# )\n",
    "# \n",
    "# fig.add_scatter(\n",
    "#     x=df_plt['tid_within_3h'].index,\n",
    "#     y=df_plt['tid_within_3h'],\n",
    "# )"
   ]
  },
  {
   "cell_type": "code",
   "execution_count": null,
   "id": "4a36726e",
   "metadata": {},
   "outputs": [],
   "source": [
    "# Features\n",
    "X = df[\n",
    "    [\n",
    "        'ie_fix',\n",
    "        'ie_variation',\n",
    "        'il_fix',\n",
    "        'il_variation',\n",
    "        'iu_fix',\n",
    "        'iu_variation',\n",
    "        'ie_mav_3h',\n",
    "        'ie_mav_6h',\n",
    "        'ie_mav_12h',\n",
    "        'ie_mav_24h',\n",
    "        'hf',\n",
    "        'f_107_adj',\n",
    "        'solar_zenith_angle',\n",
    "    ]\n",
    "].copy()\n",
    "\n",
    "# Target\n",
    "y = df['tid_within_3h'].copy()"
   ]
  },
  {
   "cell_type": "code",
   "execution_count": null,
   "id": "d4d05380",
   "metadata": {},
   "outputs": [],
   "source": [
    "cat_features = [\n",
    "    'ie_variation',\n",
    "    'il_variation',\n",
    "    'iu_variation'\n",
    "]\n",
    "\n",
    "static_params = {\n",
    "    \"eval_metric\": \"F1:use_weights=True\",\n",
    "    \"random_seed\": 42,\n",
    "    \"auto_class_weights\": \"SqrtBalanced\", # \"Balanced\",\n",
    "    'cat_features': cat_features,\n",
    "    \"od_type\": \"Iter\",\n",
    "    \"use_best_model\": True,\n",
    "    \"has_time\": True,\n",
    "    \"od_wait\": 200,\n",
    "}"
   ]
  },
  {
   "cell_type": "code",
   "execution_count": null,
   "id": "2d066396",
   "metadata": {},
   "outputs": [],
   "source": [
    "ts_cv = TimeSeriesSplit(n_splits=5)"
   ]
  },
  {
   "cell_type": "markdown",
   "id": "0b0a222e",
   "metadata": {},
   "source": [
    "## Optuna (Bayesian optimisation)"
   ]
  },
  {
   "cell_type": "code",
   "execution_count": null,
   "id": "412dcc7d",
   "metadata": {
    "scrolled": true
   },
   "outputs": [],
   "source": [
    "obj = lambda trial: objective(\n",
    "    trial,\n",
    "    X=X,\n",
    "    y=y,\n",
    "    cv=ts_cv,\n",
    "    params=static_params,\n",
    ")\n",
    "\n",
    "study = optuna.create_study(study_name='catboost_clf', direction='maximize')\n",
    "study.optimize(obj, n_trials=40, show_progress_bar=True)\n",
    "\n",
    "trial = study.best_trial"
   ]
  },
  {
   "cell_type": "code",
   "execution_count": null,
   "id": "aa269cb2",
   "metadata": {},
   "outputs": [],
   "source": [
    "print(\"Best trial:\")\n",
    "print(f\"  F1: {trial.value:.3f}\")\n",
    "\n",
    "print(\"  Params: \")\n",
    "for key, value in trial.params.items():\n",
    "    print(f\"    {key}: {value}\")"
   ]
  },
  {
   "cell_type": "code",
   "execution_count": null,
   "id": "44d33ff1",
   "metadata": {},
   "outputs": [],
   "source": [
    "optuna.visualization.plot_optimization_history(study)"
   ]
  },
  {
   "cell_type": "code",
   "execution_count": null,
   "id": "1d4674d1",
   "metadata": {},
   "outputs": [],
   "source": [
    "optuna.visualization.plot_param_importances(study)"
   ]
  },
  {
   "cell_type": "code",
   "execution_count": null,
   "id": "e011df82",
   "metadata": {},
   "outputs": [],
   "source": [
    "# Fine-tuned hyperparams\n",
    "best_params = study.best_params\n",
    "static_params.update(best_params)"
   ]
  },
  {
   "cell_type": "markdown",
   "id": "b1d66527",
   "metadata": {},
   "source": [
    "## Fine-tuned and cross-validated model"
   ]
  },
  {
   "cell_type": "code",
   "execution_count": null,
   "id": "89379bf2",
   "metadata": {
    "scrolled": false
   },
   "outputs": [],
   "source": [
    "f1s = []\n",
    "\n",
    "for train_idx, test_idx in ts_cv.split(X):\n",
    "    X_train, X_test = X.iloc[train_idx], X.iloc[test_idx]\n",
    "    y_train, y_test = y.iloc[train_idx], y.iloc[test_idx]\n",
    "\n",
    "    cat_model = instantiate_and_fit_model(\n",
    "        X_train=X_train,\n",
    "        y_train=y_train,\n",
    "        X_test=X_test,\n",
    "        y_test=y_test,\n",
    "        loss_function='Logloss',\n",
    "        params=static_params,\n",
    "    )\n",
    "    \n",
    "    # cat_model = CatBoostClassifier().load_model(\n",
    "    #     Path(MODEL_CATB, 'classifier_optuna')\n",
    "    # )\n",
    "\n",
    "    y_pred = cat_model.predict(X_test)\n",
    "    f1 = f1_score(y_test, y_pred)\n",
    "    f1s.append(f1)\n",
    "    print(classification_report(y_test, y_pred))"
   ]
  },
  {
   "cell_type": "code",
   "execution_count": null,
   "id": "59fff3ac",
   "metadata": {},
   "outputs": [],
   "source": [
    "print(f'Achieved F1-score: {np.mean(f1s):.2f} ± {np.std(f1s, ddof=1):.2f}')"
   ]
  },
  {
   "cell_type": "code",
   "execution_count": null,
   "id": "65e5982b",
   "metadata": {},
   "outputs": [],
   "source": [
    "cat_model.save_model(\n",
    "    Path(MODEL_CATB, 'classifier_sqrt_blcd_opt')\n",
    ")"
   ]
  },
  {
   "cell_type": "markdown",
   "id": "88975732",
   "metadata": {},
   "source": [
    "## SHAP"
   ]
  },
  {
   "cell_type": "code",
   "execution_count": null,
   "id": "d40d501a",
   "metadata": {},
   "outputs": [],
   "source": [
    "shap_values = cat_model.get_feature_importance(\n",
    "    Pool(X_test, label=y_test, cat_features=cat_features),\n",
    "    type=\"ShapValues\",\n",
    ")\n",
    "\n",
    "shap_values = shap_values[:,:-1]"
   ]
  },
  {
   "cell_type": "code",
   "execution_count": null,
   "id": "b9f49455",
   "metadata": {},
   "outputs": [],
   "source": [
    "shap.initjs()"
   ]
  },
  {
   "cell_type": "code",
   "execution_count": null,
   "id": "bbcd8aed",
   "metadata": {},
   "outputs": [],
   "source": [
    "shap.summary_plot(shap_values, X_test)"
   ]
  },
  {
   "cell_type": "code",
   "execution_count": null,
   "id": "160b9790",
   "metadata": {},
   "outputs": [],
   "source": [
    "shap.dependence_plot(\n",
    "    'hf',\n",
    "    shap_values,\n",
    "    X_test,\n",
    "    interaction_index='solar_zenith_angle',\n",
    ")"
   ]
  },
  {
   "cell_type": "code",
   "execution_count": null,
   "id": "f7f88b64",
   "metadata": {},
   "outputs": [],
   "source": [
    "shap.dependence_plot(\n",
    "    'ie_fix',\n",
    "    shap_values,\n",
    "    X_test,\n",
    "    interaction_index='ie_mav_12h',\n",
    ")"
   ]
  },
  {
   "cell_type": "code",
   "execution_count": null,
   "id": "4ed2e5b8",
   "metadata": {},
   "outputs": [],
   "source": [
    "df[df['tid_within_3h'].eq(1)].tail(10)"
   ]
  },
  {
   "cell_type": "code",
   "execution_count": null,
   "id": "fa8c8dcb",
   "metadata": {},
   "outputs": [],
   "source": [
    "row = X_test.index.get_loc('2022-12-23 19:30') # 16:00 - 22:00\n",
    "\n",
    "explainer = shap.TreeExplainer(cat_model)\n",
    "shap_values_ = explainer.shap_values(X_test)\n",
    "\n",
    "shap.force_plot(\n",
    "    explainer.expected_value,\n",
    "    shap_values[row,:],\n",
    "    X_test.iloc[row,:],\n",
    ")"
   ]
  },
  {
   "cell_type": "code",
   "execution_count": null,
   "id": "0138161c",
   "metadata": {},
   "outputs": [],
   "source": [
    "y_pred[y_pred==1].shape[0] / y_pred.shape[0]"
   ]
  }
 ],
 "metadata": {
  "kernelspec": {
   "display_name": "Python 3 (ipykernel)",
   "language": "python",
   "name": "python3"
  },
  "language_info": {
   "codemirror_mode": {
    "name": "ipython",
    "version": 3
   },
   "file_extension": ".py",
   "mimetype": "text/x-python",
   "name": "python",
   "nbconvert_exporter": "python",
   "pygments_lexer": "ipython3",
   "version": "3.10.8"
  }
 },
 "nbformat": 4,
 "nbformat_minor": 5
}
