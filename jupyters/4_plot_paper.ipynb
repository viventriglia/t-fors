{
 "cells": [
  {
   "cell_type": "code",
   "execution_count": null,
   "id": "7ec67293",
   "metadata": {},
   "outputs": [],
   "source": [
    "from pathlib import Path\n",
    "\n",
    "import pandas as pd\n",
    "import plotly.express as px\n",
    "\n",
    "from var import IMAGE_OUT"
   ]
  },
  {
   "cell_type": "code",
   "execution_count": null,
   "id": "d180e700",
   "metadata": {},
   "outputs": [],
   "source": [
    "color_map = {\n",
    "    \"Model (balanced)\": px.colors.qualitative.Bold[2],\n",
    "    \"HF-INT catalogue\": px.colors.qualitative.Bold[3],\n",
    "    \"HF-INT\": px.colors.qualitative.Bold[6],\n",
    "    \"dTEC\": px.colors.qualitative.Bold[6],\n",
    "    \"HF-TID\": px.colors.qualitative.Bold[6],\n",
    "    \"Iso-plots (EB040)\": px.colors.qualitative.Bold[6],\n",
    "    \"Iso-plots (AT138)\": px.colors.qualitative.Bold[6],\n",
    "    \"Iso-plots (DB049)\": px.colors.qualitative.Bold[6],\n",
    "}"
   ]
  },
  {
   "cell_type": "markdown",
   "id": "cd111bb6",
   "metadata": {},
   "source": [
    "## Caso 1"
   ]
  },
  {
   "cell_type": "code",
   "execution_count": null,
   "id": "a846ac54",
   "metadata": {
    "scrolled": false
   },
   "outputs": [],
   "source": [
    "df = pd.DataFrame([\n",
    "    dict(Start='2021-12-01 03:30', Finish='2021-12-01 06:00', Method=\"Model (balanced)\"),\n",
    "    dict(Start='2021-12-01 07:30', Finish='2021-12-01 08:00', Method=\"Model (balanced)\"),\n",
    "    dict(Start='2021-12-01 10:30', Finish='2021-12-01 11:00', Method=\"Model (balanced)\"),\n",
    "    dict(Start='2021-12-01 03:30', Finish='2021-12-01 05:00', Method=\"HF-INT catalogue\"),\n",
    "    dict(Start='2021-12-01 01:30', Finish='2021-12-01 05:40', Method=\"HF-INT\"),\n",
    "    dict(Start='2021-12-01 04:00', Finish='2021-12-01 07:00', Method=\"dTEC\"),\n",
    "    dict(Start='2021-12-01 01:00', Finish='2021-12-01 05:30', Method=\"HF-TID\"),\n",
    "    dict(Start='2021-12-01 01:00', Finish='2021-12-01 06:00', Method=\"Iso-plots (EB040)\"),\n",
    "    dict(Start='2021-12-01 02:00', Finish='2021-12-01 13:00', Method=\"Iso-plots (AT138)\"),\n",
    "    dict(Start='2021-12-01 00:00', Finish='2021-12-01 07:00', Method=\"Iso-plots (DB049)\"),\n",
    "])\n",
    "\n",
    "fig = px.timeline(\n",
    "    df,\n",
    "    x_start=\"Start\",\n",
    "    x_end=\"Finish\",\n",
    "    y=\"Method\",\n",
    "    category_orders={\"Method\": color_map.keys()},\n",
    "    color='Method',\n",
    "    color_discrete_map=color_map,\n",
    ")\n",
    "fig.update_traces(width=0.5)\n",
    "\n",
    "fig.update_layout(\n",
    "    template='plotly_white',\n",
    "    yaxis_title='',\n",
    "    showlegend=False,\n",
    ")"
   ]
  },
  {
   "cell_type": "markdown",
   "id": "3b973122",
   "metadata": {},
   "source": [
    "## Caso 2"
   ]
  },
  {
   "cell_type": "code",
   "execution_count": null,
   "id": "bc9c2fbd",
   "metadata": {
    "scrolled": false
   },
   "outputs": [],
   "source": [
    "df = pd.DataFrame([\n",
    "    dict(Start='2022-03-13 13:00', Finish='2022-03-13 15:00', Method=\"Model (balanced)\"),\n",
    "    dict(Start='2022-03-13 16:00', Finish='2022-03-14 05:00', Method=\"Model (balanced)\"),\n",
    "    dict(Start='2022-03-13 16:00', Finish='2022-03-14 04:00', Method=\"HF-INT catalogue\"),\n",
    "    dict(Start='2022-03-13 16:05', Finish='2022-03-13 21:40', Method=\"HF-INT\"),\n",
    "    dict(Start='2022-03-13 23:00', Finish='2022-03-14 04:30', Method=\"HF-INT\"),\n",
    "    dict(Start='2022-03-13 18:00', Finish='2022-03-14 05:00', Method=\"dTEC\"),\n",
    "    dict(Start='2022-03-13 18:00', Finish='2022-03-14 05:00', Method=\"HF-TID\"),\n",
    "    dict(Start='2022-03-13 16:00', Finish='2022-03-14 04:00', Method=\"Iso-plots (EB040)\"),\n",
    "    dict(Start='2022-03-13 16:00', Finish='2022-03-14 04:00', Method=\"Iso-plots (AT138)\"),\n",
    "    dict(Start='2022-03-13 16:00', Finish='2022-03-14 04:00', Method=\"Iso-plots (DB049)\"),\n",
    "])\n",
    "\n",
    "fig = px.timeline(\n",
    "    df,\n",
    "    x_start=\"Start\",\n",
    "    x_end=\"Finish\",\n",
    "    y=\"Method\",\n",
    "    category_orders={\"Method\": color_map.keys()},\n",
    "    color='Method',\n",
    "    color_discrete_map=color_map,\n",
    ")\n",
    "fig.update_traces(width=0.5)\n",
    "\n",
    "fig.update_layout(\n",
    "    template='plotly_white',\n",
    "    yaxis_title='',\n",
    "    showlegend=False,\n",
    ")\n",
    "fig.show()"
   ]
  },
  {
   "cell_type": "markdown",
   "id": "097e3b8a",
   "metadata": {},
   "source": [
    "## Caso 3"
   ]
  },
  {
   "cell_type": "code",
   "execution_count": null,
   "id": "3f4b67c1",
   "metadata": {
    "scrolled": false
   },
   "outputs": [],
   "source": [
    "df = pd.DataFrame([\n",
    "    dict(Start='2022-11-07 13:00', Finish='2022-11-07 17:30', Method=\"Model (balanced)\"),\n",
    "    dict(Start='2022-11-07 20:00', Finish='2022-11-07 23:30', Method=\"Model (balanced)\"),\n",
    "    dict(Start='2022-11-08 01:00', Finish='2022-11-08 03:30', Method=\"Model (balanced)\"),\n",
    "    dict(Start='2022-11-07 08:00', Finish='2022-11-07 08:00', Method=\"HF-INT catalogue\"),\n",
    "    dict(Start='2022-11-08 01:00', Finish='2022-11-08 03:00', Method=\"HF-INT\"),\n",
    "    dict(Start='2022-11-07 12:00', Finish='2022-11-08 17:00', Method=\"dTEC\"),\n",
    "    dict(Start='2022-11-07 15:00', Finish='2022-11-08 03:30', Method=\"HF-TID\"),\n",
    "    dict(Start='2022-11-07 14:30', Finish='2022-11-07 17:00', Method=\"Iso-plots (EB040)\"),\n",
    "    dict(Start='2022-11-07 17:00', Finish='2022-11-07 22:00', Method=\"Iso-plots (AT138)\"),\n",
    "    dict(Start='2022-11-07 16:00', Finish='2022-11-08 06:00', Method=\"Iso-plots (DB049)\"),\n",
    "])\n",
    "\n",
    "fig = px.timeline(\n",
    "    df,\n",
    "    x_start=\"Start\",\n",
    "    x_end=\"Finish\",\n",
    "    y=\"Method\",\n",
    "    category_orders={\"Method\": color_map.keys()},\n",
    "    color='Method',\n",
    "    color_discrete_map=color_map,\n",
    ")\n",
    "fig.update_traces(width=0.5)\n",
    "\n",
    "fig.update_layout(\n",
    "    template='plotly_white',\n",
    "    yaxis_title='',\n",
    "    showlegend=False,\n",
    ")\n",
    "fig.show()"
   ]
  }
 ],
 "metadata": {
  "kernelspec": {
   "display_name": "Python 3 (ipykernel)",
   "language": "python",
   "name": "python3"
  },
  "language_info": {
   "codemirror_mode": {
    "name": "ipython",
    "version": 3
   },
   "file_extension": ".py",
   "mimetype": "text/x-python",
   "name": "python",
   "nbconvert_exporter": "python",
   "pygments_lexer": "ipython3",
   "version": "3.10.8"
  }
 },
 "nbformat": 4,
 "nbformat_minor": 5
}
