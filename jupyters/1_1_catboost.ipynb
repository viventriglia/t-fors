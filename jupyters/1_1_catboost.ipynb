{
 "cells": [
  {
   "cell_type": "code",
   "execution_count": null,
   "id": "d0ebd374",
   "metadata": {
    "scrolled": true
   },
   "outputs": [],
   "source": [
    "from pathlib import Path\n",
    "\n",
    "import pandas as pd\n",
    "import numpy as np\n",
    "from sklearn.model_selection import TimeSeriesSplit\n",
    "from sklearn.metrics import (\n",
    "    f1_score,\n",
    "    roc_auc_score,\n",
    "    roc_curve,\n",
    "    auc,\n",
    "    precision_recall_curve,\n",
    "    precision_recall_fscore_support,\n",
    "    confusion_matrix\n",
    ")\n",
    "from catboost import Pool\n",
    "import mlflow\n",
    "from mlflow.types.schema import Schema, ColSpec\n",
    "import optuna\n",
    "import shap\n",
    "shap.initjs()\n",
    "import plotly.express as px\n",
    "import plotly.graph_objects as go\n",
    "import matplotlib.pyplot as plt\n",
    "\n",
    "from var import DATA_OUT, IMAGE_OUT, FORECAST_HOURS_IN_ADVANCE\n",
    "from src.backend import ML_SERVER_URI, EXPERIMENT_NAME\n",
    "from src.model.opt import objective\n",
    "from src.model.model import (\n",
    "    get_or_create_experiment,\n",
    "    start_crossvalidated_run,\n",
    "    evaluate_crossvalidated_metrics,\n",
    ")\n",
    "\n",
    "# logging level: WARNING (INFO logs are suppressed)\n",
    "optuna.logging.set_verbosity(optuna.logging.WARNING)\n",
    "\n",
    "# MLFlow web server URI\n",
    "mlflow.set_tracking_uri(ML_SERVER_URI)"
   ]
  },
  {
   "cell_type": "code",
   "execution_count": null,
   "id": "132cda7b",
   "metadata": {
    "scrolled": true
   },
   "outputs": [],
   "source": [
    "df = pd.read_pickle(Path(DATA_OUT, 'df_dataset.pickle'))"
   ]
  },
  {
   "cell_type": "code",
   "execution_count": null,
   "id": "4a36726e",
   "metadata": {
    "scrolled": true
   },
   "outputs": [],
   "source": [
    "X = df[\n",
    "    [\n",
    "        'ie_fix',\n",
    "        'ie_variation',\n",
    "        'ie_mav_3h',\n",
    "        'ie_mav_12h',\n",
    "        'iu_fix',\n",
    "        'iu_variation',\n",
    "        'iu_mav_3h',\n",
    "        'iu_mav_12h',\n",
    "        'hf',\n",
    "        'hf_mav_2h',\n",
    "        'f_107_adj',\n",
    "        'hp_30',\n",
    "        'dst',\n",
    "        'solar_zenith_angle',\n",
    "        'newell',\n",
    "        'bz',\n",
    "        'speed',\n",
    "        'rho',\n",
    "        *[col_ for col_ in df.columns if col_.startswith('spectral_contribution_')],\n",
    "        *[col_ for col_ in df.columns if col_.startswith('azimuth_')],\n",
    "        *[col_ for col_ in df.columns if col_.startswith('velocity_')],\n",
    "    ]\n",
    "].copy()\n",
    "\n",
    "target = f'tid_within_{FORECAST_HOURS_IN_ADVANCE}h'\n",
    "\n",
    "y = df[target].copy()"
   ]
  },
  {
   "cell_type": "code",
   "execution_count": null,
   "id": "d4d05380",
   "metadata": {
    "scrolled": true
   },
   "outputs": [],
   "source": [
    "cat_features = [\n",
    "    'ie_variation',\n",
    "    'iu_variation',\n",
    "]\n",
    "\n",
    "static_params = {\n",
    "    \"eval_metric\": 'F1',\n",
    "    \"random_seed\": 42,\n",
    "    \"cat_features\": cat_features,\n",
    "    \"od_type\": \"Iter\",\n",
    "    \"use_best_model\": True,\n",
    "    \"has_time\": True,\n",
    "    \"od_wait\": 200,\n",
    "}"
   ]
  },
  {
   "cell_type": "code",
   "execution_count": null,
   "id": "2d066396",
   "metadata": {
    "scrolled": true
   },
   "outputs": [],
   "source": [
    "# n_days_for_testing = 365\n",
    "# ts_cv = TimeSeriesSplit(n_splits=5, test_size=n_days_for_testing*24*2)\n",
    "\n",
    "ts_cv = TimeSeriesSplit(n_splits=5)"
   ]
  },
  {
   "cell_type": "code",
   "execution_count": null,
   "id": "fd035b6f",
   "metadata": {
    "scrolled": true
   },
   "outputs": [],
   "source": [
    "# corr = df.select_dtypes(exclude=['object'])[\n",
    "#     [\n",
    "#         'ie_fix',\n",
    "#         'iu_fix',\n",
    "#         'hf',\n",
    "#         'hp_30',\n",
    "#         'dst',\n",
    "#         'newell',\n",
    "#         'bz',\n",
    "#         'speed',\n",
    "#         'rho',\n",
    "#         'solar_zenith_angle',\n",
    "#         'tid_within_3h',\n",
    "#     ]\n",
    "# ].corr()\n",
    "\n",
    "# corr.style.background_gradient(cmap='coolwarm')"
   ]
  },
  {
   "cell_type": "markdown",
   "id": "0b0a222e",
   "metadata": {},
   "source": [
    "## Optuna (hyper-params optimisation)"
   ]
  },
  {
   "cell_type": "code",
   "execution_count": null,
   "id": "412dcc7d",
   "metadata": {
    "scrolled": true
   },
   "outputs": [],
   "source": [
    "obj = lambda trial: objective(\n",
    "    trial,\n",
    "    X=X,\n",
    "    y=y,\n",
    "    cv=ts_cv,\n",
    "    params=static_params,\n",
    ")\n",
    "\n",
    "study = optuna.create_study(study_name='catboost_clf', direction='maximize')\n",
    "study.optimize(obj, n_trials=10, show_progress_bar=True)\n",
    "\n",
    "trial = study.best_trial"
   ]
  },
  {
   "cell_type": "code",
   "execution_count": null,
   "id": "aa269cb2",
   "metadata": {
    "scrolled": true
   },
   "outputs": [],
   "source": [
    "print(\"Best trial:\")\n",
    "print(f\"  F1: {trial.value:.3f}\")\n",
    "\n",
    "print(\"  Params: \")\n",
    "for key, value in trial.params.items():\n",
    "    print(f\"    {key}: {value}\")"
   ]
  },
  {
   "cell_type": "code",
   "execution_count": null,
   "id": "44d33ff1",
   "metadata": {
    "scrolled": true
   },
   "outputs": [],
   "source": [
    "# optuna.visualization.plot_optimization_history(study)"
   ]
  },
  {
   "cell_type": "code",
   "execution_count": null,
   "id": "1d4674d1",
   "metadata": {
    "scrolled": true
   },
   "outputs": [],
   "source": [
    "# optuna.visualization.plot_param_importances(study)"
   ]
  },
  {
   "cell_type": "code",
   "execution_count": null,
   "id": "e011df82",
   "metadata": {
    "scrolled": true
   },
   "outputs": [],
   "source": [
    "# Fine-tuned hyperparams\n",
    "best_params = study.best_params\n",
    "static_params.update(best_params)"
   ]
  },
  {
   "cell_type": "markdown",
   "id": "b1d66527",
   "metadata": {},
   "source": [
    "## Fine-tuned and/or cross-validated model"
   ]
  },
  {
   "cell_type": "code",
   "execution_count": null,
   "id": "0681dbdc",
   "metadata": {
    "scrolled": true
   },
   "outputs": [],
   "source": [
    "mlflow.set_experiment(\n",
    "    experiment_id=get_or_create_experiment(EXPERIMENT_NAME)\n",
    ");"
   ]
  },
  {
   "cell_type": "markdown",
   "id": "a1599942",
   "metadata": {},
   "source": [
    "### Pre-trained model (retrieved by `run_id`)"
   ]
  },
  {
   "cell_type": "code",
   "execution_count": null,
   "id": "86692fe9",
   "metadata": {
    "scrolled": true
   },
   "outputs": [],
   "source": [
    "cat_model, (f1s, prs, rcs) = start_crossvalidated_run(\n",
    "    X=X,\n",
    "    y=y,\n",
    "    time_series_cross_validator=ts_cv,\n",
    "    run_id='47379e58abff4b18989898a5b6ecbe08',\n",
    ")"
   ]
  },
  {
   "cell_type": "markdown",
   "id": "93eec33b",
   "metadata": {},
   "source": [
    "### Train a model from scratch, usually after h-params optimisation\n",
    "\n",
    "**[Model signatures](https://www.mlflow.org/docs/latest/models.html#model-signature)** define what the model expects (input, output and parameters) and enforce it later in deployment.\n",
    "\n",
    "Signatures are fetched by the Tracking UI and Model Registry UI to display model inputs, outputs and params; they are also utilized by MLflow model deployment tools to validate inference inputs according to the model’s assigned signature"
   ]
  },
  {
   "cell_type": "code",
   "execution_count": null,
   "id": "a10f1c09",
   "metadata": {
    "scrolled": true
   },
   "outputs": [],
   "source": [
    "input_schema = Schema(\n",
    "    [ColSpec(\"double\", col_) for col_ in X.columns]\n",
    ")\n",
    "\n",
    "output_schema = Schema(\n",
    "    [ColSpec(\"long\", y.name)]\n",
    ")\n",
    "\n",
    "signature = mlflow.models.ModelSignature(inputs=input_schema, outputs=output_schema)\n",
    "\n",
    "cat_model, (f1s, prs, rcs) = start_crossvalidated_run(\n",
    "    X=X,\n",
    "    y=y,\n",
    "    time_series_cross_validator=ts_cv,\n",
    "    model_params=static_params,\n",
    "    model_signature=signature,\n",
    ")"
   ]
  },
  {
   "cell_type": "markdown",
   "id": "47caf1fc",
   "metadata": {},
   "source": [
    "### Train a model *without* MLFlow (not suggested)"
   ]
  },
  {
   "cell_type": "code",
   "execution_count": null,
   "id": "9f147285",
   "metadata": {
    "scrolled": false
   },
   "outputs": [],
   "source": [
    "from src.model.model import instantiate_and_fit_model\n",
    "\n",
    "f1s, prs, rcs = [], [], []\n",
    "for i, (train_idx, test_idx) in enumerate(\n",
    "        ts_cv.split(X)\n",
    "    ):\n",
    "        X_train, X_test = X.iloc[train_idx], X.iloc[test_idx]\n",
    "        y_train, y_test = y.iloc[train_idx], y.iloc[test_idx]\n",
    "\n",
    "        cat_model = instantiate_and_fit_model(\n",
    "            X_train=X_train,\n",
    "            y_train=y_train,\n",
    "            X_test=X_test,\n",
    "            y_test=y_test,\n",
    "            loss_function=\"Logloss\",\n",
    "            params=static_params,\n",
    "        )\n",
    "\n",
    "        y_pred = cat_model.predict(X_test)\n",
    "        # Evaluate in-fold metrics\n",
    "        p, r, f, _ = precision_recall_fscore_support(y_test, y_pred)\n",
    "        f1s.append(f[1])\n",
    "        prs.append(p[1])\n",
    "        rcs.append(r[1])"
   ]
  },
  {
   "cell_type": "code",
   "execution_count": null,
   "id": "e2447994",
   "metadata": {},
   "outputs": [],
   "source": [
    "cat_model.save_model('../src/assets/model.cb')"
   ]
  },
  {
   "cell_type": "markdown",
   "id": "70d5d7ad",
   "metadata": {},
   "source": [
    "### Evaluate classification metrics"
   ]
  },
  {
   "cell_type": "code",
   "execution_count": null,
   "id": "df269a3e",
   "metadata": {
    "scrolled": true
   },
   "outputs": [],
   "source": [
    "weights = [tr_idx.shape[0] / X.shape[0] for tr_idx, _ in ts_cv.split(X)]\n",
    "\n",
    "evaluate_crossvalidated_metrics(\n",
    "    metrics={\n",
    "        'F1-score': f1s,\n",
    "        'Precision': prs,\n",
    "        'Recall': rcs,\n",
    "    },\n",
    "    weights=weights,\n",
    ")"
   ]
  },
  {
   "cell_type": "code",
   "execution_count": null,
   "id": "f6e3a77d",
   "metadata": {
    "scrolled": true
   },
   "outputs": [],
   "source": [
    "train_idx, test_idx = [(tr_idx, ts_idx) for (tr_idx, ts_idx) in ts_cv.split(X)][-1]\n",
    "\n",
    "X_train, X_test = X.iloc[train_idx], X.iloc[test_idx]\n",
    "y_train, y_test = y.iloc[train_idx], y.iloc[test_idx]\n",
    "\n",
    "y_pred = cat_model.predict(X_test)"
   ]
  },
  {
   "cell_type": "markdown",
   "id": "88975732",
   "metadata": {},
   "source": [
    "## SHAP"
   ]
  },
  {
   "cell_type": "code",
   "execution_count": null,
   "id": "d40d501a",
   "metadata": {
    "scrolled": true
   },
   "outputs": [],
   "source": [
    "shap_values = cat_model.get_feature_importance(\n",
    "    Pool(X_test, label=y_test, cat_features=cat_features),\n",
    "    type=\"ShapValues\",\n",
    ")\n",
    "\n",
    "shap_values = shap_values[:,:-1]"
   ]
  },
  {
   "cell_type": "code",
   "execution_count": null,
   "id": "3b1381c1",
   "metadata": {
    "scrolled": true
   },
   "outputs": [],
   "source": [
    "# df_shap = pd.DataFrame(\n",
    "#     (\n",
    "#         zip(\n",
    "#             X_train.columns[np.argsort(np.abs(shap_values).mean(0))][::-1],\n",
    "#             -np.sort(-np.abs(shap_values).mean(0))\n",
    "#         )\n",
    "#     ),\n",
    "#     columns=[\"feature\", \"importance\"],\n",
    "# )\n",
    "\n",
    "# df_shap.to_pickle(Path(DATA_OUT, 'df_feat_imp.pickle'))"
   ]
  },
  {
   "cell_type": "code",
   "execution_count": null,
   "id": "7a6e7bfa",
   "metadata": {},
   "outputs": [],
   "source": [
    "VAR_NAMES_DICT = {\n",
    "    \"ie_fix\": \"IE\",\n",
    "    \"ie_variation\": \"IE - variation\",\n",
    "    \"ie_mav_3h\": \"IE - 3h MAv\",\n",
    "    \"ie_mav_12h\": \"IE - 12h MAv\",\n",
    "    \"iu_fix\": \"IU\",\n",
    "    \"iu_variation\": \"IU - variation\",\n",
    "    \"iu_mav_3h\": \"IU - 3h MAv\",\n",
    "    \"iu_mav_12h\": \"IU - 12h MAv\",\n",
    "    \"hf\": \"HF-EU\",\n",
    "    \"hf_mav_2h\": \"HF-EU - 2h MAv\",\n",
    "    \"f_107_adj\": \"F10.7\",\n",
    "    \"hp_30\": \"HP-30\",\n",
    "    \"dst\": \"Dst\",\n",
    "    \"solar_zenith_angle\": \"Solar zenith angle\",\n",
    "    \"newell\": \"Newell coupling\",\n",
    "    \"rho\": \"ρ (solar wind dens.)\",\n",
    "    \"vx\": \"vx (solar wind vel.)\",\n",
    "    \"bz\": \"Bz (IMF)\",\n",
    "    \"spectral_contribution_at\": \"Spectral contribution (Athens)\",\n",
    "    \"spectral_contribution_ff\": \"Spectral contribution (Fairford)\",\n",
    "    \"spectral_contribution_jr\": \"Spectral contribution (Juliusruh)\",\n",
    "    \"spectral_contribution_pq\": \"Spectral contribution (Průhonice)\",\n",
    "    \"spectral_contribution_ro\": \"Spectral contribution (Rome)\",\n",
    "    \"spectral_contribution_vt\": \"Spectral contribution (San Vito)\",\n",
    "    \"azimuth_at\": \"Azimuth (Athens)\",\n",
    "    \"azimuth_ff\": \"Azimuth (Fairford)\",\n",
    "    \"azimuth_jr\": \"Azimuth (Juliusruh)\",\n",
    "    \"azimuth_pq\": \"Azimuth (Průhonice)\",\n",
    "    \"azimuth_ro\": \"Azimuth (Rome)\",\n",
    "    \"azimuth_vt\": \"Azimuth (San Vito)\",\n",
    "    \"velocity_at\": \"Velocity (Athens)\",\n",
    "    \"velocity_ff\": \"Velocity (Fairford)\",\n",
    "    \"velocity_jr\": \"Velocity (Juliusruh)\",\n",
    "    \"velocity_pq\": \"Velocity (Průhonice)\",\n",
    "    \"velocity_ro\": \"Velocity (Rome)\",\n",
    "    \"velocity_vt\": \"Velocity (San Vito)\",\n",
    "#     \"h_55_diff\": \"Bh variation (55°-60°)\",\n",
    "#     \"h_60_diff\": \"Bh variation (60°-65°)\",\n",
    "#     \"h_65_diff\": \"Bh variation (65°-70°)\",\n",
    "#     \"h_70_diff\": \"Bh variation (70°-75°)\",\n",
    "#     \"h_75_diff\": \"Bh variation (75°-80°)\",\n",
    "}"
   ]
  },
  {
   "cell_type": "code",
   "execution_count": null,
   "id": "bbcd8aed",
   "metadata": {
    "scrolled": false
   },
   "outputs": [],
   "source": [
    "shap.summary_plot(\n",
    "    shap_values,\n",
    "    X_test.rename(columns=VAR_NAMES_DICT),\n",
    "    max_display=12,\n",
    "#     plot_type='bar',\n",
    "    show=False,\n",
    ")\n",
    "\n",
    "# plt.savefig(\n",
    "#     Path(IMAGE_OUT, 'shap_summary.png'),\n",
    "#     dpi=400,\n",
    "# )"
   ]
  },
  {
   "cell_type": "code",
   "execution_count": null,
   "id": "160b9790",
   "metadata": {
    "scrolled": false
   },
   "outputs": [],
   "source": [
    "shap.dependence_plot(\n",
    "    'Dst',\n",
    "    shap_values,\n",
    "    X_test.rename(columns=VAR_NAMES_DICT),\n",
    "    interaction_index='HF-EU',\n",
    "#     show=False,\n",
    ")\n",
    "\n",
    "# plt.savefig(\n",
    "#     Path(IMAGE_OUT, 'shap_dp.png'),\n",
    "#     dpi=400,\n",
    "#     bbox_inches='tight'\n",
    "# )"
   ]
  },
  {
   "cell_type": "code",
   "execution_count": null,
   "id": "20044d85",
   "metadata": {
    "scrolled": true
   },
   "outputs": [],
   "source": [
    "explainer = shap.TreeExplainer(cat_model)\n",
    "shap_values_ = explainer.shap_values(X_test)"
   ]
  },
  {
   "cell_type": "code",
   "execution_count": null,
   "id": "fa8c8dcb",
   "metadata": {
    "scrolled": true
   },
   "outputs": [],
   "source": [
    "row = X_test.index.get_loc('2022-01-04 16:00')\n",
    "\n",
    "shap.force_plot(\n",
    "    explainer.expected_value,\n",
    "    shap_values[row,:],\n",
    "    X_test.iloc[row,:],\n",
    "    link='logit',\n",
    ")"
   ]
  },
  {
   "cell_type": "code",
   "execution_count": null,
   "id": "e191804e",
   "metadata": {
    "scrolled": false
   },
   "outputs": [],
   "source": [
    "# X_test.reset_index().loc[25880:25916].reset_index()"
   ]
  },
  {
   "cell_type": "code",
   "execution_count": null,
   "id": "59a50ec1",
   "metadata": {
    "scrolled": true
   },
   "outputs": [],
   "source": [
    "# Stacked force plot\n",
    "\n",
    "shap.force_plot(\n",
    "    explainer.expected_value,\n",
    "    shap_values[25880:25916],\n",
    "    X_test.reset_index().loc[25880:25916].set_index('datetime'),\n",
    "    link='logit',\n",
    ")"
   ]
  },
  {
   "cell_type": "code",
   "execution_count": null,
   "id": "fdb8a596",
   "metadata": {
    "scrolled": true
   },
   "outputs": [],
   "source": [
    "y_test.iloc[row], y_pred[row]"
   ]
  },
  {
   "cell_type": "code",
   "execution_count": null,
   "id": "0b77c908",
   "metadata": {
    "scrolled": true
   },
   "outputs": [],
   "source": [
    "shap.plots.bar(\n",
    "    explainer(X_test),\n",
    "#    show=False,\n",
    "    max_display=15,\n",
    ")\n",
    "\n",
    "# plt.savefig(\n",
    "#     Path(IMAGE_OUT, 'shap_bar_plot.png'),\n",
    "#     dpi=300,\n",
    "#     bbox_inches='tight',\n",
    "# )"
   ]
  },
  {
   "cell_type": "markdown",
   "id": "8bc7e840",
   "metadata": {},
   "source": [
    "## Confusion matrix"
   ]
  },
  {
   "cell_type": "code",
   "execution_count": null,
   "id": "31e358ab",
   "metadata": {
    "scrolled": false
   },
   "outputs": [],
   "source": [
    "import seaborn as sns\n",
    "\n",
    "conf_matrix = confusion_matrix(y_test, y_pred, normalize='true')\n",
    "\n",
    "plt.figure(figsize=(8, 8))\n",
    "\n",
    "sns.set(font_scale=2.4)\n",
    "\n",
    "sns.heatmap(\n",
    "    conf_matrix,\n",
    "    annot=True,\n",
    "    fmt='.2f',\n",
    "    cmap='Blues',\n",
    "    cbar=False,\n",
    "    xticklabels=['TID not predicted', 'TID predicted'],\n",
    "    yticklabels=['TID doesn\\'t occur', 'TID occurs'],\n",
    ")\n",
    "\n",
    "# plt.savefig(\n",
    "#     Path(IMAGE_OUT, f'confusion_matrix.png', dpi=500, bbox_inches='tight')\n",
    "# )\n",
    "\n",
    "plt.show()"
   ]
  },
  {
   "cell_type": "markdown",
   "id": "1b67ca9e",
   "metadata": {},
   "source": [
    "## Evaluation of classification"
   ]
  },
  {
   "cell_type": "code",
   "execution_count": null,
   "id": "3f6c4b0f",
   "metadata": {
    "scrolled": true
   },
   "outputs": [],
   "source": [
    "df_eval = X_test.copy(deep=True)\n",
    "df_eval['true'] = y_test\n",
    "df_eval['pred'] = cat_model.predict(X_test)\n",
    "df_eval['pred_proba'] = cat_model.predict_proba(X_test)[:,1]"
   ]
  },
  {
   "cell_type": "markdown",
   "id": "0a39ffe1",
   "metadata": {},
   "source": [
    "### ROC curve"
   ]
  },
  {
   "cell_type": "code",
   "execution_count": null,
   "id": "1bd59b69",
   "metadata": {
    "scrolled": true
   },
   "outputs": [],
   "source": [
    "fpr, tpr, thresholds = roc_curve(\n",
    "    df_eval['true'],\n",
    "    df_eval['pred_proba'],\n",
    ")"
   ]
  },
  {
   "cell_type": "code",
   "execution_count": null,
   "id": "4bf536f2",
   "metadata": {
    "scrolled": true
   },
   "outputs": [],
   "source": [
    "roc_auc = roc_auc_score(\n",
    "    df_eval['true'],\n",
    "    df_eval['pred_proba'],\n",
    ")"
   ]
  },
  {
   "cell_type": "code",
   "execution_count": null,
   "id": "387a6e02",
   "metadata": {
    "scrolled": false
   },
   "outputs": [],
   "source": [
    "fig = px.scatter(x=fpr, y=tpr)\n",
    "\n",
    "fig.update_layout(\n",
    "    height=700,\n",
    "    width=800,\n",
    "    autosize=False,\n",
    "    shapes=[\n",
    "        dict(\n",
    "            type='line',\n",
    "            x0=0,\n",
    "            y0=0,\n",
    "            x1=1,\n",
    "            y1=1,\n",
    "            line=dict(color='navy', width=2, dash='dash'),\n",
    "        )\n",
    "    ],\n",
    "    title=f'ROC Curve (ROC-AUC: <b>{roc_auc:.2f}</b>)',\n",
    "    xaxis=dict(title='False Positive Rate'),\n",
    "    yaxis=dict(title='True Positive Rate'),\n",
    "    template='ggplot2',\n",
    ")\n",
    "\n",
    "# fig.write_html(\n",
    "#     Path(IMAGE_OUT,f'plot_roc_curve.html')\n",
    "# )\n",
    "\n",
    "fig.show()"
   ]
  },
  {
   "cell_type": "markdown",
   "id": "ca73d429",
   "metadata": {},
   "source": [
    "### PR curve"
   ]
  },
  {
   "cell_type": "code",
   "execution_count": null,
   "id": "ec44f943",
   "metadata": {
    "scrolled": true
   },
   "outputs": [],
   "source": [
    "p, r, t = precision_recall_curve(\n",
    "    df_eval['true'],\n",
    "    df_eval['pred_proba'],\n",
    "    drop_intermediate=True,\n",
    ")"
   ]
  },
  {
   "cell_type": "code",
   "execution_count": null,
   "id": "bd8b6fc0",
   "metadata": {
    "scrolled": true
   },
   "outputs": [],
   "source": [
    "pr_auc = auc(r, p)"
   ]
  },
  {
   "cell_type": "code",
   "execution_count": null,
   "id": "cd4eb3de",
   "metadata": {
    "scrolled": true
   },
   "outputs": [],
   "source": [
    "f1_scores = 2 * (p*r) / (p+r)\n",
    "thr_f1_max = t[np.argmax(f1_scores)]\n",
    "\n",
    "print(\n",
    "    f'{np.round(thr_f1_max, 3)} is the threshold that maximises F1-score to {np.round(f1_scores[np.argmax(f1_scores)], 3)}'\n",
    ")"
   ]
  },
  {
   "cell_type": "code",
   "execution_count": null,
   "id": "b7e2672f",
   "metadata": {
    "scrolled": true
   },
   "outputs": [],
   "source": [
    "np.where(np.logical_and(p>=0.80, p<0.80001))"
   ]
  },
  {
   "cell_type": "code",
   "execution_count": null,
   "id": "a8439b64",
   "metadata": {
    "scrolled": true
   },
   "outputs": [],
   "source": [
    "idx = 3900\n",
    "thr_p_80 = t[idx]\n",
    "\n",
    "print(\n",
    "    f'{thr_p_80.round(3)} is the threshold that gives a precision of {p[idx].round(3)} (recall: {r[idx].round(3)} | F1-score: {f1_scores[idx].round(3)})'\n",
    ")"
   ]
  },
  {
   "cell_type": "code",
   "execution_count": null,
   "id": "21676550",
   "metadata": {
    "scrolled": true
   },
   "outputs": [],
   "source": [
    "np.where(np.logical_and(r>=0.60, r<0.6005))"
   ]
  },
  {
   "cell_type": "code",
   "execution_count": null,
   "id": "f2976aac",
   "metadata": {
    "scrolled": true
   },
   "outputs": [],
   "source": [
    "idx = 2495\n",
    "thr_r_60 = t[idx]\n",
    "\n",
    "print(\n",
    "    f'{thr_r_60.round(3)} is the threshold that gives a recall of {r[idx].round(3)} (precision: {p[idx].round(3)} | F1-score: {f1_scores[idx].round(3)})'\n",
    ")"
   ]
  },
  {
   "cell_type": "code",
   "execution_count": null,
   "id": "fa8c67e6",
   "metadata": {
    "scrolled": true
   },
   "outputs": [],
   "source": [
    "thr_f1_max.round(3), thr_p_80.round(3), thr_r_60.round(3)"
   ]
  },
  {
   "cell_type": "code",
   "execution_count": null,
   "id": "7e8c0a2c",
   "metadata": {
    "scrolled": true
   },
   "outputs": [],
   "source": [
    "df_eval['pred_f1_max'] = np.where(\n",
    "    df_eval['pred_proba'].gt(thr_f1_max),\n",
    "    1,\n",
    "    0,\n",
    ")"
   ]
  },
  {
   "cell_type": "code",
   "execution_count": null,
   "id": "42e63081",
   "metadata": {
    "scrolled": true
   },
   "outputs": [],
   "source": [
    "df_eval['pred_p_80'] = np.where(\n",
    "    df_eval['pred_proba'].gt(thr_p_80),\n",
    "    1,\n",
    "    0,\n",
    ")"
   ]
  },
  {
   "cell_type": "code",
   "execution_count": null,
   "id": "fe62d9dd",
   "metadata": {
    "scrolled": true
   },
   "outputs": [],
   "source": [
    "df_eval['pred_r_60'] = np.where(\n",
    "    df_eval['pred_proba'].gt(thr_r_60),\n",
    "    1,\n",
    "    0,\n",
    ")"
   ]
  },
  {
   "cell_type": "code",
   "execution_count": null,
   "id": "a8472745",
   "metadata": {
    "scrolled": false
   },
   "outputs": [],
   "source": [
    "for lab_ in ['pred_f1_max', 'pred_p_80', 'pred_r_60']:\n",
    "\n",
    "    conf_matrix = confusion_matrix(df_eval['true'], df_eval[lab_], normalize='true')\n",
    "\n",
    "    plt.figure(figsize=(8, 8))\n",
    "    sns.set(font_scale=2)\n",
    "\n",
    "    sns.heatmap(\n",
    "        conf_matrix,\n",
    "        annot=True,\n",
    "        fmt='.1%',\n",
    "        cmap='Blues',\n",
    "        cbar=False,\n",
    "        xticklabels=['TID not predicted', 'TID predicted'],\n",
    "        yticklabels=['TID doesn\\'t occur', 'TID occurs'],\n",
    "        annot_kws={\"size\": 32},\n",
    "    )\n",
    "\n",
    "#     plt.savefig(\n",
    "#         Path(IMAGE_OUT, f'confusion_matrix_{lab_}.png', dpi=500, bbox_inches='tight')\n",
    "#     )\n",
    "\n",
    "    plt.show()"
   ]
  },
  {
   "cell_type": "code",
   "execution_count": null,
   "id": "a780c124",
   "metadata": {
    "scrolled": true
   },
   "outputs": [],
   "source": [
    "# df_web_app = df_eval.copy(deep=True)\n",
    "\n",
    "# float_cols = df_web_app.select_dtypes(include=[np.float64]).columns\n",
    "# int_cols = df_web_app.select_dtypes(include=[np.int32, np.int64]).columns\n",
    "\n",
    "# df_web_app[float_cols] = df_web_app[float_cols].astype(np.float32)\n",
    "# df_web_app[int_cols] = df_web_app[int_cols].astype(np.int8)\n",
    "\n",
    "# df_web_app.to_pickle(Path(DATA_OUT, 'df_eval.pickle'))"
   ]
  },
  {
   "cell_type": "code",
   "execution_count": null,
   "id": "a26fdff5",
   "metadata": {
    "scrolled": false
   },
   "outputs": [],
   "source": [
    "fig = px.scatter(x=r, y=p)\n",
    "\n",
    "fig.add_shape(\n",
    "    type='line',\n",
    "    x0=0,\n",
    "    y0=1,\n",
    "    x1=1,\n",
    "    y1=0,\n",
    "    line=dict(color='navy', width=2, dash='dash'),\n",
    ")\n",
    "\n",
    "fig.add_shape(\n",
    "    type='line',\n",
    "    x0=r[idx],\n",
    "    y0=0,\n",
    "    x1=r[idx],\n",
    "    y1=p[idx],\n",
    "    line=dict(color='red', width=2, dash='dash'),\n",
    ")\n",
    "\n",
    "fig.add_shape(\n",
    "    type='line',\n",
    "    x0=0,\n",
    "    y0=p[idx],\n",
    "    x1=r[idx],\n",
    "    y1=p[idx],\n",
    "    line=dict(color='red', width=2, dash='dash'),\n",
    ")\n",
    "\n",
    "DOT_SIZE = 15\n",
    "fig.add_trace(\n",
    "    go.Scatter(\n",
    "        x=[r[idx]],\n",
    "        y=[p[idx]],\n",
    "        mode='markers',\n",
    "        marker=dict(color='red', size=DOT_SIZE),\n",
    "        showlegend=False,\n",
    "    )\n",
    ")\n",
    "\n",
    "fig.update_layout(\n",
    "    height=700,\n",
    "    width=800,\n",
    "    autosize=False,\n",
    "    title=f'PR Curve (PR-AUC: <b>{pr_auc:.2f}</b>)',\n",
    "    xaxis=dict(title='Recall'),\n",
    "    yaxis=dict(title='Precision'),\n",
    "    template='ggplot2',\n",
    ")\n",
    "\n",
    "# fig.write_html(\n",
    "#     Path(IMAGE_OUT,f'plot_pr_curve.html')\n",
    "# )\n",
    "\n",
    "fig.show()"
   ]
  }
 ],
 "metadata": {
  "kernelspec": {
   "display_name": "Python 3 (ipykernel)",
   "language": "python",
   "name": "python3"
  },
  "language_info": {
   "codemirror_mode": {
    "name": "ipython",
    "version": 3
   },
   "file_extension": ".py",
   "mimetype": "text/x-python",
   "name": "python",
   "nbconvert_exporter": "python",
   "pygments_lexer": "ipython3",
   "version": "3.10.16"
  }
 },
 "nbformat": 4,
 "nbformat_minor": 5
}
