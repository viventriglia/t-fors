{
 "cells": [
  {
   "cell_type": "code",
   "execution_count": null,
   "id": "d0ebd374",
   "metadata": {
    "scrolled": false
   },
   "outputs": [],
   "source": [
    "from pathlib import Path\n",
    "\n",
    "import pandas as pd\n",
    "import numpy as np\n",
    "from sklearn.model_selection import TimeSeriesSplit\n",
    "from sklearn.metrics import (\n",
    "    f1_score,\n",
    "    precision_recall_fscore_support,\n",
    "    roc_auc_score,\n",
    "    roc_curve,\n",
    "    auc,\n",
    "    precision_recall_curve,\n",
    ")\n",
    "from catboost import Pool, CatBoostClassifier\n",
    "import mlflow\n",
    "from mlflow.types.schema import Schema, ColSpec\n",
    "import optuna\n",
    "import shap\n",
    "shap.initjs()\n",
    "import plotly.express as px\n",
    "import plotly.graph_objects as go\n",
    "import matplotlib.pyplot as plt\n",
    "\n",
    "from var import DATA_OUT, MODEL_CATB, IMAGE_OUT, FORECAST_HOURS_IN_ADVANCE\n",
    "from src.forecast import instantiate_and_fit_model, objective, get_or_create_experiment\n",
    "from src.var import ML_SERVER_URI, EXPERIMENT_NAME\n",
    "\n",
    "# logging level: WARNING (INFO logs are suppressed)\n",
    "optuna.logging.set_verbosity(optuna.logging.WARNING)\n",
    "\n",
    "# MLFlow web server URI\n",
    "mlflow.set_tracking_uri(ML_SERVER_URI)"
   ]
  },
  {
   "cell_type": "code",
   "execution_count": null,
   "id": "132cda7b",
   "metadata": {
    "scrolled": false
   },
   "outputs": [],
   "source": [
    "df = pd.read_pickle(Path(DATA_OUT, 'df_dataset.pickle'))\n",
    "\n",
    "df[f'tid_within_{FORECAST_HOURS_IN_ADVANCE}h'] = df[f'tid_within_{FORECAST_HOURS_IN_ADVANCE}h'].replace(\n",
    "    {True: 1, False: 0}\n",
    ")"
   ]
  },
  {
   "cell_type": "code",
   "execution_count": null,
   "id": "4a36726e",
   "metadata": {
    "scrolled": false
   },
   "outputs": [],
   "source": [
    "X = df[\n",
    "    [\n",
    "        'ie_fix',\n",
    "        'ie_variation',\n",
    "        'il_fix',\n",
    "        'il_variation',\n",
    "        'iu_fix',\n",
    "        'iu_variation',\n",
    "        'io_fix',\n",
    "        'ie_mav_3h',\n",
    "        'ie_mav_6h',\n",
    "        'ie_mav_12h',\n",
    "        'ie_mav_24h',\n",
    "        'iu_mav_3h',\n",
    "        'iu_mav_6h',\n",
    "        'iu_mav_12h',\n",
    "        'iu_mav_24h',\n",
    "        'il_mav_3h',\n",
    "        'il_mav_6h',\n",
    "        'il_mav_12h',\n",
    "        'il_mav_24h',\n",
    "        'hf',\n",
    "        'f_107_adj',\n",
    "        'hp_30',\n",
    "        'smr',\n",
    "        'solar_zenith_angle',\n",
    "        'bz',\n",
    "        'vx',\n",
    "        'rho',\n",
    "        *[col_ for col_ in df.columns if col_.startswith('local_warning')],\n",
    "        *[col_ for col_ in df.columns if col_.startswith('spectral_contribution')],\n",
    "        *[col_ for col_ in df.columns if col_.startswith('azimuth')],\n",
    "        *[col_ for col_ in df.columns if col_.startswith('velocity')],\n",
    "    ]\n",
    "].copy()\n",
    "\n",
    "y = df[f'tid_within_{FORECAST_HOURS_IN_ADVANCE}h'].copy()"
   ]
  },
  {
   "cell_type": "code",
   "execution_count": null,
   "id": "d4d05380",
   "metadata": {
    "scrolled": false
   },
   "outputs": [],
   "source": [
    "cat_features = [\n",
    "    *[col_ for col_ in df.columns if col_.endswith('variation')],\n",
    "    *[col_ for col_ in df.columns if col_.startswith('local_warning')],\n",
    "]\n",
    "\n",
    "static_params = {\n",
    "    \"eval_metric\": \"F1:use_weights=True\",\n",
    "    \"random_seed\": 42,\n",
    "    # \"auto_class_weights\": \"SqrtBalanced\", # \"Balanced\",\n",
    "    \"cat_features\": cat_features,\n",
    "    \"od_type\": \"Iter\",\n",
    "    \"use_best_model\": True,\n",
    "    \"has_time\": True,\n",
    "    \"od_wait\": 200,\n",
    "}"
   ]
  },
  {
   "cell_type": "code",
   "execution_count": null,
   "id": "2d066396",
   "metadata": {
    "scrolled": false
   },
   "outputs": [],
   "source": [
    "# n_days_for_testing = 365\n",
    "# ts_cv = TimeSeriesSplit(n_splits=5, test_size=n_days_for_testing*24*2)\n",
    "\n",
    "ts_cv = TimeSeriesSplit(n_splits=5)"
   ]
  },
  {
   "cell_type": "code",
   "execution_count": null,
   "id": "8ac8e851",
   "metadata": {
    "scrolled": false
   },
   "outputs": [],
   "source": [
    "# fig, axs = plt.subplots(5, 1, figsize=(40, 20), sharex=True)\n",
    "# \n",
    "# for fold, (train_idx, val_idx) in enumerate(ts_cv.split(X)):\n",
    "#     train = X.iloc[train_idx]\n",
    "#     test = X.iloc[val_idx]\n",
    "#     train['hf'].plot(\n",
    "#         ax=axs[fold],\n",
    "#         title=f'Train/Test split - fold {fold + 1}',\n",
    "#     )\n",
    "#     test['hf'].plot(ax=axs[fold])\n",
    "#     axs[fold].axvline(test.index.min(), color='black', ls='--')\n",
    "#     axs[fold].set_ylabel('HF index')\n",
    "# \n",
    "# plt.savefig(\n",
    "#     Path(IMAGE_OUT, f'train_test_split.png', dpi=500, bbox_inches='tight')\n",
    "# )\n",
    "# plt.show()"
   ]
  },
  {
   "cell_type": "markdown",
   "id": "0b0a222e",
   "metadata": {},
   "source": [
    "## Optuna (hyper-params optimisation)"
   ]
  },
  {
   "cell_type": "code",
   "execution_count": null,
   "id": "412dcc7d",
   "metadata": {
    "scrolled": false
   },
   "outputs": [],
   "source": [
    "obj = lambda trial: objective(\n",
    "    trial,\n",
    "    X=X,\n",
    "    y=y,\n",
    "    cv=ts_cv,\n",
    "    params=static_params,\n",
    ")\n",
    "\n",
    "study = optuna.create_study(study_name='catboost_clf', direction='maximize')\n",
    "study.optimize(obj, n_trials=25, show_progress_bar=True)\n",
    "\n",
    "trial = study.best_trial"
   ]
  },
  {
   "cell_type": "code",
   "execution_count": null,
   "id": "aa269cb2",
   "metadata": {},
   "outputs": [],
   "source": [
    "print(\"Best trial:\")\n",
    "print(f\"  F1: {trial.value:.3f}\")\n",
    "\n",
    "print(\"  Params: \")\n",
    "for key, value in trial.params.items():\n",
    "    print(f\"    {key}: {value}\")"
   ]
  },
  {
   "cell_type": "code",
   "execution_count": null,
   "id": "44d33ff1",
   "metadata": {
    "scrolled": false
   },
   "outputs": [],
   "source": [
    "optuna.visualization.plot_optimization_history(study)"
   ]
  },
  {
   "cell_type": "code",
   "execution_count": null,
   "id": "1d4674d1",
   "metadata": {
    "scrolled": false
   },
   "outputs": [],
   "source": [
    "optuna.visualization.plot_param_importances(study)"
   ]
  },
  {
   "cell_type": "code",
   "execution_count": null,
   "id": "e011df82",
   "metadata": {
    "scrolled": false
   },
   "outputs": [],
   "source": [
    "# Fine-tuned hyperparams\n",
    "best_params = study.best_params\n",
    "static_params.update(best_params)"
   ]
  },
  {
   "cell_type": "markdown",
   "id": "b1d66527",
   "metadata": {},
   "source": [
    "## Fine-tuned and cross-validated model"
   ]
  },
  {
   "cell_type": "markdown",
   "id": "93eec33b",
   "metadata": {},
   "source": [
    "**[Model signatures](https://www.mlflow.org/docs/latest/models.html#model-signature)** define what the model expects (input, output and parameters) and enforce it later in deployment.\n",
    "\n",
    "Signatures are fetched by the Tracking UI and Model Registry UI to display model inputs, outputs and params; they are also utilized by MLflow model deployment tools to validate inference inputs according to the model’s assigned signature"
   ]
  },
  {
   "cell_type": "code",
   "execution_count": null,
   "id": "0681dbdc",
   "metadata": {
    "scrolled": false
   },
   "outputs": [],
   "source": [
    "mlflow.set_experiment(\n",
    "    experiment_id=get_or_create_experiment(EXPERIMENT_NAME)\n",
    ");"
   ]
  },
  {
   "cell_type": "code",
   "execution_count": null,
   "id": "ebe2305f",
   "metadata": {
    "scrolled": false
   },
   "outputs": [],
   "source": [
    "input_schema = Schema(\n",
    "    [ColSpec(\"double\", col_) for col_ in X.columns]\n",
    ")\n",
    "\n",
    "output_schema = Schema(\n",
    "    [ColSpec(\"long\", y.name)]\n",
    ")\n",
    "\n",
    "signature = mlflow.models.ModelSignature(inputs=input_schema, outputs=output_schema)"
   ]
  },
  {
   "cell_type": "code",
   "execution_count": null,
   "id": "33ba7bb2",
   "metadata": {
    "scrolled": false
   },
   "outputs": [],
   "source": [
    "with mlflow.start_run() as ml_run:\n",
    "    run_id = '1928ac3df36f475ea43404e29ba66793'\n",
    "    cat_model = mlflow.catboost.load_model(f'runs:/{run_id}/model')\n",
    "    \n",
    "    \n",
    "    mlflow.log_params(\n",
    "        cat_model.get_all_params()\n",
    "    )\n",
    "    \n",
    "    f1s = []\n",
    "    for i, (train_idx, test_idx) in enumerate(ts_cv.split(X)):\n",
    "        X_train, X_test = X.iloc[train_idx], X.iloc[test_idx]\n",
    "        y_train, y_test = y.iloc[train_idx], y.iloc[test_idx]\n",
    "        \n",
    "        # cat_model = instantiate_and_fit_model(\n",
    "        #     X_train=X_train,\n",
    "        #     y_train=y_train,\n",
    "        #     X_test=X_test,\n",
    "        #     y_test=y_test,\n",
    "        #     loss_function='Logloss',\n",
    "        #     params=static_params,\n",
    "        # )\n",
    "        # \n",
    "        # # See GitHub issue #8044 (MLflow) to understand why we need i\n",
    "        # params = {f'{param}_{i}': value for param, value in cat_model.get_all_params().items()}\n",
    "        # mlflow.log_params(params)\n",
    "\n",
    "        y_pred = cat_model.predict(X_test)\n",
    "        \n",
    "        prcs, rcll, f1, supp = precision_recall_fscore_support(y_test, y_pred)\n",
    "        f1s.append(f1[1])\n",
    "        # mlflow.log_metrics(\n",
    "        #     {\n",
    "        #         'f1_0': f1[0], 'precision_0': prcs[0], 'recall_0': rcll[0],\n",
    "        #         'f1_1': f1[1], 'precision_1': prcs[1], 'recall_1': rcll[1]\n",
    "        #     }\n",
    "        # )\n",
    "        # mlflow.catboost.log_model(cat_model, 'model', signature=signature)"
   ]
  },
  {
   "cell_type": "code",
   "execution_count": null,
   "id": "59fff3ac",
   "metadata": {
    "scrolled": false
   },
   "outputs": [],
   "source": [
    "print(f'Achieved F1-score: {np.mean(f1s):.2f} ± {np.std(f1s, ddof=1):.2f}')"
   ]
  },
  {
   "cell_type": "code",
   "execution_count": null,
   "id": "3578edb0",
   "metadata": {},
   "outputs": [],
   "source": [
    "weights = [tr_idx.shape[0] / X.shape[0] for tr_idx, _ in ts_cv.split(X)]\n",
    "w_avg = sum(f1 * w_ for f1, w_ in zip(f1s, weights)) / sum(weights)\n",
    "\n",
    "print(f'Achieved F1-score (weighted): {w_avg:.2f} ± {np.std(f1s, ddof=1):.2f}')"
   ]
  },
  {
   "cell_type": "markdown",
   "id": "16ea3469",
   "metadata": {},
   "source": [
    "## Load from model registry"
   ]
  },
  {
   "cell_type": "code",
   "execution_count": null,
   "id": "50c034af",
   "metadata": {
    "scrolled": false
   },
   "outputs": [],
   "source": [
    "run_id = '1928ac3df36f475ea43404e29ba66793'\n",
    "\n",
    "cat_model = mlflow.catboost.load_model(f'runs:/{run_id}/model')"
   ]
  },
  {
   "cell_type": "markdown",
   "id": "88975732",
   "metadata": {},
   "source": [
    "## SHAP"
   ]
  },
  {
   "cell_type": "code",
   "execution_count": null,
   "id": "592971cb",
   "metadata": {},
   "outputs": [],
   "source": [
    "px.bar(\n",
    "    feat_importances.sort_values(),\n",
    "    orientation='h',\n",
    "    template='simple_white',\n",
    ")"
   ]
  },
  {
   "cell_type": "code",
   "execution_count": null,
   "id": "d40d501a",
   "metadata": {
    "scrolled": false
   },
   "outputs": [],
   "source": [
    "shap_values = cat_model.get_feature_importance(\n",
    "    Pool(X_test, label=y_test, cat_features=cat_features),\n",
    "    type=\"ShapValues\",\n",
    ")\n",
    "\n",
    "shap_values = shap_values[:,:-1]"
   ]
  },
  {
   "cell_type": "code",
   "execution_count": null,
   "id": "bbcd8aed",
   "metadata": {
    "scrolled": false
   },
   "outputs": [],
   "source": [
    "# shap.summary_plot(shap_values, X_test, show=False, max_display=11)\n",
    "# plt.savefig(\n",
    "#     Path(IMAGE_OUT, 'shap_summary.png'),\n",
    "#     dpi=300,\n",
    "# )\n",
    "\n",
    "shap.summary_plot(shap_values, X_test, max_display=20)"
   ]
  },
  {
   "cell_type": "code",
   "execution_count": null,
   "id": "160b9790",
   "metadata": {
    "scrolled": false
   },
   "outputs": [],
   "source": [
    "shap.dependence_plot(\n",
    "    'spectral_contribution_ro',\n",
    "    shap_values,\n",
    "    X_test,\n",
    "    interaction_index='hf',\n",
    ")"
   ]
  },
  {
   "cell_type": "code",
   "execution_count": null,
   "id": "b5769aa8",
   "metadata": {},
   "outputs": [],
   "source": [
    "from src.io import read_time_series\n",
    "from var import DATA_IN\n",
    "\n",
    "df_tid = read_time_series(\n",
    "    Path(DATA_IN, 'TID_catalog.csv'),\n",
    "    column_names=[\n",
    "        'duration',\n",
    "        'period',\n",
    "        'amplitude',\n",
    "        'spectral_contribution',\n",
    "        'velocity',\n",
    "        'azimuth',\n",
    "        'quality_index',\n",
    "        'datetime',\n",
    "    ],\n",
    ")"
   ]
  },
  {
   "cell_type": "code",
   "execution_count": null,
   "id": "5a0fc6e2",
   "metadata": {},
   "outputs": [],
   "source": [
    "df_tid.loc['2022-12']"
   ]
  },
  {
   "cell_type": "code",
   "execution_count": null,
   "id": "fa8c8dcb",
   "metadata": {
    "scrolled": false
   },
   "outputs": [],
   "source": [
    "row = X_test.index.get_loc('2022-03-11 23:00') # 16:00 - 22:00\n",
    "\n",
    "explainer = shap.TreeExplainer(cat_model)\n",
    "shap_values_ = explainer.shap_values(X_test)\n",
    "\n",
    "shap.force_plot(\n",
    "    explainer.expected_value,\n",
    "    shap_values[row,:],\n",
    "    X_test.iloc[row,:],\n",
    "    link='logit',\n",
    ")\n",
    "\n",
    "#.savefig(\n",
    "#    Path(IMAGE_OUT, 'shap_force.png'),\n",
    "#    dpi=300,\n",
    "#)"
   ]
  },
  {
   "cell_type": "code",
   "execution_count": null,
   "id": "fdb8a596",
   "metadata": {
    "scrolled": false
   },
   "outputs": [],
   "source": [
    "y_test.iloc[row], y_pred[row]"
   ]
  },
  {
   "cell_type": "code",
   "execution_count": null,
   "id": "0138161c",
   "metadata": {
    "scrolled": false
   },
   "outputs": [],
   "source": [
    "y_pred[y_pred==1].shape[0] / y_pred.shape[0]"
   ]
  },
  {
   "cell_type": "markdown",
   "id": "1b67ca9e",
   "metadata": {},
   "source": [
    "## Evaluation of classification"
   ]
  },
  {
   "cell_type": "code",
   "execution_count": null,
   "id": "3f6c4b0f",
   "metadata": {},
   "outputs": [],
   "source": [
    "df_eval = X.copy(deep=True)\n",
    "df_eval['true'] = y\n",
    "df_eval['pred'] = cat_model.predict(X)\n",
    "df_eval['pred_pr'] = cat_model.predict_proba(X)[:,1]"
   ]
  },
  {
   "cell_type": "code",
   "execution_count": null,
   "id": "6a1a2887",
   "metadata": {},
   "outputs": [],
   "source": [
    "f1_score(\n",
    "    df_eval['true'],\n",
    "    df_eval['pred'],\n",
    ")"
   ]
  },
  {
   "cell_type": "code",
   "execution_count": null,
   "id": "4bf536f2",
   "metadata": {},
   "outputs": [],
   "source": [
    "roc_auc = roc_auc_score(\n",
    "    df_eval['true'],\n",
    "    df_eval['pred_pr'],\n",
    ")"
   ]
  },
  {
   "cell_type": "code",
   "execution_count": null,
   "id": "1bd59b69",
   "metadata": {},
   "outputs": [],
   "source": [
    "fpr, tpr, thresholds = roc_curve(\n",
    "    df_eval['true'],\n",
    "    df_eval['pred_pr'],\n",
    ")"
   ]
  },
  {
   "cell_type": "code",
   "execution_count": null,
   "id": "ec44f943",
   "metadata": {},
   "outputs": [],
   "source": [
    "p, r, t = precision_recall_curve(\n",
    "    df_eval['true'],\n",
    "    df_eval['pred_pr'],\n",
    "    drop_intermediate=True\n",
    ")"
   ]
  },
  {
   "cell_type": "code",
   "execution_count": null,
   "id": "bd8b6fc0",
   "metadata": {},
   "outputs": [],
   "source": [
    "pr_auc = auc(r, p)"
   ]
  },
  {
   "cell_type": "code",
   "execution_count": null,
   "id": "cd4eb3de",
   "metadata": {},
   "outputs": [],
   "source": [
    "f1_scores = 2 * (p*r) / (p+r)\n",
    "opt_thr = t[np.argmax(f1_scores)]"
   ]
  },
  {
   "cell_type": "code",
   "execution_count": null,
   "id": "77eff317",
   "metadata": {},
   "outputs": [],
   "source": [
    "opt_thr, f1_scores[np.argmax(f1_scores)]"
   ]
  },
  {
   "cell_type": "code",
   "execution_count": null,
   "id": "b7e2672f",
   "metadata": {},
   "outputs": [],
   "source": [
    "np.where(np.logical_and(p>=0.80, p<0.8001))"
   ]
  },
  {
   "cell_type": "code",
   "execution_count": null,
   "id": "a8439b64",
   "metadata": {},
   "outputs": [],
   "source": [
    "idx = 13980\n",
    "\n",
    "p[idx].round(3), r[idx].round(3), f1_scores[idx].round(3)"
   ]
  },
  {
   "cell_type": "code",
   "execution_count": null,
   "id": "387a6e02",
   "metadata": {
    "scrolled": false
   },
   "outputs": [],
   "source": [
    "fig = px.scatter(x=fpr, y=tpr)\n",
    "\n",
    "fig.update_layout(\n",
    "    # height=800,\n",
    "    # width=800,\n",
    "    # autosize=False,\n",
    "    shapes=[\n",
    "        dict(\n",
    "            type='line',\n",
    "            x0=0,\n",
    "            y0=0,\n",
    "            x1=1,\n",
    "            y1=1,\n",
    "            line=dict(color='navy', width=2, dash='dash'),\n",
    "        )\n",
    "    ],\n",
    "    title=f'ROC Curve (ROC-AUC: {roc_auc:.2f})',\n",
    "    xaxis=dict(title='False Positive Rate'),\n",
    "    yaxis=dict(title='True Positive Rate'),\n",
    "    template='ggplot2',\n",
    ")\n",
    "\n",
    "# fig.write_html(\n",
    "#     Path(IMAGE_OUT,f'plot_roc_curve.html')\n",
    "# )\n",
    "\n",
    "fig.show()"
   ]
  },
  {
   "cell_type": "code",
   "execution_count": null,
   "id": "a26fdff5",
   "metadata": {},
   "outputs": [],
   "source": [
    "fig = px.scatter(x=r, y=p)\n",
    "\n",
    "fig.update_layout(\n",
    "    # height=800,\n",
    "    # width=800,\n",
    "    # autosize=False,\n",
    "    shapes=[\n",
    "        dict(\n",
    "            type='line',\n",
    "            x0=0,\n",
    "            y0=1,\n",
    "            x1=1,\n",
    "            y1=0,\n",
    "            line=dict(color='navy', width=2, dash='dash'),\n",
    "        )\n",
    "    ],\n",
    "    title=f'PR Curve (PR-AUC: {pr_auc:.2f})',\n",
    "    xaxis=dict(title='Recall'),\n",
    "    yaxis=dict(title='Precision'),\n",
    "    template='ggplot2',\n",
    ")\n",
    "\n",
    "# fig.write_html(\n",
    "#     Path(IMAGE_OUT,f'plot_pr_curve.html')\n",
    "# )\n",
    "\n",
    "fig.show()"
   ]
  },
  {
   "cell_type": "markdown",
   "id": "4787f7ac",
   "metadata": {},
   "source": [
    "## Plot features vs target"
   ]
  },
  {
   "cell_type": "code",
   "execution_count": null,
   "id": "aea8c1c6",
   "metadata": {
    "scrolled": false
   },
   "outputs": [],
   "source": [
    "import plotly.graph_objects as go\n",
    "from plotly.subplots import make_subplots\n",
    "\n",
    "period = '2022-03'\n",
    "\n",
    "df_plt = df_eval.loc[\n",
    "    f'{period}',\n",
    "    ['iu_mav_6h','iu_fix','hf','smr','true','pred']\n",
    "]\n",
    "\n",
    "n_cols = len(df_plt.columns)\n",
    "\n",
    "fig = make_subplots(\n",
    "    rows=n_cols,\n",
    "    cols=1,\n",
    "    shared_xaxes=True,\n",
    "    vertical_spacing=0.04,\n",
    "    subplot_titles=df_plt.columns,\n",
    ")\n",
    "\n",
    "for i, col in enumerate(df_plt.columns, start=1):\n",
    "    fig.add_trace(\n",
    "        go.Scatter(\n",
    "            x=df_plt[col].index,\n",
    "            y=df_plt[col].values,\n",
    "            name=col,\n",
    "        ),\n",
    "        row=i,\n",
    "        col=1,\n",
    "    )\n",
    "    \n",
    "fig.update_layout(\n",
    "    template='plotly_white',\n",
    "    height=800,\n",
    "    width=1_000,\n",
    "    autosize=False,\n",
    "    title=f'Period: <b>{period}</b>',\n",
    ")\n",
    "\n",
    "fig.show()\n",
    "\n",
    "# fig.write_html(\n",
    "#     Path(IMAGE_OUT,f'plot_features_target_{period}.html')\n",
    "# )"
   ]
  },
  {
   "cell_type": "code",
   "execution_count": null,
   "id": "efd1214d",
   "metadata": {},
   "outputs": [],
   "source": []
  }
 ],
 "metadata": {
  "kernelspec": {
   "display_name": "Python 3 (ipykernel)",
   "language": "python",
   "name": "python3"
  },
  "language_info": {
   "codemirror_mode": {
    "name": "ipython",
    "version": 3
   },
   "file_extension": ".py",
   "mimetype": "text/x-python",
   "name": "python",
   "nbconvert_exporter": "python",
   "pygments_lexer": "ipython3",
   "version": "3.10.8"
  }
 },
 "nbformat": 4,
 "nbformat_minor": 5
}
