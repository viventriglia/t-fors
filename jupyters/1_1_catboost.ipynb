{
 "cells": [
  {
   "cell_type": "code",
   "execution_count": null,
   "id": "d0ebd374",
   "metadata": {
    "scrolled": false
   },
   "outputs": [],
   "source": [
    "from pathlib import Path\n",
    "\n",
    "import pandas as pd\n",
    "import numpy as np\n",
    "from sklearn.model_selection import TimeSeriesSplit\n",
    "from sklearn.calibration import calibration_curve\n",
    "from sklearn.metrics import (\n",
    "    f1_score,\n",
    "    precision_recall_fscore_support,\n",
    "    roc_auc_score,\n",
    "    roc_curve,\n",
    "    auc,\n",
    "    precision_recall_curve,\n",
    "    confusion_matrix\n",
    ")\n",
    "from catboost import Pool\n",
    "import mlflow\n",
    "from mlflow.types.schema import Schema, ColSpec\n",
    "import optuna\n",
    "import shap\n",
    "shap.initjs()\n",
    "import plotly.express as px\n",
    "import plotly.graph_objects as go\n",
    "from plotly.subplots import make_subplots\n",
    "import matplotlib.pyplot as plt\n",
    "\n",
    "from var import DATA_OUT, IMAGE_OUT, FORECAST_HOURS_IN_ADVANCE\n",
    "from src import ML_SERVER_URI, EXPERIMENT_NAME\n",
    "from src.opt import objective\n",
    "from src.model import (\n",
    "    get_or_create_experiment,\n",
    "    start_crossvalidated_run,\n",
    "    evaluate_crossvalidated_metrics,\n",
    ")\n",
    "\n",
    "# logging level: WARNING (INFO logs are suppressed)\n",
    "optuna.logging.set_verbosity(optuna.logging.WARNING)\n",
    "\n",
    "# MLFlow web server URI\n",
    "mlflow.set_tracking_uri(ML_SERVER_URI)"
   ]
  },
  {
   "cell_type": "code",
   "execution_count": null,
   "id": "132cda7b",
   "metadata": {
    "scrolled": false
   },
   "outputs": [],
   "source": [
    "df = pd.read_pickle(Path(DATA_OUT, 'df_dataset.pickle'))"
   ]
  },
  {
   "cell_type": "code",
   "execution_count": null,
   "id": "4a36726e",
   "metadata": {
    "scrolled": false
   },
   "outputs": [],
   "source": [
    "IS_MIDTRM_MIDACC = False\n",
    "\n",
    "X = df[\n",
    "    [\n",
    "        *[col_ for col_ in df.columns if col_.startswith('ie_')],\n",
    "        # *[col_ for col_ in df.columns if col_.startswith('il_')],\n",
    "        *[col_ for col_ in df.columns if col_.startswith('iu_')],\n",
    "        # *[col_ for col_ in df.columns if col_.startswith('io_')],\n",
    "        'hf',\n",
    "        'hf_mav_2h',\n",
    "        'f_107_adj',\n",
    "        'hp_30',\n",
    "        'smr',\n",
    "        'solar_zenith_angle',\n",
    "#         'newell',\n",
    "        'bz',\n",
    "        'vx',\n",
    "        'rho',\n",
    "        *[col_ for col_ in df.columns if col_.startswith('local_warning_')],\n",
    "        *[col_ for col_ in df.columns if col_.startswith('spectral_contribution_')],\n",
    "        *[col_ for col_ in df.columns if col_.startswith('azimuth_')],\n",
    "        *[col_ for col_ in df.columns if col_.startswith('velocity_')],\n",
    "    ]\n",
    "].copy()\n",
    "\n",
    "if IS_MIDTRM_MIDACC:\n",
    "    target = f'tid_within_{2*FORECAST_HOURS_IN_ADVANCE}h_to_{FORECAST_HOURS_IN_ADVANCE}h'\n",
    "else:\n",
    "    target = f'tid_within_{FORECAST_HOURS_IN_ADVANCE}h'\n",
    "\n",
    "y = df[target].copy()"
   ]
  },
  {
   "cell_type": "code",
   "execution_count": null,
   "id": "d4d05380",
   "metadata": {
    "scrolled": false
   },
   "outputs": [],
   "source": [
    "cat_features = [\n",
    "    'ie_variation',\n",
    "    'iu_variation',\n",
    "    *[col_ for col_ in df.columns if col_.startswith('local_warning_')],\n",
    "]\n",
    "\n",
    "static_params = {\n",
    "    \"eval_metric\": 'F1',\n",
    "    \"random_seed\": 42,\n",
    "    # \"auto_class_weights\": \"SqrtBalanced\", # \"Balanced\",\n",
    "    \"cat_features\": cat_features,\n",
    "    \"od_type\": \"Iter\",\n",
    "    \"use_best_model\": True,\n",
    "    \"has_time\": True,\n",
    "    \"od_wait\": 200,\n",
    "}"
   ]
  },
  {
   "cell_type": "code",
   "execution_count": null,
   "id": "2d066396",
   "metadata": {
    "scrolled": false
   },
   "outputs": [],
   "source": [
    "# n_days_for_testing = 365\n",
    "# ts_cv = TimeSeriesSplit(n_splits=5, test_size=n_days_for_testing*24*2)\n",
    "\n",
    "ts_cv = TimeSeriesSplit(n_splits=5)"
   ]
  },
  {
   "cell_type": "code",
   "execution_count": null,
   "id": "8ac8e851",
   "metadata": {
    "scrolled": false
   },
   "outputs": [],
   "source": [
    "# fig, axs = plt.subplots(5, 1, figsize=(40, 20), sharex=True)\n",
    "# \n",
    "# for fold, (train_idx, val_idx) in enumerate(ts_cv.split(X)):\n",
    "#     train = X.iloc[train_idx]\n",
    "#     test = X.iloc[val_idx]\n",
    "#     train['hf'].plot(\n",
    "#         ax=axs[fold],\n",
    "#         title=f'Train/Test split - fold {fold + 1}',\n",
    "#     )\n",
    "#     test['hf'].plot(ax=axs[fold])\n",
    "#     axs[fold].axvline(test.index.min(), color='black', ls='--')\n",
    "#     axs[fold].set_ylabel('HF index')\n",
    "# \n",
    "# plt.savefig(\n",
    "#     Path(IMAGE_OUT, f'train_test_split.png', dpi=500, bbox_inches='tight')\n",
    "# )\n",
    "# plt.show()"
   ]
  },
  {
   "cell_type": "markdown",
   "id": "0b0a222e",
   "metadata": {},
   "source": [
    "## Optuna (hyper-params optimisation)"
   ]
  },
  {
   "cell_type": "code",
   "execution_count": null,
   "id": "412dcc7d",
   "metadata": {
    "scrolled": false
   },
   "outputs": [],
   "source": [
    "obj = lambda trial: objective(\n",
    "    trial,\n",
    "    X=X,\n",
    "    y=y,\n",
    "    cv=ts_cv,\n",
    "    params=static_params,\n",
    ")\n",
    "\n",
    "study = optuna.create_study(study_name='catboost_clf', direction='maximize')\n",
    "study.optimize(obj, n_trials=10, show_progress_bar=True)\n",
    "\n",
    "trial = study.best_trial"
   ]
  },
  {
   "cell_type": "code",
   "execution_count": null,
   "id": "aa269cb2",
   "metadata": {},
   "outputs": [],
   "source": [
    "print(\"Best trial:\")\n",
    "print(f\"  F1: {trial.value:.3f}\")\n",
    "\n",
    "print(\"  Params: \")\n",
    "for key, value in trial.params.items():\n",
    "    print(f\"    {key}: {value}\")"
   ]
  },
  {
   "cell_type": "code",
   "execution_count": null,
   "id": "44d33ff1",
   "metadata": {
    "scrolled": false
   },
   "outputs": [],
   "source": [
    "# optuna.visualization.plot_optimization_history(study)"
   ]
  },
  {
   "cell_type": "code",
   "execution_count": null,
   "id": "1d4674d1",
   "metadata": {
    "scrolled": false
   },
   "outputs": [],
   "source": [
    "# optuna.visualization.plot_param_importances(study)"
   ]
  },
  {
   "cell_type": "code",
   "execution_count": null,
   "id": "e011df82",
   "metadata": {
    "scrolled": false
   },
   "outputs": [],
   "source": [
    "# Fine-tuned hyperparams\n",
    "best_params = study.best_params\n",
    "static_params.update(best_params)"
   ]
  },
  {
   "cell_type": "markdown",
   "id": "b1d66527",
   "metadata": {},
   "source": [
    "## Fine-tuned and/or cross-validated model"
   ]
  },
  {
   "cell_type": "code",
   "execution_count": null,
   "id": "0681dbdc",
   "metadata": {
    "scrolled": false
   },
   "outputs": [],
   "source": [
    "mlflow.set_experiment(\n",
    "    experiment_id=get_or_create_experiment(EXPERIMENT_NAME)\n",
    ");"
   ]
  },
  {
   "cell_type": "markdown",
   "id": "a1599942",
   "metadata": {},
   "source": [
    "### Pre-trained model (retrieved by `run_id`)"
   ]
  },
  {
   "cell_type": "code",
   "execution_count": null,
   "id": "86692fe9",
   "metadata": {
    "scrolled": false
   },
   "outputs": [],
   "source": [
    "cat_model, (f1s, prs, rcs) = start_crossvalidated_run(\n",
    "    X=X,\n",
    "    y=y,\n",
    "    time_series_cross_validator=ts_cv,\n",
    "    run_id='ed451d15e8094aa593f44d07bc77696d',\n",
    ")"
   ]
  },
  {
   "cell_type": "markdown",
   "id": "93eec33b",
   "metadata": {},
   "source": [
    "### Train a model from scratch, usually after h-params optimisation\n",
    "\n",
    "**[Model signatures](https://www.mlflow.org/docs/latest/models.html#model-signature)** define what the model expects (input, output and parameters) and enforce it later in deployment.\n",
    "\n",
    "Signatures are fetched by the Tracking UI and Model Registry UI to display model inputs, outputs and params; they are also utilized by MLflow model deployment tools to validate inference inputs according to the model’s assigned signature"
   ]
  },
  {
   "cell_type": "code",
   "execution_count": null,
   "id": "a10f1c09",
   "metadata": {
    "scrolled": false
   },
   "outputs": [],
   "source": [
    "input_schema = Schema(\n",
    "    [ColSpec(\"double\", col_) for col_ in X.columns]\n",
    ")\n",
    "\n",
    "output_schema = Schema(\n",
    "    [ColSpec(\"long\", y.name)]\n",
    ")\n",
    "\n",
    "signature = mlflow.models.ModelSignature(inputs=input_schema, outputs=output_schema)\n",
    "\n",
    "cat_model, (f1s, prs, rcs) = start_crossvalidated_run(\n",
    "    X=X,\n",
    "    y=y,\n",
    "    time_series_cross_validator=ts_cv,\n",
    "    model_params=static_params,\n",
    "    model_signature=signature,\n",
    ")"
   ]
  },
  {
   "cell_type": "code",
   "execution_count": null,
   "id": "df269a3e",
   "metadata": {},
   "outputs": [],
   "source": [
    "weights = [tr_idx.shape[0] / X.shape[0] for tr_idx, _ in ts_cv.split(X)]\n",
    "\n",
    "evaluate_crossvalidated_metrics(\n",
    "    metrics={\n",
    "        'F1-score': f1s,\n",
    "        'Precision': prs,\n",
    "        'Recall': rcs,\n",
    "    },\n",
    "    weights=weights,\n",
    ")"
   ]
  },
  {
   "cell_type": "code",
   "execution_count": null,
   "id": "90a178c2",
   "metadata": {},
   "outputs": [],
   "source": [
    "evaluate_crossvalidated_metrics(\n",
    "    metrics={\n",
    "        'F1-score': f1s,\n",
    "        'Precision': prs,\n",
    "        'Recall': rcs,\n",
    "    },\n",
    "    weights=None,\n",
    ")"
   ]
  },
  {
   "cell_type": "code",
   "execution_count": null,
   "id": "f6e3a77d",
   "metadata": {},
   "outputs": [],
   "source": [
    "train_idx, test_idx = [(tr_idx, ts_idx) for (tr_idx, ts_idx) in ts_cv.split(X)][-1]\n",
    "\n",
    "X_train, X_test = X.iloc[train_idx], X.iloc[test_idx]\n",
    "y_train, y_test = y.iloc[train_idx], y.iloc[test_idx]\n",
    "\n",
    "y_pred = cat_model.predict(X_test)"
   ]
  },
  {
   "cell_type": "markdown",
   "id": "88975732",
   "metadata": {},
   "source": [
    "## SHAP"
   ]
  },
  {
   "cell_type": "code",
   "execution_count": null,
   "id": "d40d501a",
   "metadata": {
    "scrolled": false
   },
   "outputs": [],
   "source": [
    "shap_values = cat_model.get_feature_importance(\n",
    "    Pool(X_test, label=y_test, cat_features=cat_features),\n",
    "    type=\"ShapValues\",\n",
    ")\n",
    "\n",
    "shap_values = shap_values[:,:-1]"
   ]
  },
  {
   "cell_type": "code",
   "execution_count": null,
   "id": "3b1381c1",
   "metadata": {},
   "outputs": [],
   "source": [
    "# df_shap = pd.DataFrame(\n",
    "#     (\n",
    "#         zip(\n",
    "#             X_train.columns[np.argsort(np.abs(shap_values).mean(0))][::-1],\n",
    "#             -np.sort(-np.abs(shap_values).mean(0))\n",
    "#         )\n",
    "#     ),\n",
    "#     columns=[\"feature\", \"importance\"],\n",
    "# )\n",
    "# \n",
    "# df_shap.to_pickle(Path(DATA_OUT, 'df_feat_imp.pickle'))"
   ]
  },
  {
   "cell_type": "code",
   "execution_count": null,
   "id": "bbcd8aed",
   "metadata": {
    "scrolled": false
   },
   "outputs": [],
   "source": [
    "shap.summary_plot(\n",
    "    shap_values,\n",
    "    X_test,\n",
    "    max_display=15,\n",
    "#    show=False,\n",
    ")\n",
    "\n",
    "# plt.savefig(\n",
    "#     Path(IMAGE_OUT, 'shap_summary.png'),\n",
    "#     dpi=300,\n",
    "# )"
   ]
  },
  {
   "cell_type": "code",
   "execution_count": null,
   "id": "160b9790",
   "metadata": {
    "scrolled": false
   },
   "outputs": [],
   "source": [
    "shap.dependence_plot(\n",
    "    'newell',\n",
    "    shap_values,\n",
    "    X_test,\n",
    "    interaction_index='iu_fix',\n",
    ")"
   ]
  },
  {
   "cell_type": "code",
   "execution_count": null,
   "id": "fd035b6f",
   "metadata": {},
   "outputs": [],
   "source": [
    "corr = df.select_dtypes(exclude=['object'])[\n",
    "    [\n",
    "        'ie_fix',\n",
    "        'iu_fix',\n",
    "        'hf',\n",
    "        'hp_30',\n",
    "        'smr',\n",
    "        'newell',\n",
    "        'bz',\n",
    "        'vx',\n",
    "        'rho',\n",
    "        'solar_zenith_angle',\n",
    "        'tid_within_3h',\n",
    "    ]\n",
    "].corr()\n",
    "\n",
    "corr.style.background_gradient(cmap='coolwarm')"
   ]
  },
  {
   "cell_type": "code",
   "execution_count": null,
   "id": "b5769aa8",
   "metadata": {},
   "outputs": [],
   "source": [
    "from src.io import read_time_series\n",
    "from var import DATA_IN\n",
    "\n",
    "df_tid = read_time_series(\n",
    "    Path(DATA_IN, 'TID_catalog.csv'),\n",
    "    column_names=[\n",
    "        'duration',\n",
    "        'period',\n",
    "        'amplitude',\n",
    "        'spectral_contribution',\n",
    "        'velocity',\n",
    "        'azimuth',\n",
    "        'quality_index',\n",
    "        'datetime',\n",
    "    ],\n",
    ")"
   ]
  },
  {
   "cell_type": "code",
   "execution_count": null,
   "id": "20044d85",
   "metadata": {},
   "outputs": [],
   "source": [
    "explainer = shap.TreeExplainer(cat_model)\n",
    "shap_values_ = explainer.shap_values(X_test)"
   ]
  },
  {
   "cell_type": "code",
   "execution_count": null,
   "id": "fa8c8dcb",
   "metadata": {
    "scrolled": false
   },
   "outputs": [],
   "source": [
    "row = X_test.index.get_loc('2022-01-04 16:00')\n",
    "\n",
    "shap.force_plot(\n",
    "    explainer.expected_value,\n",
    "    shap_values[row,:],\n",
    "    X_test.iloc[row,:],\n",
    "    link='logit',\n",
    ")"
   ]
  },
  {
   "cell_type": "code",
   "execution_count": null,
   "id": "fdb8a596",
   "metadata": {
    "scrolled": false
   },
   "outputs": [],
   "source": [
    "y_test.iloc[row], y_pred[row]"
   ]
  },
  {
   "cell_type": "code",
   "execution_count": null,
   "id": "0138161c",
   "metadata": {
    "scrolled": false
   },
   "outputs": [],
   "source": [
    "y_pred[y_pred==1].shape[0] / y_pred.shape[0]"
   ]
  },
  {
   "cell_type": "code",
   "execution_count": null,
   "id": "0b77c908",
   "metadata": {},
   "outputs": [],
   "source": [
    "shap.plots.bar(\n",
    "    explainer(X_test),\n",
    "#    show=False,\n",
    "    max_display=15,\n",
    ")\n",
    "\n",
    "# plt.savefig(\n",
    "#     Path(IMAGE_OUT, 'shap_bar_plot.png'),\n",
    "#     dpi=300,\n",
    "#     bbox_inches='tight',\n",
    "# )"
   ]
  },
  {
   "cell_type": "markdown",
   "id": "8bc7e840",
   "metadata": {},
   "source": [
    "## Confusion matrix"
   ]
  },
  {
   "cell_type": "code",
   "execution_count": null,
   "id": "31e358ab",
   "metadata": {},
   "outputs": [],
   "source": [
    "import seaborn as sns\n",
    "\n",
    "conf_matrix = confusion_matrix(y_test, y_pred, normalize='true')\n",
    "\n",
    "plt.figure(figsize=(8, 8))\n",
    "\n",
    "sns.set(font_scale=1.5)\n",
    "\n",
    "sns.heatmap(\n",
    "    conf_matrix,\n",
    "    annot=True,\n",
    "    fmt='.2f',\n",
    "    cmap='Blues',\n",
    "    cbar=False,\n",
    "    xticklabels=['TID not predicted', 'TID predicted'],\n",
    "    yticklabels=['TID doesn\\'t occur', 'TID occurs'],\n",
    ")\n",
    "\n",
    "# plt.savefig(\n",
    "#     Path(IMAGE_OUT, f'confusion_matrix.png', dpi=500, bbox_inches='tight')\n",
    "# )\n",
    "\n",
    "plt.show()"
   ]
  },
  {
   "cell_type": "markdown",
   "id": "1b67ca9e",
   "metadata": {},
   "source": [
    "## Evaluation of classification"
   ]
  },
  {
   "cell_type": "code",
   "execution_count": null,
   "id": "3f6c4b0f",
   "metadata": {},
   "outputs": [],
   "source": [
    "df_eval = X_test.copy(deep=True)\n",
    "df_eval['true'] = y_test\n",
    "df_eval['pred'] = cat_model.predict(X_test)\n",
    "df_eval['pred_proba'] = cat_model.predict_proba(X_test)[:,1]"
   ]
  },
  {
   "cell_type": "code",
   "execution_count": null,
   "id": "6a1a2887",
   "metadata": {},
   "outputs": [],
   "source": [
    "f1_score(\n",
    "    df_eval['true'],\n",
    "    df_eval['pred'],\n",
    ").round(3)"
   ]
  },
  {
   "cell_type": "markdown",
   "id": "0a39ffe1",
   "metadata": {},
   "source": [
    "### ROC curve"
   ]
  },
  {
   "cell_type": "code",
   "execution_count": null,
   "id": "1bd59b69",
   "metadata": {},
   "outputs": [],
   "source": [
    "fpr, tpr, thresholds = roc_curve(\n",
    "    df_eval['true'],\n",
    "    df_eval['pred_proba'],\n",
    ")"
   ]
  },
  {
   "cell_type": "code",
   "execution_count": null,
   "id": "4bf536f2",
   "metadata": {},
   "outputs": [],
   "source": [
    "roc_auc = roc_auc_score(\n",
    "    df_eval['true'],\n",
    "    df_eval['pred_proba'],\n",
    ")"
   ]
  },
  {
   "cell_type": "code",
   "execution_count": null,
   "id": "387a6e02",
   "metadata": {
    "scrolled": false
   },
   "outputs": [],
   "source": [
    "fig = px.scatter(x=fpr, y=tpr)\n",
    "\n",
    "fig.update_layout(\n",
    "    height=700,\n",
    "    width=800,\n",
    "    autosize=False,\n",
    "    shapes=[\n",
    "        dict(\n",
    "            type='line',\n",
    "            x0=0,\n",
    "            y0=0,\n",
    "            x1=1,\n",
    "            y1=1,\n",
    "            line=dict(color='navy', width=2, dash='dash'),\n",
    "        )\n",
    "    ],\n",
    "    title=f'ROC Curve (ROC-AUC: <b>{roc_auc:.2f}</b>)',\n",
    "    xaxis=dict(title='False Positive Rate'),\n",
    "    yaxis=dict(title='True Positive Rate'),\n",
    "    template='ggplot2',\n",
    ")\n",
    "\n",
    "# fig.write_html(\n",
    "#     Path(IMAGE_OUT,f'plot_roc_curve.html')\n",
    "# )\n",
    "\n",
    "fig.show()"
   ]
  },
  {
   "cell_type": "markdown",
   "id": "ca73d429",
   "metadata": {},
   "source": [
    "### PR curve"
   ]
  },
  {
   "cell_type": "code",
   "execution_count": null,
   "id": "ec44f943",
   "metadata": {},
   "outputs": [],
   "source": [
    "p, r, t = precision_recall_curve(\n",
    "    df_eval['true'],\n",
    "    df_eval['pred_proba'],\n",
    "    drop_intermediate=True\n",
    ")"
   ]
  },
  {
   "cell_type": "code",
   "execution_count": null,
   "id": "bd8b6fc0",
   "metadata": {},
   "outputs": [],
   "source": [
    "pr_auc = auc(r, p)"
   ]
  },
  {
   "cell_type": "code",
   "execution_count": null,
   "id": "cd4eb3de",
   "metadata": {},
   "outputs": [],
   "source": [
    "f1_scores = 2 * (p*r) / (p+r)\n",
    "thr_f1_max = t[np.argmax(f1_scores)]\n",
    "\n",
    "print(\n",
    "    f'{np.round(thr_f1_max, 3)} is the threshold that maximises F1-score to {np.round(f1_scores[np.argmax(f1_scores)], 3)}'\n",
    ")"
   ]
  },
  {
   "cell_type": "code",
   "execution_count": null,
   "id": "b7e2672f",
   "metadata": {},
   "outputs": [],
   "source": [
    "np.where(np.logical_and(p>=0.80, p<0.8001))"
   ]
  },
  {
   "cell_type": "code",
   "execution_count": null,
   "id": "a8439b64",
   "metadata": {},
   "outputs": [],
   "source": [
    "idx = 5872\n",
    "thr_p_80 = t[idx]\n",
    "\n",
    "print(\n",
    "    f'{thr_p_80.round(3)} is the threshold that gives a precision of {p[idx].round(3)} (recall: {r[idx].round(3)} | F1-score: {f1_scores[idx].round(3)})'\n",
    ")"
   ]
  },
  {
   "cell_type": "code",
   "execution_count": null,
   "id": "21676550",
   "metadata": {},
   "outputs": [],
   "source": [
    "np.where(np.logical_and(r>=0.60, r<0.6005))"
   ]
  },
  {
   "cell_type": "code",
   "execution_count": null,
   "id": "f2976aac",
   "metadata": {},
   "outputs": [],
   "source": [
    "idx = 3424\n",
    "thr_r_60 = t[idx]\n",
    "\n",
    "print(\n",
    "    f'{thr_r_60.round(3)} is the threshold that gives a recall of {r[idx].round(3)} (precision: {p[idx].round(3)} | F1-score: {f1_scores[idx].round(3)})'\n",
    ")"
   ]
  },
  {
   "cell_type": "code",
   "execution_count": null,
   "id": "fa8c67e6",
   "metadata": {},
   "outputs": [],
   "source": [
    "thr_f1_max.round(3), thr_p_80.round(3), thr_r_60.round(3)"
   ]
  },
  {
   "cell_type": "code",
   "execution_count": null,
   "id": "7e8c0a2c",
   "metadata": {},
   "outputs": [],
   "source": [
    "df_eval['pred_f1_max'] = np.where(\n",
    "    df_eval['pred_proba'].gt(thr_f1_max),\n",
    "    1,\n",
    "    0,\n",
    ")"
   ]
  },
  {
   "cell_type": "code",
   "execution_count": null,
   "id": "42e63081",
   "metadata": {},
   "outputs": [],
   "source": [
    "df_eval['pred_p_80'] = np.where(\n",
    "    df_eval['pred_proba'].gt(thr_p_80),\n",
    "    1,\n",
    "    0,\n",
    ")"
   ]
  },
  {
   "cell_type": "code",
   "execution_count": null,
   "id": "fe62d9dd",
   "metadata": {},
   "outputs": [],
   "source": [
    "df_eval['pred_r_60'] = np.where(\n",
    "    df_eval['pred_proba'].gt(thr_r_60),\n",
    "    1,\n",
    "    0,\n",
    ")"
   ]
  },
  {
   "cell_type": "code",
   "execution_count": null,
   "id": "a780c124",
   "metadata": {},
   "outputs": [],
   "source": [
    "# df_eval.to_pickle(Path(DATA_OUT, 'df_eval.pickle'))"
   ]
  },
  {
   "cell_type": "code",
   "execution_count": null,
   "id": "a26fdff5",
   "metadata": {},
   "outputs": [],
   "source": [
    "fig = px.scatter(x=r, y=p)\n",
    "\n",
    "fig.add_shape(\n",
    "    type='line',\n",
    "    x0=0,\n",
    "    y0=1,\n",
    "    x1=1,\n",
    "    y1=0,\n",
    "    line=dict(color='navy', width=2, dash='dash'),\n",
    ")\n",
    "\n",
    "fig.add_shape(\n",
    "    type='line',\n",
    "    x0=r[idx],\n",
    "    y0=0,\n",
    "    x1=r[idx],\n",
    "    y1=p[idx],\n",
    "    line=dict(color='red', width=2, dash='dash'),\n",
    ")\n",
    "\n",
    "fig.add_shape(\n",
    "    type='line',\n",
    "    x0=0,\n",
    "    y0=p[idx],\n",
    "    x1=r[idx],\n",
    "    y1=p[idx],\n",
    "    line=dict(color='red', width=2, dash='dash'),\n",
    ")\n",
    "\n",
    "DOT_SIZE = 15\n",
    "fig.add_trace(\n",
    "    go.Scatter(\n",
    "        x=[r[idx]],\n",
    "        y=[p[idx]],\n",
    "        mode='markers',\n",
    "        marker=dict(color='red', size=DOT_SIZE),\n",
    "        showlegend=False,\n",
    "    )\n",
    ")\n",
    "\n",
    "fig.update_layout(\n",
    "    height=700,\n",
    "    width=800,\n",
    "    autosize=False,\n",
    "    title=f'PR Curve (PR-AUC: <b>{pr_auc:.2f}</b>)',\n",
    "    xaxis=dict(title='Recall'),\n",
    "    yaxis=dict(title='Precision'),\n",
    "    template='ggplot2',\n",
    ")\n",
    "\n",
    "# fig.write_html(\n",
    "#     Path(IMAGE_OUT,f'plot_pr_curve.html')\n",
    "# )\n",
    "\n",
    "fig.show()"
   ]
  },
  {
   "cell_type": "markdown",
   "id": "d89ae796",
   "metadata": {},
   "source": [
    "## Calibration curve"
   ]
  },
  {
   "cell_type": "code",
   "execution_count": null,
   "id": "9b2d2285",
   "metadata": {},
   "outputs": [],
   "source": [
    "prob_true, prob_pred = calibration_curve(\n",
    "    df_eval['true'],\n",
    "    df_eval['pred_proba'],\n",
    "    n_bins=10,\n",
    ")"
   ]
  },
  {
   "cell_type": "code",
   "execution_count": null,
   "id": "04bdcfaf",
   "metadata": {},
   "outputs": [],
   "source": [
    "fig = px.line(\n",
    "    x=prob_pred,\n",
    "    y=prob_true,\n",
    "    markers=True,\n",
    ")\n",
    "\n",
    "fig.add_shape(\n",
    "    type='line',\n",
    "    x0=0,\n",
    "    y0=0,\n",
    "    x1=1,\n",
    "    y1=1,\n",
    "    line=dict(color='red', width=2, dash='dash'),\n",
    "    name='Perfectly calibrated',\n",
    "    showlegend=True,\n",
    ")\n",
    "\n",
    "fig.add_trace(\n",
    "    go.Histogram(\n",
    "        x=df_eval['pred_proba'],\n",
    "        yaxis='y2',\n",
    "        opacity=0.3,\n",
    "        showlegend=False,\n",
    "        nbinsx=25,\n",
    "    )\n",
    ")\n",
    "\n",
    "fig.update_layout(\n",
    "    xaxis_title='Mean predicted probability',\n",
    "    yaxis_title='Fraction of positives',\n",
    "    yaxis2=dict(\n",
    "        title='Count of samples',\n",
    "        overlaying='y',\n",
    "        side='right'\n",
    "    )\n",
    ")\n",
    "\n",
    "fig.show()"
   ]
  },
  {
   "cell_type": "code",
   "execution_count": null,
   "id": "8b6f995e",
   "metadata": {},
   "outputs": [],
   "source": [
    "from sklearn.metrics import brier_score_loss"
   ]
  },
  {
   "cell_type": "code",
   "execution_count": null,
   "id": "75c6cc39",
   "metadata": {},
   "outputs": [],
   "source": [
    "brier_score_loss(\n",
    "    y_test,\n",
    "    cat_model.predict_proba(X_test)[:,1]\n",
    ").round(3)"
   ]
  },
  {
   "cell_type": "markdown",
   "id": "4787f7ac",
   "metadata": {},
   "source": [
    "## Plot features vs target"
   ]
  },
  {
   "cell_type": "code",
   "execution_count": null,
   "id": "5ad8f9c6",
   "metadata": {},
   "outputs": [],
   "source": [
    "# from src.preprocess import resample_time_series\n",
    "# \n",
    "# df_tid_30 = resample_time_series(df_tid, 'median')"
   ]
  },
  {
   "cell_type": "code",
   "execution_count": null,
   "id": "aea8c1c6",
   "metadata": {},
   "outputs": [],
   "source": [
    "period = '2022-01'\n",
    "\n",
    "df_plt = df_eval.loc[\n",
    "    f'{period}',\n",
    "    ['hf','iu_mav_3h','smr','true','pred']\n",
    "]\n",
    "\n",
    "n_cols = len(df_plt.columns)\n",
    "\n",
    "fig = make_subplots(\n",
    "    rows=n_cols,\n",
    "    cols=1,\n",
    "    shared_xaxes=True,\n",
    "    vertical_spacing=0.04,\n",
    "    subplot_titles=df_plt.columns,\n",
    ")\n",
    "\n",
    "for i, col in enumerate(df_plt.columns, start=1):\n",
    "    fig.add_trace(\n",
    "        go.Scatter(\n",
    "            x=df_plt[col].index,\n",
    "            y=df_plt[col].values,\n",
    "            name=col,\n",
    "        ),\n",
    "        row=i,\n",
    "        col=1,\n",
    "    )\n",
    "    \n",
    "fig.update_layout(\n",
    "    template='plotly_white',\n",
    "    height=800,\n",
    "    width=1_000,\n",
    "    autosize=False,\n",
    "    title=f'Period: <b>{period}</b>',\n",
    ")\n",
    "\n",
    "fig.show()\n",
    "\n",
    "# fig.write_html(\n",
    "#     Path(IMAGE_OUT,f'plot_features_target_{period}.html')\n",
    "# )"
   ]
  }
 ],
 "metadata": {
  "kernelspec": {
   "display_name": "Python 3 (ipykernel)",
   "language": "python",
   "name": "python3"
  },
  "language_info": {
   "codemirror_mode": {
    "name": "ipython",
    "version": 3
   },
   "file_extension": ".py",
   "mimetype": "text/x-python",
   "name": "python",
   "nbconvert_exporter": "python",
   "pygments_lexer": "ipython3",
   "version": "3.10.8"
  }
 },
 "nbformat": 4,
 "nbformat_minor": 5
}
